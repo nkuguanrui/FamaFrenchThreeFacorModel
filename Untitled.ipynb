{
 "cells": [
  {
   "cell_type": "markdown",
   "metadata": {},
   "source": [
    "导入所需要的python库"
   ]
  },
  {
   "cell_type": "code",
   "execution_count": 2,
   "metadata": {},
   "outputs": [],
   "source": [
    "import pandas as pd \n",
    "import numpy as np\n",
    "import copy\n",
    "import matplotlib.pyplot as plt\n",
    "%matplotlib inline\n",
    "plt.rcParams['figure.figsize'] = (16.0, 9.0)"
   ]
  },
  {
   "cell_type": "markdown",
   "metadata": {},
   "source": [
    "读入数据，其中\n",
    "\n",
    "price包含价格（price），股本数（shaout）,所属交易所（EXCHCD）\n",
    "\n",
    "value包含每股账面价值（bkvlps）\n",
    "\n",
    "rf包含每月的无风险收益率（CRSP算好了的）（ave_1）"
   ]
  },
  {
   "cell_type": "code",
   "execution_count": 3,
   "metadata": {},
   "outputs": [],
   "source": [
    "price = pd.read_csv('price.csv',usecols=['PERMNO','date','PRC','SHROUT','EXCHCD'])\n",
    "value = pd.read_csv('book.csv',usecols=['LPERMNO','datadate','bkvlps'])\n",
    "rf = pd.read_csv('rf.csv',usecols=['qdate','ave_1'])"
   ]
  },
  {
   "cell_type": "code",
   "execution_count": 4,
   "metadata": {},
   "outputs": [
    {
     "data": {
      "text/html": [
       "<div>\n",
       "<style scoped>\n",
       "    .dataframe tbody tr th:only-of-type {\n",
       "        vertical-align: middle;\n",
       "    }\n",
       "\n",
       "    .dataframe tbody tr th {\n",
       "        vertical-align: top;\n",
       "    }\n",
       "\n",
       "    .dataframe thead th {\n",
       "        text-align: right;\n",
       "    }\n",
       "</style>\n",
       "<table border=\"1\" class=\"dataframe\">\n",
       "  <thead>\n",
       "    <tr style=\"text-align: right;\">\n",
       "      <th></th>\n",
       "      <th>qdate</th>\n",
       "      <th>ave_1</th>\n",
       "    </tr>\n",
       "  </thead>\n",
       "  <tbody>\n",
       "    <tr>\n",
       "      <th>0</th>\n",
       "      <td>19630131</td>\n",
       "      <td>2.929</td>\n",
       "    </tr>\n",
       "    <tr>\n",
       "      <th>1</th>\n",
       "      <td>19630228</td>\n",
       "      <td>2.843</td>\n",
       "    </tr>\n",
       "    <tr>\n",
       "      <th>2</th>\n",
       "      <td>19630329</td>\n",
       "      <td>2.853</td>\n",
       "    </tr>\n",
       "    <tr>\n",
       "      <th>3</th>\n",
       "      <td>19630430</td>\n",
       "      <td>2.858</td>\n",
       "    </tr>\n",
       "    <tr>\n",
       "      <th>4</th>\n",
       "      <td>19630531</td>\n",
       "      <td>2.960</td>\n",
       "    </tr>\n",
       "  </tbody>\n",
       "</table>\n",
       "</div>"
      ],
      "text/plain": [
       "      qdate  ave_1\n",
       "0  19630131  2.929\n",
       "1  19630228  2.843\n",
       "2  19630329  2.853\n",
       "3  19630430  2.858\n",
       "4  19630531  2.960"
      ]
     },
     "execution_count": 4,
     "metadata": {},
     "output_type": "execute_result"
    }
   ],
   "source": [
    "rf.head()"
   ]
  },
  {
   "cell_type": "markdown",
   "metadata": {},
   "source": [
    "下面进行数据分析，目的是获得我们需要的数据（bm ratio,mktcap）"
   ]
  },
  {
   "cell_type": "code",
   "execution_count": 5,
   "metadata": {},
   "outputs": [],
   "source": [
    "rf.columns = ['date','rf']"
   ]
  },
  {
   "cell_type": "code",
   "execution_count": 6,
   "metadata": {},
   "outputs": [],
   "source": [
    "rf['date'] = rf['date'].apply(str)\n",
    "rf['date'] = pd.to_datetime(rf['date'])#变成时间序列，便于以后的数据处理"
   ]
  },
  {
   "cell_type": "code",
   "execution_count": 7,
   "metadata": {},
   "outputs": [],
   "source": [
    "rf['year_month'] = rf['date'].dt.to_period('M')"
   ]
  },
  {
   "cell_type": "code",
   "execution_count": 8,
   "metadata": {},
   "outputs": [
    {
     "data": {
      "text/html": [
       "<div>\n",
       "<style scoped>\n",
       "    .dataframe tbody tr th:only-of-type {\n",
       "        vertical-align: middle;\n",
       "    }\n",
       "\n",
       "    .dataframe tbody tr th {\n",
       "        vertical-align: top;\n",
       "    }\n",
       "\n",
       "    .dataframe thead th {\n",
       "        text-align: right;\n",
       "    }\n",
       "</style>\n",
       "<table border=\"1\" class=\"dataframe\">\n",
       "  <thead>\n",
       "    <tr style=\"text-align: right;\">\n",
       "      <th></th>\n",
       "      <th>date</th>\n",
       "      <th>rf</th>\n",
       "      <th>year_month</th>\n",
       "    </tr>\n",
       "  </thead>\n",
       "  <tbody>\n",
       "    <tr>\n",
       "      <th>0</th>\n",
       "      <td>1963-01-31</td>\n",
       "      <td>2.929</td>\n",
       "      <td>1963-01</td>\n",
       "    </tr>\n",
       "    <tr>\n",
       "      <th>1</th>\n",
       "      <td>1963-02-28</td>\n",
       "      <td>2.843</td>\n",
       "      <td>1963-02</td>\n",
       "    </tr>\n",
       "    <tr>\n",
       "      <th>2</th>\n",
       "      <td>1963-03-29</td>\n",
       "      <td>2.853</td>\n",
       "      <td>1963-03</td>\n",
       "    </tr>\n",
       "    <tr>\n",
       "      <th>3</th>\n",
       "      <td>1963-04-30</td>\n",
       "      <td>2.858</td>\n",
       "      <td>1963-04</td>\n",
       "    </tr>\n",
       "    <tr>\n",
       "      <th>4</th>\n",
       "      <td>1963-05-31</td>\n",
       "      <td>2.960</td>\n",
       "      <td>1963-05</td>\n",
       "    </tr>\n",
       "  </tbody>\n",
       "</table>\n",
       "</div>"
      ],
      "text/plain": [
       "        date     rf year_month\n",
       "0 1963-01-31  2.929    1963-01\n",
       "1 1963-02-28  2.843    1963-02\n",
       "2 1963-03-29  2.853    1963-03\n",
       "3 1963-04-30  2.858    1963-04\n",
       "4 1963-05-31  2.960    1963-05"
      ]
     },
     "execution_count": 8,
     "metadata": {},
     "output_type": "execute_result"
    }
   ],
   "source": [
    "rf.head()"
   ]
  },
  {
   "cell_type": "code",
   "execution_count": 9,
   "metadata": {},
   "outputs": [],
   "source": [
    "rf.drop(columns=['date'],inplace=True)"
   ]
  },
  {
   "cell_type": "code",
   "execution_count": 10,
   "metadata": {},
   "outputs": [
    {
     "data": {
      "text/html": [
       "<div>\n",
       "<style scoped>\n",
       "    .dataframe tbody tr th:only-of-type {\n",
       "        vertical-align: middle;\n",
       "    }\n",
       "\n",
       "    .dataframe tbody tr th {\n",
       "        vertical-align: top;\n",
       "    }\n",
       "\n",
       "    .dataframe thead th {\n",
       "        text-align: right;\n",
       "    }\n",
       "</style>\n",
       "<table border=\"1\" class=\"dataframe\">\n",
       "  <thead>\n",
       "    <tr style=\"text-align: right;\">\n",
       "      <th></th>\n",
       "      <th>PERMNO</th>\n",
       "      <th>date</th>\n",
       "      <th>EXCHCD</th>\n",
       "      <th>PRC</th>\n",
       "      <th>SHROUT</th>\n",
       "    </tr>\n",
       "  </thead>\n",
       "  <tbody>\n",
       "    <tr>\n",
       "      <th>0</th>\n",
       "      <td>10000</td>\n",
       "      <td>19851231</td>\n",
       "      <td>NaN</td>\n",
       "      <td>NaN</td>\n",
       "      <td>NaN</td>\n",
       "    </tr>\n",
       "    <tr>\n",
       "      <th>1</th>\n",
       "      <td>10000</td>\n",
       "      <td>19860131</td>\n",
       "      <td>3.0</td>\n",
       "      <td>-4.3750</td>\n",
       "      <td>3680.0</td>\n",
       "    </tr>\n",
       "    <tr>\n",
       "      <th>2</th>\n",
       "      <td>10000</td>\n",
       "      <td>19860228</td>\n",
       "      <td>3.0</td>\n",
       "      <td>-3.2500</td>\n",
       "      <td>3680.0</td>\n",
       "    </tr>\n",
       "    <tr>\n",
       "      <th>3</th>\n",
       "      <td>10000</td>\n",
       "      <td>19860331</td>\n",
       "      <td>3.0</td>\n",
       "      <td>-4.4375</td>\n",
       "      <td>3680.0</td>\n",
       "    </tr>\n",
       "    <tr>\n",
       "      <th>4</th>\n",
       "      <td>10000</td>\n",
       "      <td>19860430</td>\n",
       "      <td>3.0</td>\n",
       "      <td>-4.0000</td>\n",
       "      <td>3793.0</td>\n",
       "    </tr>\n",
       "  </tbody>\n",
       "</table>\n",
       "</div>"
      ],
      "text/plain": [
       "   PERMNO      date  EXCHCD     PRC  SHROUT\n",
       "0   10000  19851231     NaN     NaN     NaN\n",
       "1   10000  19860131     3.0 -4.3750  3680.0\n",
       "2   10000  19860228     3.0 -3.2500  3680.0\n",
       "3   10000  19860331     3.0 -4.4375  3680.0\n",
       "4   10000  19860430     3.0 -4.0000  3793.0"
      ]
     },
     "execution_count": 10,
     "metadata": {},
     "output_type": "execute_result"
    }
   ],
   "source": [
    "price.head()"
   ]
  },
  {
   "cell_type": "code",
   "execution_count": 11,
   "metadata": {},
   "outputs": [],
   "source": [
    "price.columns = ['stock_code','date','exchange_code','price','shares']"
   ]
  },
  {
   "cell_type": "code",
   "execution_count": 12,
   "metadata": {},
   "outputs": [],
   "source": [
    "value.columns = ['stock_code','date','bookvaluepershare']\n",
    "value['date'] = value['date'].apply(str)\n",
    "value['date'] = pd.to_datetime(value['date'])"
   ]
  },
  {
   "cell_type": "code",
   "execution_count": 13,
   "metadata": {},
   "outputs": [],
   "source": [
    "value['year'] = value['date'].dt.year\n",
    "price['date'] = price['date'].apply(str)\n",
    "price['date'] = pd.to_datetime(price['date'])\n",
    "price['year'] = price['date'].dt.year\n",
    "price['year_month'] = price['date'].dt.to_period('M')\n",
    "price['price'] = abs(price['price'])"
   ]
  },
  {
   "cell_type": "code",
   "execution_count": 14,
   "metadata": {},
   "outputs": [
    {
     "data": {
      "text/html": [
       "<div>\n",
       "<style scoped>\n",
       "    .dataframe tbody tr th:only-of-type {\n",
       "        vertical-align: middle;\n",
       "    }\n",
       "\n",
       "    .dataframe tbody tr th {\n",
       "        vertical-align: top;\n",
       "    }\n",
       "\n",
       "    .dataframe thead th {\n",
       "        text-align: right;\n",
       "    }\n",
       "</style>\n",
       "<table border=\"1\" class=\"dataframe\">\n",
       "  <thead>\n",
       "    <tr style=\"text-align: right;\">\n",
       "      <th></th>\n",
       "      <th>stock_code</th>\n",
       "      <th>date</th>\n",
       "      <th>exchange_code</th>\n",
       "      <th>price</th>\n",
       "      <th>shares</th>\n",
       "      <th>year</th>\n",
       "      <th>year_month</th>\n",
       "    </tr>\n",
       "  </thead>\n",
       "  <tbody>\n",
       "    <tr>\n",
       "      <th>0</th>\n",
       "      <td>10000</td>\n",
       "      <td>1985-12-31</td>\n",
       "      <td>NaN</td>\n",
       "      <td>NaN</td>\n",
       "      <td>NaN</td>\n",
       "      <td>1985</td>\n",
       "      <td>1985-12</td>\n",
       "    </tr>\n",
       "    <tr>\n",
       "      <th>1</th>\n",
       "      <td>10000</td>\n",
       "      <td>1986-01-31</td>\n",
       "      <td>3.0</td>\n",
       "      <td>4.3750</td>\n",
       "      <td>3680.0</td>\n",
       "      <td>1986</td>\n",
       "      <td>1986-01</td>\n",
       "    </tr>\n",
       "    <tr>\n",
       "      <th>2</th>\n",
       "      <td>10000</td>\n",
       "      <td>1986-02-28</td>\n",
       "      <td>3.0</td>\n",
       "      <td>3.2500</td>\n",
       "      <td>3680.0</td>\n",
       "      <td>1986</td>\n",
       "      <td>1986-02</td>\n",
       "    </tr>\n",
       "    <tr>\n",
       "      <th>3</th>\n",
       "      <td>10000</td>\n",
       "      <td>1986-03-31</td>\n",
       "      <td>3.0</td>\n",
       "      <td>4.4375</td>\n",
       "      <td>3680.0</td>\n",
       "      <td>1986</td>\n",
       "      <td>1986-03</td>\n",
       "    </tr>\n",
       "    <tr>\n",
       "      <th>4</th>\n",
       "      <td>10000</td>\n",
       "      <td>1986-04-30</td>\n",
       "      <td>3.0</td>\n",
       "      <td>4.0000</td>\n",
       "      <td>3793.0</td>\n",
       "      <td>1986</td>\n",
       "      <td>1986-04</td>\n",
       "    </tr>\n",
       "  </tbody>\n",
       "</table>\n",
       "</div>"
      ],
      "text/plain": [
       "   stock_code       date  exchange_code   price  shares  year year_month\n",
       "0       10000 1985-12-31            NaN     NaN     NaN  1985    1985-12\n",
       "1       10000 1986-01-31            3.0  4.3750  3680.0  1986    1986-01\n",
       "2       10000 1986-02-28            3.0  3.2500  3680.0  1986    1986-02\n",
       "3       10000 1986-03-31            3.0  4.4375  3680.0  1986    1986-03\n",
       "4       10000 1986-04-30            3.0  4.0000  3793.0  1986    1986-04"
      ]
     },
     "execution_count": 14,
     "metadata": {},
     "output_type": "execute_result"
    }
   ],
   "source": [
    "price.head()"
   ]
  },
  {
   "cell_type": "code",
   "execution_count": 15,
   "metadata": {},
   "outputs": [
    {
     "data": {
      "text/html": [
       "<div>\n",
       "<style scoped>\n",
       "    .dataframe tbody tr th:only-of-type {\n",
       "        vertical-align: middle;\n",
       "    }\n",
       "\n",
       "    .dataframe tbody tr th {\n",
       "        vertical-align: top;\n",
       "    }\n",
       "\n",
       "    .dataframe thead th {\n",
       "        text-align: right;\n",
       "    }\n",
       "</style>\n",
       "<table border=\"1\" class=\"dataframe\">\n",
       "  <thead>\n",
       "    <tr style=\"text-align: right;\">\n",
       "      <th></th>\n",
       "      <th>stock_code</th>\n",
       "      <th>date</th>\n",
       "      <th>bookvaluepershare</th>\n",
       "      <th>year</th>\n",
       "    </tr>\n",
       "  </thead>\n",
       "  <tbody>\n",
       "    <tr>\n",
       "      <th>0</th>\n",
       "      <td>25881</td>\n",
       "      <td>1970-12-31</td>\n",
       "      <td>4.3107</td>\n",
       "      <td>1970</td>\n",
       "    </tr>\n",
       "    <tr>\n",
       "      <th>1</th>\n",
       "      <td>25881</td>\n",
       "      <td>1971-12-31</td>\n",
       "      <td>2.7987</td>\n",
       "      <td>1971</td>\n",
       "    </tr>\n",
       "    <tr>\n",
       "      <th>2</th>\n",
       "      <td>25881</td>\n",
       "      <td>1972-12-31</td>\n",
       "      <td>2.4194</td>\n",
       "      <td>1972</td>\n",
       "    </tr>\n",
       "    <tr>\n",
       "      <th>3</th>\n",
       "      <td>25881</td>\n",
       "      <td>1973-12-31</td>\n",
       "      <td>3.0165</td>\n",
       "      <td>1973</td>\n",
       "    </tr>\n",
       "    <tr>\n",
       "      <th>4</th>\n",
       "      <td>25881</td>\n",
       "      <td>1974-12-31</td>\n",
       "      <td>4.5781</td>\n",
       "      <td>1974</td>\n",
       "    </tr>\n",
       "  </tbody>\n",
       "</table>\n",
       "</div>"
      ],
      "text/plain": [
       "   stock_code       date  bookvaluepershare  year\n",
       "0       25881 1970-12-31             4.3107  1970\n",
       "1       25881 1971-12-31             2.7987  1971\n",
       "2       25881 1972-12-31             2.4194  1972\n",
       "3       25881 1973-12-31             3.0165  1973\n",
       "4       25881 1974-12-31             4.5781  1974"
      ]
     },
     "execution_count": 15,
     "metadata": {},
     "output_type": "execute_result"
    }
   ],
   "source": [
    "value.head()"
   ]
  },
  {
   "cell_type": "code",
   "execution_count": 16,
   "metadata": {},
   "outputs": [],
   "source": [
    "#去掉空值（dropna）,na代表空值\n",
    "value.dropna(inplace=True)\n",
    "price.dropna(inplace=True)\n",
    "rf.dropna(inplace=True)"
   ]
  },
  {
   "cell_type": "code",
   "execution_count": 17,
   "metadata": {},
   "outputs": [
    {
     "data": {
      "text/plain": [
       "array([ 3.,  1.,  2., 33., 32., 31.])"
      ]
     },
     "execution_count": 17,
     "metadata": {},
     "output_type": "execute_result"
    }
   ],
   "source": [
    "price['exchange_code'].unique()"
   ]
  },
  {
   "cell_type": "code",
   "execution_count": 18,
   "metadata": {},
   "outputs": [
    {
     "data": {
      "text/html": [
       "<div>\n",
       "<style scoped>\n",
       "    .dataframe tbody tr th:only-of-type {\n",
       "        vertical-align: middle;\n",
       "    }\n",
       "\n",
       "    .dataframe tbody tr th {\n",
       "        vertical-align: top;\n",
       "    }\n",
       "\n",
       "    .dataframe thead th {\n",
       "        text-align: right;\n",
       "    }\n",
       "</style>\n",
       "<table border=\"1\" class=\"dataframe\">\n",
       "  <thead>\n",
       "    <tr style=\"text-align: right;\">\n",
       "      <th></th>\n",
       "      <th>stock_code</th>\n",
       "      <th>date</th>\n",
       "      <th>exchange_code</th>\n",
       "      <th>price</th>\n",
       "      <th>shares</th>\n",
       "      <th>year</th>\n",
       "      <th>year_month</th>\n",
       "    </tr>\n",
       "  </thead>\n",
       "  <tbody>\n",
       "    <tr>\n",
       "      <th>1</th>\n",
       "      <td>10000</td>\n",
       "      <td>1986-01-31</td>\n",
       "      <td>3.0</td>\n",
       "      <td>4.37500</td>\n",
       "      <td>3680.0</td>\n",
       "      <td>1986</td>\n",
       "      <td>1986-01</td>\n",
       "    </tr>\n",
       "    <tr>\n",
       "      <th>2</th>\n",
       "      <td>10000</td>\n",
       "      <td>1986-02-28</td>\n",
       "      <td>3.0</td>\n",
       "      <td>3.25000</td>\n",
       "      <td>3680.0</td>\n",
       "      <td>1986</td>\n",
       "      <td>1986-02</td>\n",
       "    </tr>\n",
       "    <tr>\n",
       "      <th>3</th>\n",
       "      <td>10000</td>\n",
       "      <td>1986-03-31</td>\n",
       "      <td>3.0</td>\n",
       "      <td>4.43750</td>\n",
       "      <td>3680.0</td>\n",
       "      <td>1986</td>\n",
       "      <td>1986-03</td>\n",
       "    </tr>\n",
       "    <tr>\n",
       "      <th>4</th>\n",
       "      <td>10000</td>\n",
       "      <td>1986-04-30</td>\n",
       "      <td>3.0</td>\n",
       "      <td>4.00000</td>\n",
       "      <td>3793.0</td>\n",
       "      <td>1986</td>\n",
       "      <td>1986-04</td>\n",
       "    </tr>\n",
       "    <tr>\n",
       "      <th>5</th>\n",
       "      <td>10000</td>\n",
       "      <td>1986-05-30</td>\n",
       "      <td>3.0</td>\n",
       "      <td>3.10938</td>\n",
       "      <td>3793.0</td>\n",
       "      <td>1986</td>\n",
       "      <td>1986-05</td>\n",
       "    </tr>\n",
       "  </tbody>\n",
       "</table>\n",
       "</div>"
      ],
      "text/plain": [
       "   stock_code       date  exchange_code    price  shares  year year_month\n",
       "1       10000 1986-01-31            3.0  4.37500  3680.0  1986    1986-01\n",
       "2       10000 1986-02-28            3.0  3.25000  3680.0  1986    1986-02\n",
       "3       10000 1986-03-31            3.0  4.43750  3680.0  1986    1986-03\n",
       "4       10000 1986-04-30            3.0  4.00000  3793.0  1986    1986-04\n",
       "5       10000 1986-05-30            3.0  3.10938  3793.0  1986    1986-05"
      ]
     },
     "execution_count": 18,
     "metadata": {},
     "output_type": "execute_result"
    }
   ],
   "source": [
    "price = price.loc[price['exchange_code'].isin([1,2,3]),:]#获取三大交易所的股票\n",
    "price.head()"
   ]
  },
  {
   "cell_type": "code",
   "execution_count": 19,
   "metadata": {},
   "outputs": [
    {
     "data": {
      "text/plain": [
       "array([3., 1., 2.])"
      ]
     },
     "execution_count": 19,
     "metadata": {},
     "output_type": "execute_result"
    }
   ],
   "source": [
    "price['exchange_code'].unique()"
   ]
  },
  {
   "cell_type": "code",
   "execution_count": 20,
   "metadata": {},
   "outputs": [
    {
     "data": {
      "text/html": [
       "<div>\n",
       "<style scoped>\n",
       "    .dataframe tbody tr th:only-of-type {\n",
       "        vertical-align: middle;\n",
       "    }\n",
       "\n",
       "    .dataframe tbody tr th {\n",
       "        vertical-align: top;\n",
       "    }\n",
       "\n",
       "    .dataframe thead th {\n",
       "        text-align: right;\n",
       "    }\n",
       "</style>\n",
       "<table border=\"1\" class=\"dataframe\">\n",
       "  <thead>\n",
       "    <tr style=\"text-align: right;\">\n",
       "      <th></th>\n",
       "      <th>stock_code</th>\n",
       "      <th>date</th>\n",
       "      <th>bookvaluepershare</th>\n",
       "      <th>year</th>\n",
       "    </tr>\n",
       "  </thead>\n",
       "  <tbody>\n",
       "    <tr>\n",
       "      <th>0</th>\n",
       "      <td>25881</td>\n",
       "      <td>1970-12-31</td>\n",
       "      <td>4.3107</td>\n",
       "      <td>1970</td>\n",
       "    </tr>\n",
       "    <tr>\n",
       "      <th>1</th>\n",
       "      <td>25881</td>\n",
       "      <td>1971-12-31</td>\n",
       "      <td>2.7987</td>\n",
       "      <td>1971</td>\n",
       "    </tr>\n",
       "    <tr>\n",
       "      <th>2</th>\n",
       "      <td>25881</td>\n",
       "      <td>1972-12-31</td>\n",
       "      <td>2.4194</td>\n",
       "      <td>1972</td>\n",
       "    </tr>\n",
       "    <tr>\n",
       "      <th>3</th>\n",
       "      <td>25881</td>\n",
       "      <td>1973-12-31</td>\n",
       "      <td>3.0165</td>\n",
       "      <td>1973</td>\n",
       "    </tr>\n",
       "    <tr>\n",
       "      <th>4</th>\n",
       "      <td>25881</td>\n",
       "      <td>1974-12-31</td>\n",
       "      <td>4.5781</td>\n",
       "      <td>1974</td>\n",
       "    </tr>\n",
       "  </tbody>\n",
       "</table>\n",
       "</div>"
      ],
      "text/plain": [
       "   stock_code       date  bookvaluepershare  year\n",
       "0       25881 1970-12-31             4.3107  1970\n",
       "1       25881 1971-12-31             2.7987  1971\n",
       "2       25881 1972-12-31             2.4194  1972\n",
       "3       25881 1973-12-31             3.0165  1973\n",
       "4       25881 1974-12-31             4.5781  1974"
      ]
     },
     "execution_count": 20,
     "metadata": {},
     "output_type": "execute_result"
    }
   ],
   "source": [
    "value.head()"
   ]
  },
  {
   "cell_type": "code",
   "execution_count": 21,
   "metadata": {},
   "outputs": [
    {
     "data": {
      "text/html": [
       "<div>\n",
       "<style scoped>\n",
       "    .dataframe tbody tr th:only-of-type {\n",
       "        vertical-align: middle;\n",
       "    }\n",
       "\n",
       "    .dataframe tbody tr th {\n",
       "        vertical-align: top;\n",
       "    }\n",
       "\n",
       "    .dataframe thead th {\n",
       "        text-align: right;\n",
       "    }\n",
       "</style>\n",
       "<table border=\"1\" class=\"dataframe\">\n",
       "  <thead>\n",
       "    <tr style=\"text-align: right;\">\n",
       "      <th></th>\n",
       "      <th>rf</th>\n",
       "      <th>year_month</th>\n",
       "    </tr>\n",
       "  </thead>\n",
       "  <tbody>\n",
       "    <tr>\n",
       "      <th>0</th>\n",
       "      <td>2.929</td>\n",
       "      <td>1963-01</td>\n",
       "    </tr>\n",
       "    <tr>\n",
       "      <th>1</th>\n",
       "      <td>2.843</td>\n",
       "      <td>1963-02</td>\n",
       "    </tr>\n",
       "    <tr>\n",
       "      <th>2</th>\n",
       "      <td>2.853</td>\n",
       "      <td>1963-03</td>\n",
       "    </tr>\n",
       "    <tr>\n",
       "      <th>3</th>\n",
       "      <td>2.858</td>\n",
       "      <td>1963-04</td>\n",
       "    </tr>\n",
       "    <tr>\n",
       "      <th>4</th>\n",
       "      <td>2.960</td>\n",
       "      <td>1963-05</td>\n",
       "    </tr>\n",
       "  </tbody>\n",
       "</table>\n",
       "</div>"
      ],
      "text/plain": [
       "      rf year_month\n",
       "0  2.929    1963-01\n",
       "1  2.843    1963-02\n",
       "2  2.853    1963-03\n",
       "3  2.858    1963-04\n",
       "4  2.960    1963-05"
      ]
     },
     "execution_count": 21,
     "metadata": {},
     "output_type": "execute_result"
    }
   ],
   "source": [
    "rf.head()"
   ]
  },
  {
   "cell_type": "markdown",
   "metadata": {},
   "source": [
    "下面收益计算bm ratio，我们的计算方法是： \n",
    "\n",
    "每股账面价值（bookvaluepershare）* 股本数（shares）=账面价值(bv)\n",
    "\n",
    "股票价格（price） * 股本数（shares）= 市值（mktcap）\n",
    "\n",
    "bm = bv / mktcap \n"
   ]
  },
  {
   "cell_type": "code",
   "execution_count": 22,
   "metadata": {},
   "outputs": [],
   "source": [
    "# copy.deepcopy() 深拷贝，就是我们通常理解的复制粘贴中的复制而已\n",
    "shares = copy.deepcopy(price.loc[:,['stock_code','exchange_code',\n",
    "                                    'price','shares','year','year_month']])"
   ]
  },
  {
   "cell_type": "code",
   "execution_count": 23,
   "metadata": {},
   "outputs": [
    {
     "data": {
      "text/html": [
       "<div>\n",
       "<style scoped>\n",
       "    .dataframe tbody tr th:only-of-type {\n",
       "        vertical-align: middle;\n",
       "    }\n",
       "\n",
       "    .dataframe tbody tr th {\n",
       "        vertical-align: top;\n",
       "    }\n",
       "\n",
       "    .dataframe thead th {\n",
       "        text-align: right;\n",
       "    }\n",
       "</style>\n",
       "<table border=\"1\" class=\"dataframe\">\n",
       "  <thead>\n",
       "    <tr style=\"text-align: right;\">\n",
       "      <th></th>\n",
       "      <th>stock_code</th>\n",
       "      <th>exchange_code</th>\n",
       "      <th>price</th>\n",
       "      <th>shares</th>\n",
       "      <th>year</th>\n",
       "      <th>year_month</th>\n",
       "    </tr>\n",
       "  </thead>\n",
       "  <tbody>\n",
       "    <tr>\n",
       "      <th>1</th>\n",
       "      <td>10000</td>\n",
       "      <td>3.0</td>\n",
       "      <td>4.37500</td>\n",
       "      <td>3680.0</td>\n",
       "      <td>1986</td>\n",
       "      <td>1986-01</td>\n",
       "    </tr>\n",
       "    <tr>\n",
       "      <th>2</th>\n",
       "      <td>10000</td>\n",
       "      <td>3.0</td>\n",
       "      <td>3.25000</td>\n",
       "      <td>3680.0</td>\n",
       "      <td>1986</td>\n",
       "      <td>1986-02</td>\n",
       "    </tr>\n",
       "    <tr>\n",
       "      <th>3</th>\n",
       "      <td>10000</td>\n",
       "      <td>3.0</td>\n",
       "      <td>4.43750</td>\n",
       "      <td>3680.0</td>\n",
       "      <td>1986</td>\n",
       "      <td>1986-03</td>\n",
       "    </tr>\n",
       "    <tr>\n",
       "      <th>4</th>\n",
       "      <td>10000</td>\n",
       "      <td>3.0</td>\n",
       "      <td>4.00000</td>\n",
       "      <td>3793.0</td>\n",
       "      <td>1986</td>\n",
       "      <td>1986-04</td>\n",
       "    </tr>\n",
       "    <tr>\n",
       "      <th>5</th>\n",
       "      <td>10000</td>\n",
       "      <td>3.0</td>\n",
       "      <td>3.10938</td>\n",
       "      <td>3793.0</td>\n",
       "      <td>1986</td>\n",
       "      <td>1986-05</td>\n",
       "    </tr>\n",
       "  </tbody>\n",
       "</table>\n",
       "</div>"
      ],
      "text/plain": [
       "   stock_code  exchange_code    price  shares  year year_month\n",
       "1       10000            3.0  4.37500  3680.0  1986    1986-01\n",
       "2       10000            3.0  3.25000  3680.0  1986    1986-02\n",
       "3       10000            3.0  4.43750  3680.0  1986    1986-03\n",
       "4       10000            3.0  4.00000  3793.0  1986    1986-04\n",
       "5       10000            3.0  3.10938  3793.0  1986    1986-05"
      ]
     },
     "execution_count": 23,
     "metadata": {},
     "output_type": "execute_result"
    }
   ],
   "source": [
    "shares.head()"
   ]
  },
  {
   "cell_type": "code",
   "execution_count": 24,
   "metadata": {},
   "outputs": [],
   "source": [
    "shares = shares.sort_values(['stock_code','year_month'])"
   ]
  },
  {
   "cell_type": "code",
   "execution_count": 25,
   "metadata": {},
   "outputs": [],
   "source": [
    "shares = shares.groupby(['stock_code','year']).last()\n",
    "shares.reset_index(inplace=True)"
   ]
  },
  {
   "cell_type": "code",
   "execution_count": 26,
   "metadata": {},
   "outputs": [],
   "source": [
    "shares.dropna(inplace=True)"
   ]
  },
  {
   "cell_type": "code",
   "execution_count": 27,
   "metadata": {},
   "outputs": [
    {
     "data": {
      "text/html": [
       "<div>\n",
       "<style scoped>\n",
       "    .dataframe tbody tr th:only-of-type {\n",
       "        vertical-align: middle;\n",
       "    }\n",
       "\n",
       "    .dataframe tbody tr th {\n",
       "        vertical-align: top;\n",
       "    }\n",
       "\n",
       "    .dataframe thead th {\n",
       "        text-align: right;\n",
       "    }\n",
       "</style>\n",
       "<table border=\"1\" class=\"dataframe\">\n",
       "  <thead>\n",
       "    <tr style=\"text-align: right;\">\n",
       "      <th></th>\n",
       "      <th>stock_code</th>\n",
       "      <th>year</th>\n",
       "      <th>exchange_code</th>\n",
       "      <th>price</th>\n",
       "      <th>shares</th>\n",
       "      <th>year_month</th>\n",
       "    </tr>\n",
       "  </thead>\n",
       "  <tbody>\n",
       "    <tr>\n",
       "      <th>0</th>\n",
       "      <td>10000</td>\n",
       "      <td>1986</td>\n",
       "      <td>3.0</td>\n",
       "      <td>0.51563</td>\n",
       "      <td>3843.0</td>\n",
       "      <td>1986-12</td>\n",
       "    </tr>\n",
       "    <tr>\n",
       "      <th>1</th>\n",
       "      <td>10000</td>\n",
       "      <td>1987</td>\n",
       "      <td>3.0</td>\n",
       "      <td>0.21875</td>\n",
       "      <td>3893.0</td>\n",
       "      <td>1987-05</td>\n",
       "    </tr>\n",
       "    <tr>\n",
       "      <th>2</th>\n",
       "      <td>10001</td>\n",
       "      <td>1986</td>\n",
       "      <td>3.0</td>\n",
       "      <td>7.00000</td>\n",
       "      <td>991.0</td>\n",
       "      <td>1986-12</td>\n",
       "    </tr>\n",
       "    <tr>\n",
       "      <th>3</th>\n",
       "      <td>10001</td>\n",
       "      <td>1987</td>\n",
       "      <td>3.0</td>\n",
       "      <td>5.87500</td>\n",
       "      <td>992.0</td>\n",
       "      <td>1987-12</td>\n",
       "    </tr>\n",
       "    <tr>\n",
       "      <th>4</th>\n",
       "      <td>10001</td>\n",
       "      <td>1988</td>\n",
       "      <td>3.0</td>\n",
       "      <td>6.37500</td>\n",
       "      <td>998.0</td>\n",
       "      <td>1988-12</td>\n",
       "    </tr>\n",
       "  </tbody>\n",
       "</table>\n",
       "</div>"
      ],
      "text/plain": [
       "   stock_code  year  exchange_code    price  shares year_month\n",
       "0       10000  1986            3.0  0.51563  3843.0    1986-12\n",
       "1       10000  1987            3.0  0.21875  3893.0    1987-05\n",
       "2       10001  1986            3.0  7.00000   991.0    1986-12\n",
       "3       10001  1987            3.0  5.87500   992.0    1987-12\n",
       "4       10001  1988            3.0  6.37500   998.0    1988-12"
      ]
     },
     "execution_count": 27,
     "metadata": {},
     "output_type": "execute_result"
    }
   ],
   "source": [
    "shares.head()"
   ]
  },
  {
   "cell_type": "code",
   "execution_count": 28,
   "metadata": {},
   "outputs": [],
   "source": [
    "value = value.sort_values(['stock_code','date'])\n",
    "value = value.groupby(['stock_code','year']).last()\n",
    "value.reset_index(inplace=True)#booktovaluepershare 基于每年的财年进行计算的"
   ]
  },
  {
   "cell_type": "code",
   "execution_count": 29,
   "metadata": {},
   "outputs": [
    {
     "data": {
      "text/html": [
       "<div>\n",
       "<style scoped>\n",
       "    .dataframe tbody tr th:only-of-type {\n",
       "        vertical-align: middle;\n",
       "    }\n",
       "\n",
       "    .dataframe tbody tr th {\n",
       "        vertical-align: top;\n",
       "    }\n",
       "\n",
       "    .dataframe thead th {\n",
       "        text-align: right;\n",
       "    }\n",
       "</style>\n",
       "<table border=\"1\" class=\"dataframe\">\n",
       "  <thead>\n",
       "    <tr style=\"text-align: right;\">\n",
       "      <th></th>\n",
       "      <th>stock_code</th>\n",
       "      <th>year</th>\n",
       "      <th>date</th>\n",
       "      <th>bookvaluepershare</th>\n",
       "    </tr>\n",
       "  </thead>\n",
       "  <tbody>\n",
       "    <tr>\n",
       "      <th>0</th>\n",
       "      <td>10000</td>\n",
       "      <td>1986</td>\n",
       "      <td>1986-10-31</td>\n",
       "      <td>0.1088</td>\n",
       "    </tr>\n",
       "    <tr>\n",
       "      <th>1</th>\n",
       "      <td>10001</td>\n",
       "      <td>1986</td>\n",
       "      <td>1986-06-30</td>\n",
       "      <td>5.5147</td>\n",
       "    </tr>\n",
       "    <tr>\n",
       "      <th>2</th>\n",
       "      <td>10001</td>\n",
       "      <td>1987</td>\n",
       "      <td>1987-06-30</td>\n",
       "      <td>5.4178</td>\n",
       "    </tr>\n",
       "    <tr>\n",
       "      <th>3</th>\n",
       "      <td>10001</td>\n",
       "      <td>1988</td>\n",
       "      <td>1988-06-30</td>\n",
       "      <td>5.5565</td>\n",
       "    </tr>\n",
       "    <tr>\n",
       "      <th>4</th>\n",
       "      <td>10001</td>\n",
       "      <td>1989</td>\n",
       "      <td>1989-06-30</td>\n",
       "      <td>6.3147</td>\n",
       "    </tr>\n",
       "  </tbody>\n",
       "</table>\n",
       "</div>"
      ],
      "text/plain": [
       "   stock_code  year       date  bookvaluepershare\n",
       "0       10000  1986 1986-10-31             0.1088\n",
       "1       10001  1986 1986-06-30             5.5147\n",
       "2       10001  1987 1987-06-30             5.4178\n",
       "3       10001  1988 1988-06-30             5.5565\n",
       "4       10001  1989 1989-06-30             6.3147"
      ]
     },
     "execution_count": 29,
     "metadata": {},
     "output_type": "execute_result"
    }
   ],
   "source": [
    "value.head()"
   ]
  },
  {
   "cell_type": "code",
   "execution_count": 30,
   "metadata": {},
   "outputs": [],
   "source": [
    "shares.drop(columns=['year_month'],inplace=True)\n",
    "value.drop(columns=['date'],inplace=True)"
   ]
  },
  {
   "cell_type": "code",
   "execution_count": 31,
   "metadata": {},
   "outputs": [],
   "source": [
    "bm_df = pd.merge(shares,value,on=['stock_code','year'])"
   ]
  },
  {
   "cell_type": "code",
   "execution_count": 32,
   "metadata": {},
   "outputs": [],
   "source": [
    "bm_df['bv'] = bm_df['bookvaluepershare']*bm_df['shares']*1000#数据库中的股数它除了1000"
   ]
  },
  {
   "cell_type": "code",
   "execution_count": 33,
   "metadata": {},
   "outputs": [],
   "source": [
    "bm_df['mktcap'] = bm_df['price']*bm_df['shares']*1000"
   ]
  },
  {
   "cell_type": "code",
   "execution_count": 34,
   "metadata": {},
   "outputs": [],
   "source": [
    "bm_df.drop(columns=['bookvaluepershare','price'],inplace=True)"
   ]
  },
  {
   "cell_type": "code",
   "execution_count": 35,
   "metadata": {},
   "outputs": [],
   "source": [
    "bm_df.drop(columns=['shares'],inplace=True)"
   ]
  },
  {
   "cell_type": "code",
   "execution_count": 36,
   "metadata": {},
   "outputs": [],
   "source": [
    "bm_df['bm'] = bm_df['bv']/bm_df['mktcap']\n",
    "bm_df.drop(columns=['bv'],inplace=True)"
   ]
  },
  {
   "cell_type": "code",
   "execution_count": 37,
   "metadata": {
    "scrolled": true
   },
   "outputs": [
    {
     "data": {
      "text/html": [
       "<div>\n",
       "<style scoped>\n",
       "    .dataframe tbody tr th:only-of-type {\n",
       "        vertical-align: middle;\n",
       "    }\n",
       "\n",
       "    .dataframe tbody tr th {\n",
       "        vertical-align: top;\n",
       "    }\n",
       "\n",
       "    .dataframe thead th {\n",
       "        text-align: right;\n",
       "    }\n",
       "</style>\n",
       "<table border=\"1\" class=\"dataframe\">\n",
       "  <thead>\n",
       "    <tr style=\"text-align: right;\">\n",
       "      <th></th>\n",
       "      <th>stock_code</th>\n",
       "      <th>year</th>\n",
       "      <th>exchange_code</th>\n",
       "      <th>bm</th>\n",
       "    </tr>\n",
       "  </thead>\n",
       "  <tbody>\n",
       "    <tr>\n",
       "      <th>0</th>\n",
       "      <td>10000</td>\n",
       "      <td>1986</td>\n",
       "      <td>3.0</td>\n",
       "      <td>0.211004</td>\n",
       "    </tr>\n",
       "    <tr>\n",
       "      <th>1</th>\n",
       "      <td>10001</td>\n",
       "      <td>1986</td>\n",
       "      <td>3.0</td>\n",
       "      <td>0.787814</td>\n",
       "    </tr>\n",
       "    <tr>\n",
       "      <th>2</th>\n",
       "      <td>10001</td>\n",
       "      <td>1987</td>\n",
       "      <td>3.0</td>\n",
       "      <td>0.922179</td>\n",
       "    </tr>\n",
       "    <tr>\n",
       "      <th>3</th>\n",
       "      <td>10001</td>\n",
       "      <td>1988</td>\n",
       "      <td>3.0</td>\n",
       "      <td>0.871608</td>\n",
       "    </tr>\n",
       "    <tr>\n",
       "      <th>4</th>\n",
       "      <td>10001</td>\n",
       "      <td>1989</td>\n",
       "      <td>3.0</td>\n",
       "      <td>0.623674</td>\n",
       "    </tr>\n",
       "  </tbody>\n",
       "</table>\n",
       "</div>"
      ],
      "text/plain": [
       "   stock_code  year  exchange_code        bm\n",
       "0       10000  1986            3.0  0.211004\n",
       "1       10001  1986            3.0  0.787814\n",
       "2       10001  1987            3.0  0.922179\n",
       "3       10001  1988            3.0  0.871608\n",
       "4       10001  1989            3.0  0.623674"
      ]
     },
     "execution_count": 37,
     "metadata": {},
     "output_type": "execute_result"
    }
   ],
   "source": [
    "bm_df.drop(columns=['mktcap'],inplace=True)\n",
    "bm_df.head()"
   ]
  },
  {
   "cell_type": "code",
   "execution_count": 38,
   "metadata": {},
   "outputs": [],
   "source": [
    "mktcap_df = copy.deepcopy(price.loc[:,['stock_code','exchange_code',\n",
    "                                    'price','shares','year_month']])"
   ]
  },
  {
   "cell_type": "code",
   "execution_count": 39,
   "metadata": {},
   "outputs": [],
   "source": [
    "mktcap_df.dropna(inplace=True)\n",
    "mktcap_df['mktcap'] = mktcap_df['price']*mktcap_df['shares']*1000\n",
    "mktcap_df.drop(columns=['price','shares'],inplace=True)"
   ]
  },
  {
   "cell_type": "code",
   "execution_count": 40,
   "metadata": {},
   "outputs": [
    {
     "data": {
      "text/html": [
       "<div>\n",
       "<style scoped>\n",
       "    .dataframe tbody tr th:only-of-type {\n",
       "        vertical-align: middle;\n",
       "    }\n",
       "\n",
       "    .dataframe tbody tr th {\n",
       "        vertical-align: top;\n",
       "    }\n",
       "\n",
       "    .dataframe thead th {\n",
       "        text-align: right;\n",
       "    }\n",
       "</style>\n",
       "<table border=\"1\" class=\"dataframe\">\n",
       "  <thead>\n",
       "    <tr style=\"text-align: right;\">\n",
       "      <th></th>\n",
       "      <th>stock_code</th>\n",
       "      <th>exchange_code</th>\n",
       "      <th>year_month</th>\n",
       "      <th>mktcap</th>\n",
       "    </tr>\n",
       "  </thead>\n",
       "  <tbody>\n",
       "    <tr>\n",
       "      <th>1</th>\n",
       "      <td>10000</td>\n",
       "      <td>3.0</td>\n",
       "      <td>1986-01</td>\n",
       "      <td>16100000.00</td>\n",
       "    </tr>\n",
       "    <tr>\n",
       "      <th>2</th>\n",
       "      <td>10000</td>\n",
       "      <td>3.0</td>\n",
       "      <td>1986-02</td>\n",
       "      <td>11960000.00</td>\n",
       "    </tr>\n",
       "    <tr>\n",
       "      <th>3</th>\n",
       "      <td>10000</td>\n",
       "      <td>3.0</td>\n",
       "      <td>1986-03</td>\n",
       "      <td>16330000.00</td>\n",
       "    </tr>\n",
       "    <tr>\n",
       "      <th>4</th>\n",
       "      <td>10000</td>\n",
       "      <td>3.0</td>\n",
       "      <td>1986-04</td>\n",
       "      <td>15172000.00</td>\n",
       "    </tr>\n",
       "    <tr>\n",
       "      <th>5</th>\n",
       "      <td>10000</td>\n",
       "      <td>3.0</td>\n",
       "      <td>1986-05</td>\n",
       "      <td>11793878.34</td>\n",
       "    </tr>\n",
       "  </tbody>\n",
       "</table>\n",
       "</div>"
      ],
      "text/plain": [
       "   stock_code  exchange_code year_month       mktcap\n",
       "1       10000            3.0    1986-01  16100000.00\n",
       "2       10000            3.0    1986-02  11960000.00\n",
       "3       10000            3.0    1986-03  16330000.00\n",
       "4       10000            3.0    1986-04  15172000.00\n",
       "5       10000            3.0    1986-05  11793878.34"
      ]
     },
     "execution_count": 40,
     "metadata": {},
     "output_type": "execute_result"
    }
   ],
   "source": [
    "mktcap_df.head()"
   ]
  },
  {
   "cell_type": "markdown",
   "metadata": {},
   "source": [
    "获取股票收益率"
   ]
  },
  {
   "cell_type": "code",
   "execution_count": 41,
   "metadata": {},
   "outputs": [],
   "source": [
    "ret_df = copy.deepcopy(price.loc[:,['stock_code','price','year_month']])"
   ]
  },
  {
   "cell_type": "code",
   "execution_count": 42,
   "metadata": {},
   "outputs": [],
   "source": [
    "ret_df.dropna(inplace=True)"
   ]
  },
  {
   "cell_type": "code",
   "execution_count": 43,
   "metadata": {},
   "outputs": [
    {
     "data": {
      "text/html": [
       "<div>\n",
       "<style scoped>\n",
       "    .dataframe tbody tr th:only-of-type {\n",
       "        vertical-align: middle;\n",
       "    }\n",
       "\n",
       "    .dataframe tbody tr th {\n",
       "        vertical-align: top;\n",
       "    }\n",
       "\n",
       "    .dataframe thead th {\n",
       "        text-align: right;\n",
       "    }\n",
       "</style>\n",
       "<table border=\"1\" class=\"dataframe\">\n",
       "  <thead>\n",
       "    <tr style=\"text-align: right;\">\n",
       "      <th></th>\n",
       "      <th>stock_code</th>\n",
       "      <th>price</th>\n",
       "      <th>year_month</th>\n",
       "    </tr>\n",
       "  </thead>\n",
       "  <tbody>\n",
       "    <tr>\n",
       "      <th>1</th>\n",
       "      <td>10000</td>\n",
       "      <td>4.37500</td>\n",
       "      <td>1986-01</td>\n",
       "    </tr>\n",
       "    <tr>\n",
       "      <th>2</th>\n",
       "      <td>10000</td>\n",
       "      <td>3.25000</td>\n",
       "      <td>1986-02</td>\n",
       "    </tr>\n",
       "    <tr>\n",
       "      <th>3</th>\n",
       "      <td>10000</td>\n",
       "      <td>4.43750</td>\n",
       "      <td>1986-03</td>\n",
       "    </tr>\n",
       "    <tr>\n",
       "      <th>4</th>\n",
       "      <td>10000</td>\n",
       "      <td>4.00000</td>\n",
       "      <td>1986-04</td>\n",
       "    </tr>\n",
       "    <tr>\n",
       "      <th>5</th>\n",
       "      <td>10000</td>\n",
       "      <td>3.10938</td>\n",
       "      <td>1986-05</td>\n",
       "    </tr>\n",
       "  </tbody>\n",
       "</table>\n",
       "</div>"
      ],
      "text/plain": [
       "   stock_code    price year_month\n",
       "1       10000  4.37500    1986-01\n",
       "2       10000  3.25000    1986-02\n",
       "3       10000  4.43750    1986-03\n",
       "4       10000  4.00000    1986-04\n",
       "5       10000  3.10938    1986-05"
      ]
     },
     "execution_count": 43,
     "metadata": {},
     "output_type": "execute_result"
    }
   ],
   "source": [
    "ret_df.head()"
   ]
  },
  {
   "cell_type": "code",
   "execution_count": 44,
   "metadata": {
    "scrolled": true
   },
   "outputs": [],
   "source": [
    "ret_df['ret'] = ret_df.groupby(['stock_code'])['price'].apply(\n",
    "    lambda x : x/x.shift() - 1)"
   ]
  },
  {
   "cell_type": "code",
   "execution_count": 45,
   "metadata": {},
   "outputs": [
    {
     "data": {
      "text/html": [
       "<div>\n",
       "<style scoped>\n",
       "    .dataframe tbody tr th:only-of-type {\n",
       "        vertical-align: middle;\n",
       "    }\n",
       "\n",
       "    .dataframe tbody tr th {\n",
       "        vertical-align: top;\n",
       "    }\n",
       "\n",
       "    .dataframe thead th {\n",
       "        text-align: right;\n",
       "    }\n",
       "</style>\n",
       "<table border=\"1\" class=\"dataframe\">\n",
       "  <thead>\n",
       "    <tr style=\"text-align: right;\">\n",
       "      <th></th>\n",
       "      <th>stock_code</th>\n",
       "      <th>year_month</th>\n",
       "      <th>ret</th>\n",
       "    </tr>\n",
       "  </thead>\n",
       "  <tbody>\n",
       "    <tr>\n",
       "      <th>2</th>\n",
       "      <td>10000</td>\n",
       "      <td>1986-02</td>\n",
       "      <td>-0.257143</td>\n",
       "    </tr>\n",
       "    <tr>\n",
       "      <th>3</th>\n",
       "      <td>10000</td>\n",
       "      <td>1986-03</td>\n",
       "      <td>0.365385</td>\n",
       "    </tr>\n",
       "    <tr>\n",
       "      <th>4</th>\n",
       "      <td>10000</td>\n",
       "      <td>1986-04</td>\n",
       "      <td>-0.098592</td>\n",
       "    </tr>\n",
       "    <tr>\n",
       "      <th>5</th>\n",
       "      <td>10000</td>\n",
       "      <td>1986-05</td>\n",
       "      <td>-0.222655</td>\n",
       "    </tr>\n",
       "    <tr>\n",
       "      <th>6</th>\n",
       "      <td>10000</td>\n",
       "      <td>1986-06</td>\n",
       "      <td>-0.005027</td>\n",
       "    </tr>\n",
       "  </tbody>\n",
       "</table>\n",
       "</div>"
      ],
      "text/plain": [
       "   stock_code year_month       ret\n",
       "2       10000    1986-02 -0.257143\n",
       "3       10000    1986-03  0.365385\n",
       "4       10000    1986-04 -0.098592\n",
       "5       10000    1986-05 -0.222655\n",
       "6       10000    1986-06 -0.005027"
      ]
     },
     "execution_count": 45,
     "metadata": {},
     "output_type": "execute_result"
    }
   ],
   "source": [
    "ret_df.dropna(inplace=True)\n",
    "ret_df.drop(columns=['price'],inplace=True)\n",
    "ret_df.head()"
   ]
  },
  {
   "cell_type": "code",
   "execution_count": 46,
   "metadata": {},
   "outputs": [],
   "source": [
    "rf['rf'] = rf['rf']/12  "
   ]
  },
  {
   "cell_type": "code",
   "execution_count": 47,
   "metadata": {},
   "outputs": [
    {
     "data": {
      "text/html": [
       "<div>\n",
       "<style scoped>\n",
       "    .dataframe tbody tr th:only-of-type {\n",
       "        vertical-align: middle;\n",
       "    }\n",
       "\n",
       "    .dataframe tbody tr th {\n",
       "        vertical-align: top;\n",
       "    }\n",
       "\n",
       "    .dataframe thead th {\n",
       "        text-align: right;\n",
       "    }\n",
       "</style>\n",
       "<table border=\"1\" class=\"dataframe\">\n",
       "  <thead>\n",
       "    <tr style=\"text-align: right;\">\n",
       "      <th></th>\n",
       "      <th>rf</th>\n",
       "      <th>year_month</th>\n",
       "    </tr>\n",
       "  </thead>\n",
       "  <tbody>\n",
       "    <tr>\n",
       "      <th>0</th>\n",
       "      <td>0.002441</td>\n",
       "      <td>1963-01</td>\n",
       "    </tr>\n",
       "    <tr>\n",
       "      <th>1</th>\n",
       "      <td>0.002369</td>\n",
       "      <td>1963-02</td>\n",
       "    </tr>\n",
       "    <tr>\n",
       "      <th>2</th>\n",
       "      <td>0.002378</td>\n",
       "      <td>1963-03</td>\n",
       "    </tr>\n",
       "    <tr>\n",
       "      <th>3</th>\n",
       "      <td>0.002382</td>\n",
       "      <td>1963-04</td>\n",
       "    </tr>\n",
       "    <tr>\n",
       "      <th>4</th>\n",
       "      <td>0.002467</td>\n",
       "      <td>1963-05</td>\n",
       "    </tr>\n",
       "  </tbody>\n",
       "</table>\n",
       "</div>"
      ],
      "text/plain": [
       "         rf year_month\n",
       "0  0.002441    1963-01\n",
       "1  0.002369    1963-02\n",
       "2  0.002378    1963-03\n",
       "3  0.002382    1963-04\n",
       "4  0.002467    1963-05"
      ]
     },
     "execution_count": 47,
     "metadata": {},
     "output_type": "execute_result"
    }
   ],
   "source": [
    "rf['rf'] = rf['rf']/100\n",
    "rf.head()"
   ]
  },
  {
   "cell_type": "code",
   "execution_count": 48,
   "metadata": {},
   "outputs": [],
   "source": [
    "exret_df = pd.merge(ret_df,rf,on=['year_month'])"
   ]
  },
  {
   "cell_type": "code",
   "execution_count": 49,
   "metadata": {},
   "outputs": [],
   "source": [
    "exret_df.sort_values(['stock_code','year_month'],inplace=True)"
   ]
  },
  {
   "cell_type": "code",
   "execution_count": 50,
   "metadata": {},
   "outputs": [
    {
     "data": {
      "text/html": [
       "<div>\n",
       "<style scoped>\n",
       "    .dataframe tbody tr th:only-of-type {\n",
       "        vertical-align: middle;\n",
       "    }\n",
       "\n",
       "    .dataframe tbody tr th {\n",
       "        vertical-align: top;\n",
       "    }\n",
       "\n",
       "    .dataframe thead th {\n",
       "        text-align: right;\n",
       "    }\n",
       "</style>\n",
       "<table border=\"1\" class=\"dataframe\">\n",
       "  <thead>\n",
       "    <tr style=\"text-align: right;\">\n",
       "      <th></th>\n",
       "      <th>stock_code</th>\n",
       "      <th>year_month</th>\n",
       "      <th>ret</th>\n",
       "      <th>rf</th>\n",
       "      <th>ex_ret</th>\n",
       "    </tr>\n",
       "  </thead>\n",
       "  <tbody>\n",
       "    <tr>\n",
       "      <th>0</th>\n",
       "      <td>10000</td>\n",
       "      <td>1986-02</td>\n",
       "      <td>-0.257143</td>\n",
       "      <td>0.005789</td>\n",
       "      <td>-0.262932</td>\n",
       "    </tr>\n",
       "    <tr>\n",
       "      <th>1</th>\n",
       "      <td>10000</td>\n",
       "      <td>1986-03</td>\n",
       "      <td>0.365385</td>\n",
       "      <td>0.005227</td>\n",
       "      <td>0.360158</td>\n",
       "    </tr>\n",
       "    <tr>\n",
       "      <th>2</th>\n",
       "      <td>10000</td>\n",
       "      <td>1986-04</td>\n",
       "      <td>-0.098592</td>\n",
       "      <td>0.004915</td>\n",
       "      <td>-0.103507</td>\n",
       "    </tr>\n",
       "    <tr>\n",
       "      <th>3</th>\n",
       "      <td>10000</td>\n",
       "      <td>1986-05</td>\n",
       "      <td>-0.222655</td>\n",
       "      <td>0.005127</td>\n",
       "      <td>-0.227782</td>\n",
       "    </tr>\n",
       "    <tr>\n",
       "      <th>4</th>\n",
       "      <td>10000</td>\n",
       "      <td>1986-06</td>\n",
       "      <td>-0.005027</td>\n",
       "      <td>0.004904</td>\n",
       "      <td>-0.009931</td>\n",
       "    </tr>\n",
       "  </tbody>\n",
       "</table>\n",
       "</div>"
      ],
      "text/plain": [
       "   stock_code year_month       ret        rf    ex_ret\n",
       "0       10000    1986-02 -0.257143  0.005789 -0.262932\n",
       "1       10000    1986-03  0.365385  0.005227  0.360158\n",
       "2       10000    1986-04 -0.098592  0.004915 -0.103507\n",
       "3       10000    1986-05 -0.222655  0.005127 -0.227782\n",
       "4       10000    1986-06 -0.005027  0.004904 -0.009931"
      ]
     },
     "execution_count": 50,
     "metadata": {},
     "output_type": "execute_result"
    }
   ],
   "source": [
    "exret_df.reset_index(drop=True,inplace=True)\n",
    "exret_df['ex_ret'] = exret_df['ret'] - exret_df['rf']\n",
    "exret_df.head()"
   ]
  },
  {
   "cell_type": "code",
   "execution_count": 51,
   "metadata": {},
   "outputs": [
    {
     "data": {
      "text/html": [
       "<div>\n",
       "<style scoped>\n",
       "    .dataframe tbody tr th:only-of-type {\n",
       "        vertical-align: middle;\n",
       "    }\n",
       "\n",
       "    .dataframe tbody tr th {\n",
       "        vertical-align: top;\n",
       "    }\n",
       "\n",
       "    .dataframe thead th {\n",
       "        text-align: right;\n",
       "    }\n",
       "</style>\n",
       "<table border=\"1\" class=\"dataframe\">\n",
       "  <thead>\n",
       "    <tr style=\"text-align: right;\">\n",
       "      <th></th>\n",
       "      <th>stock_code</th>\n",
       "      <th>year</th>\n",
       "      <th>exchange_code</th>\n",
       "      <th>bm</th>\n",
       "    </tr>\n",
       "  </thead>\n",
       "  <tbody>\n",
       "    <tr>\n",
       "      <th>0</th>\n",
       "      <td>10000</td>\n",
       "      <td>1986</td>\n",
       "      <td>3.0</td>\n",
       "      <td>0.211004</td>\n",
       "    </tr>\n",
       "    <tr>\n",
       "      <th>1</th>\n",
       "      <td>10001</td>\n",
       "      <td>1986</td>\n",
       "      <td>3.0</td>\n",
       "      <td>0.787814</td>\n",
       "    </tr>\n",
       "    <tr>\n",
       "      <th>2</th>\n",
       "      <td>10001</td>\n",
       "      <td>1987</td>\n",
       "      <td>3.0</td>\n",
       "      <td>0.922179</td>\n",
       "    </tr>\n",
       "    <tr>\n",
       "      <th>3</th>\n",
       "      <td>10001</td>\n",
       "      <td>1988</td>\n",
       "      <td>3.0</td>\n",
       "      <td>0.871608</td>\n",
       "    </tr>\n",
       "    <tr>\n",
       "      <th>4</th>\n",
       "      <td>10001</td>\n",
       "      <td>1989</td>\n",
       "      <td>3.0</td>\n",
       "      <td>0.623674</td>\n",
       "    </tr>\n",
       "  </tbody>\n",
       "</table>\n",
       "</div>"
      ],
      "text/plain": [
       "   stock_code  year  exchange_code        bm\n",
       "0       10000  1986            3.0  0.211004\n",
       "1       10001  1986            3.0  0.787814\n",
       "2       10001  1987            3.0  0.922179\n",
       "3       10001  1988            3.0  0.871608\n",
       "4       10001  1989            3.0  0.623674"
      ]
     },
     "execution_count": 51,
     "metadata": {},
     "output_type": "execute_result"
    }
   ],
   "source": [
    "bm_df.head()"
   ]
  },
  {
   "cell_type": "markdown",
   "metadata": {},
   "source": [
    "将数据合并在一起（收益率。bm ratio size)"
   ]
  },
  {
   "cell_type": "code",
   "execution_count": 52,
   "metadata": {},
   "outputs": [],
   "source": [
    "exret_df['year'] = exret_df['year_month'].dt.year\n",
    "exret_df['month'] = exret_df['year_month'].dt.month"
   ]
  },
  {
   "cell_type": "code",
   "execution_count": 53,
   "metadata": {},
   "outputs": [
    {
     "data": {
      "text/html": [
       "<div>\n",
       "<style scoped>\n",
       "    .dataframe tbody tr th:only-of-type {\n",
       "        vertical-align: middle;\n",
       "    }\n",
       "\n",
       "    .dataframe tbody tr th {\n",
       "        vertical-align: top;\n",
       "    }\n",
       "\n",
       "    .dataframe thead th {\n",
       "        text-align: right;\n",
       "    }\n",
       "</style>\n",
       "<table border=\"1\" class=\"dataframe\">\n",
       "  <thead>\n",
       "    <tr style=\"text-align: right;\">\n",
       "      <th></th>\n",
       "      <th>stock_code</th>\n",
       "      <th>year_month</th>\n",
       "      <th>ret</th>\n",
       "      <th>rf</th>\n",
       "      <th>ex_ret</th>\n",
       "      <th>year</th>\n",
       "      <th>month</th>\n",
       "    </tr>\n",
       "  </thead>\n",
       "  <tbody>\n",
       "    <tr>\n",
       "      <th>0</th>\n",
       "      <td>10000</td>\n",
       "      <td>1986-02</td>\n",
       "      <td>-0.257143</td>\n",
       "      <td>0.005789</td>\n",
       "      <td>-0.262932</td>\n",
       "      <td>1986</td>\n",
       "      <td>2</td>\n",
       "    </tr>\n",
       "    <tr>\n",
       "      <th>1</th>\n",
       "      <td>10000</td>\n",
       "      <td>1986-03</td>\n",
       "      <td>0.365385</td>\n",
       "      <td>0.005227</td>\n",
       "      <td>0.360158</td>\n",
       "      <td>1986</td>\n",
       "      <td>3</td>\n",
       "    </tr>\n",
       "    <tr>\n",
       "      <th>2</th>\n",
       "      <td>10000</td>\n",
       "      <td>1986-04</td>\n",
       "      <td>-0.098592</td>\n",
       "      <td>0.004915</td>\n",
       "      <td>-0.103507</td>\n",
       "      <td>1986</td>\n",
       "      <td>4</td>\n",
       "    </tr>\n",
       "    <tr>\n",
       "      <th>3</th>\n",
       "      <td>10000</td>\n",
       "      <td>1986-05</td>\n",
       "      <td>-0.222655</td>\n",
       "      <td>0.005127</td>\n",
       "      <td>-0.227782</td>\n",
       "      <td>1986</td>\n",
       "      <td>5</td>\n",
       "    </tr>\n",
       "    <tr>\n",
       "      <th>4</th>\n",
       "      <td>10000</td>\n",
       "      <td>1986-06</td>\n",
       "      <td>-0.005027</td>\n",
       "      <td>0.004904</td>\n",
       "      <td>-0.009931</td>\n",
       "      <td>1986</td>\n",
       "      <td>6</td>\n",
       "    </tr>\n",
       "  </tbody>\n",
       "</table>\n",
       "</div>"
      ],
      "text/plain": [
       "   stock_code year_month       ret        rf    ex_ret  year  month\n",
       "0       10000    1986-02 -0.257143  0.005789 -0.262932  1986      2\n",
       "1       10000    1986-03  0.365385  0.005227  0.360158  1986      3\n",
       "2       10000    1986-04 -0.098592  0.004915 -0.103507  1986      4\n",
       "3       10000    1986-05 -0.222655  0.005127 -0.227782  1986      5\n",
       "4       10000    1986-06 -0.005027  0.004904 -0.009931  1986      6"
      ]
     },
     "execution_count": 53,
     "metadata": {},
     "output_type": "execute_result"
    }
   ],
   "source": [
    "exret_df.head()"
   ]
  },
  {
   "cell_type": "code",
   "execution_count": 54,
   "metadata": {},
   "outputs": [],
   "source": [
    "exret_df['bm_date'] = exret_df['year'] - 1"
   ]
  },
  {
   "cell_type": "code",
   "execution_count": 55,
   "metadata": {},
   "outputs": [
    {
     "data": {
      "text/html": [
       "<div>\n",
       "<style scoped>\n",
       "    .dataframe tbody tr th:only-of-type {\n",
       "        vertical-align: middle;\n",
       "    }\n",
       "\n",
       "    .dataframe tbody tr th {\n",
       "        vertical-align: top;\n",
       "    }\n",
       "\n",
       "    .dataframe thead th {\n",
       "        text-align: right;\n",
       "    }\n",
       "</style>\n",
       "<table border=\"1\" class=\"dataframe\">\n",
       "  <thead>\n",
       "    <tr style=\"text-align: right;\">\n",
       "      <th></th>\n",
       "      <th>stock_code</th>\n",
       "      <th>year_month</th>\n",
       "      <th>ret</th>\n",
       "      <th>rf</th>\n",
       "      <th>ex_ret</th>\n",
       "      <th>year</th>\n",
       "      <th>month</th>\n",
       "      <th>bm_date</th>\n",
       "    </tr>\n",
       "  </thead>\n",
       "  <tbody>\n",
       "    <tr>\n",
       "      <th>0</th>\n",
       "      <td>10000</td>\n",
       "      <td>1986-02</td>\n",
       "      <td>-0.257143</td>\n",
       "      <td>0.005789</td>\n",
       "      <td>-0.262932</td>\n",
       "      <td>1986</td>\n",
       "      <td>2</td>\n",
       "      <td>1985</td>\n",
       "    </tr>\n",
       "    <tr>\n",
       "      <th>1</th>\n",
       "      <td>10000</td>\n",
       "      <td>1986-03</td>\n",
       "      <td>0.365385</td>\n",
       "      <td>0.005227</td>\n",
       "      <td>0.360158</td>\n",
       "      <td>1986</td>\n",
       "      <td>3</td>\n",
       "      <td>1985</td>\n",
       "    </tr>\n",
       "    <tr>\n",
       "      <th>2</th>\n",
       "      <td>10000</td>\n",
       "      <td>1986-04</td>\n",
       "      <td>-0.098592</td>\n",
       "      <td>0.004915</td>\n",
       "      <td>-0.103507</td>\n",
       "      <td>1986</td>\n",
       "      <td>4</td>\n",
       "      <td>1985</td>\n",
       "    </tr>\n",
       "    <tr>\n",
       "      <th>3</th>\n",
       "      <td>10000</td>\n",
       "      <td>1986-05</td>\n",
       "      <td>-0.222655</td>\n",
       "      <td>0.005127</td>\n",
       "      <td>-0.227782</td>\n",
       "      <td>1986</td>\n",
       "      <td>5</td>\n",
       "      <td>1985</td>\n",
       "    </tr>\n",
       "    <tr>\n",
       "      <th>4</th>\n",
       "      <td>10000</td>\n",
       "      <td>1986-06</td>\n",
       "      <td>-0.005027</td>\n",
       "      <td>0.004904</td>\n",
       "      <td>-0.009931</td>\n",
       "      <td>1986</td>\n",
       "      <td>6</td>\n",
       "      <td>1985</td>\n",
       "    </tr>\n",
       "  </tbody>\n",
       "</table>\n",
       "</div>"
      ],
      "text/plain": [
       "   stock_code year_month       ret        rf    ex_ret  year  month  bm_date\n",
       "0       10000    1986-02 -0.257143  0.005789 -0.262932  1986      2     1985\n",
       "1       10000    1986-03  0.365385  0.005227  0.360158  1986      3     1985\n",
       "2       10000    1986-04 -0.098592  0.004915 -0.103507  1986      4     1985\n",
       "3       10000    1986-05 -0.222655  0.005127 -0.227782  1986      5     1985\n",
       "4       10000    1986-06 -0.005027  0.004904 -0.009931  1986      6     1985"
      ]
     },
     "execution_count": 55,
     "metadata": {},
     "output_type": "execute_result"
    }
   ],
   "source": [
    "exret_df.head()"
   ]
  },
  {
   "cell_type": "code",
   "execution_count": 56,
   "metadata": {},
   "outputs": [],
   "source": [
    "idx = exret_df['month'].isin([1,2,3,4,5,6])\n",
    "exret_df.loc[idx,'bm_date'] = exret_df.loc[idx,'bm_date'] - 1"
   ]
  },
  {
   "cell_type": "code",
   "execution_count": 57,
   "metadata": {},
   "outputs": [
    {
     "data": {
      "text/html": [
       "<div>\n",
       "<style scoped>\n",
       "    .dataframe tbody tr th:only-of-type {\n",
       "        vertical-align: middle;\n",
       "    }\n",
       "\n",
       "    .dataframe tbody tr th {\n",
       "        vertical-align: top;\n",
       "    }\n",
       "\n",
       "    .dataframe thead th {\n",
       "        text-align: right;\n",
       "    }\n",
       "</style>\n",
       "<table border=\"1\" class=\"dataframe\">\n",
       "  <thead>\n",
       "    <tr style=\"text-align: right;\">\n",
       "      <th></th>\n",
       "      <th>stock_code</th>\n",
       "      <th>year_month</th>\n",
       "      <th>ret</th>\n",
       "      <th>rf</th>\n",
       "      <th>ex_ret</th>\n",
       "      <th>year</th>\n",
       "      <th>month</th>\n",
       "      <th>bm_date</th>\n",
       "    </tr>\n",
       "  </thead>\n",
       "  <tbody>\n",
       "    <tr>\n",
       "      <th>0</th>\n",
       "      <td>10000</td>\n",
       "      <td>1986-02</td>\n",
       "      <td>-0.257143</td>\n",
       "      <td>0.005789</td>\n",
       "      <td>-0.262932</td>\n",
       "      <td>1986</td>\n",
       "      <td>2</td>\n",
       "      <td>1984</td>\n",
       "    </tr>\n",
       "    <tr>\n",
       "      <th>1</th>\n",
       "      <td>10000</td>\n",
       "      <td>1986-03</td>\n",
       "      <td>0.365385</td>\n",
       "      <td>0.005227</td>\n",
       "      <td>0.360158</td>\n",
       "      <td>1986</td>\n",
       "      <td>3</td>\n",
       "      <td>1984</td>\n",
       "    </tr>\n",
       "    <tr>\n",
       "      <th>2</th>\n",
       "      <td>10000</td>\n",
       "      <td>1986-04</td>\n",
       "      <td>-0.098592</td>\n",
       "      <td>0.004915</td>\n",
       "      <td>-0.103507</td>\n",
       "      <td>1986</td>\n",
       "      <td>4</td>\n",
       "      <td>1984</td>\n",
       "    </tr>\n",
       "    <tr>\n",
       "      <th>3</th>\n",
       "      <td>10000</td>\n",
       "      <td>1986-05</td>\n",
       "      <td>-0.222655</td>\n",
       "      <td>0.005127</td>\n",
       "      <td>-0.227782</td>\n",
       "      <td>1986</td>\n",
       "      <td>5</td>\n",
       "      <td>1984</td>\n",
       "    </tr>\n",
       "    <tr>\n",
       "      <th>4</th>\n",
       "      <td>10000</td>\n",
       "      <td>1986-06</td>\n",
       "      <td>-0.005027</td>\n",
       "      <td>0.004904</td>\n",
       "      <td>-0.009931</td>\n",
       "      <td>1986</td>\n",
       "      <td>6</td>\n",
       "      <td>1984</td>\n",
       "    </tr>\n",
       "    <tr>\n",
       "      <th>5</th>\n",
       "      <td>10000</td>\n",
       "      <td>1986-07</td>\n",
       "      <td>-0.080808</td>\n",
       "      <td>0.004693</td>\n",
       "      <td>-0.085501</td>\n",
       "      <td>1986</td>\n",
       "      <td>7</td>\n",
       "      <td>1985</td>\n",
       "    </tr>\n",
       "    <tr>\n",
       "      <th>6</th>\n",
       "      <td>10000</td>\n",
       "      <td>1986-08</td>\n",
       "      <td>-0.615385</td>\n",
       "      <td>0.004268</td>\n",
       "      <td>-0.619653</td>\n",
       "      <td>1986</td>\n",
       "      <td>8</td>\n",
       "      <td>1985</td>\n",
       "    </tr>\n",
       "    <tr>\n",
       "      <th>7</th>\n",
       "      <td>10000</td>\n",
       "      <td>1986-09</td>\n",
       "      <td>-0.057143</td>\n",
       "      <td>0.004259</td>\n",
       "      <td>-0.061402</td>\n",
       "      <td>1986</td>\n",
       "      <td>9</td>\n",
       "      <td>1985</td>\n",
       "    </tr>\n",
       "    <tr>\n",
       "      <th>8</th>\n",
       "      <td>10000</td>\n",
       "      <td>1986-10</td>\n",
       "      <td>-0.242424</td>\n",
       "      <td>0.004268</td>\n",
       "      <td>-0.246693</td>\n",
       "      <td>1986</td>\n",
       "      <td>10</td>\n",
       "      <td>1985</td>\n",
       "    </tr>\n",
       "    <tr>\n",
       "      <th>9</th>\n",
       "      <td>10000</td>\n",
       "      <td>1986-11</td>\n",
       "      <td>0.060006</td>\n",
       "      <td>0.004133</td>\n",
       "      <td>0.055873</td>\n",
       "      <td>1986</td>\n",
       "      <td>11</td>\n",
       "      <td>1985</td>\n",
       "    </tr>\n",
       "  </tbody>\n",
       "</table>\n",
       "</div>"
      ],
      "text/plain": [
       "   stock_code year_month       ret        rf    ex_ret  year  month  bm_date\n",
       "0       10000    1986-02 -0.257143  0.005789 -0.262932  1986      2     1984\n",
       "1       10000    1986-03  0.365385  0.005227  0.360158  1986      3     1984\n",
       "2       10000    1986-04 -0.098592  0.004915 -0.103507  1986      4     1984\n",
       "3       10000    1986-05 -0.222655  0.005127 -0.227782  1986      5     1984\n",
       "4       10000    1986-06 -0.005027  0.004904 -0.009931  1986      6     1984\n",
       "5       10000    1986-07 -0.080808  0.004693 -0.085501  1986      7     1985\n",
       "6       10000    1986-08 -0.615385  0.004268 -0.619653  1986      8     1985\n",
       "7       10000    1986-09 -0.057143  0.004259 -0.061402  1986      9     1985\n",
       "8       10000    1986-10 -0.242424  0.004268 -0.246693  1986     10     1985\n",
       "9       10000    1986-11  0.060006  0.004133  0.055873  1986     11     1985"
      ]
     },
     "execution_count": 57,
     "metadata": {},
     "output_type": "execute_result"
    }
   ],
   "source": [
    "exret_df.head(10)"
   ]
  },
  {
   "cell_type": "code",
   "execution_count": 58,
   "metadata": {},
   "outputs": [],
   "source": [
    "bm_df.rename(columns={'year':'bm_date'},inplace=True)"
   ]
  },
  {
   "cell_type": "code",
   "execution_count": 59,
   "metadata": {},
   "outputs": [
    {
     "data": {
      "text/html": [
       "<div>\n",
       "<style scoped>\n",
       "    .dataframe tbody tr th:only-of-type {\n",
       "        vertical-align: middle;\n",
       "    }\n",
       "\n",
       "    .dataframe tbody tr th {\n",
       "        vertical-align: top;\n",
       "    }\n",
       "\n",
       "    .dataframe thead th {\n",
       "        text-align: right;\n",
       "    }\n",
       "</style>\n",
       "<table border=\"1\" class=\"dataframe\">\n",
       "  <thead>\n",
       "    <tr style=\"text-align: right;\">\n",
       "      <th></th>\n",
       "      <th>stock_code</th>\n",
       "      <th>bm_date</th>\n",
       "      <th>exchange_code</th>\n",
       "      <th>bm</th>\n",
       "    </tr>\n",
       "  </thead>\n",
       "  <tbody>\n",
       "    <tr>\n",
       "      <th>0</th>\n",
       "      <td>10000</td>\n",
       "      <td>1986</td>\n",
       "      <td>3.0</td>\n",
       "      <td>0.211004</td>\n",
       "    </tr>\n",
       "    <tr>\n",
       "      <th>1</th>\n",
       "      <td>10001</td>\n",
       "      <td>1986</td>\n",
       "      <td>3.0</td>\n",
       "      <td>0.787814</td>\n",
       "    </tr>\n",
       "    <tr>\n",
       "      <th>2</th>\n",
       "      <td>10001</td>\n",
       "      <td>1987</td>\n",
       "      <td>3.0</td>\n",
       "      <td>0.922179</td>\n",
       "    </tr>\n",
       "    <tr>\n",
       "      <th>3</th>\n",
       "      <td>10001</td>\n",
       "      <td>1988</td>\n",
       "      <td>3.0</td>\n",
       "      <td>0.871608</td>\n",
       "    </tr>\n",
       "    <tr>\n",
       "      <th>4</th>\n",
       "      <td>10001</td>\n",
       "      <td>1989</td>\n",
       "      <td>3.0</td>\n",
       "      <td>0.623674</td>\n",
       "    </tr>\n",
       "  </tbody>\n",
       "</table>\n",
       "</div>"
      ],
      "text/plain": [
       "   stock_code  bm_date  exchange_code        bm\n",
       "0       10000     1986            3.0  0.211004\n",
       "1       10001     1986            3.0  0.787814\n",
       "2       10001     1987            3.0  0.922179\n",
       "3       10001     1988            3.0  0.871608\n",
       "4       10001     1989            3.0  0.623674"
      ]
     },
     "execution_count": 59,
     "metadata": {},
     "output_type": "execute_result"
    }
   ],
   "source": [
    "bm_df.head()"
   ]
  },
  {
   "cell_type": "code",
   "execution_count": 60,
   "metadata": {
    "scrolled": true
   },
   "outputs": [],
   "source": [
    "sort_df = pd.merge(exret_df,bm_df,on=['stock_code','bm_date'])"
   ]
  },
  {
   "cell_type": "code",
   "execution_count": 61,
   "metadata": {},
   "outputs": [
    {
     "data": {
      "text/html": [
       "<div>\n",
       "<style scoped>\n",
       "    .dataframe tbody tr th:only-of-type {\n",
       "        vertical-align: middle;\n",
       "    }\n",
       "\n",
       "    .dataframe tbody tr th {\n",
       "        vertical-align: top;\n",
       "    }\n",
       "\n",
       "    .dataframe thead th {\n",
       "        text-align: right;\n",
       "    }\n",
       "</style>\n",
       "<table border=\"1\" class=\"dataframe\">\n",
       "  <thead>\n",
       "    <tr style=\"text-align: right;\">\n",
       "      <th></th>\n",
       "      <th>stock_code</th>\n",
       "      <th>year_month</th>\n",
       "      <th>ret</th>\n",
       "      <th>rf</th>\n",
       "      <th>ex_ret</th>\n",
       "      <th>year</th>\n",
       "      <th>month</th>\n",
       "      <th>bm_date</th>\n",
       "      <th>exchange_code</th>\n",
       "      <th>bm</th>\n",
       "    </tr>\n",
       "  </thead>\n",
       "  <tbody>\n",
       "    <tr>\n",
       "      <th>1093616</th>\n",
       "      <td>93316</td>\n",
       "      <td>1991-08</td>\n",
       "      <td>0.027778</td>\n",
       "      <td>0.004422</td>\n",
       "      <td>0.023356</td>\n",
       "      <td>1991</td>\n",
       "      <td>8</td>\n",
       "      <td>1990</td>\n",
       "      <td>3.0</td>\n",
       "      <td>4.071644</td>\n",
       "    </tr>\n",
       "    <tr>\n",
       "      <th>1093617</th>\n",
       "      <td>93316</td>\n",
       "      <td>1991-09</td>\n",
       "      <td>-0.081081</td>\n",
       "      <td>0.004157</td>\n",
       "      <td>-0.085239</td>\n",
       "      <td>1991</td>\n",
       "      <td>9</td>\n",
       "      <td>1990</td>\n",
       "      <td>3.0</td>\n",
       "      <td>4.071644</td>\n",
       "    </tr>\n",
       "    <tr>\n",
       "      <th>1093618</th>\n",
       "      <td>93316</td>\n",
       "      <td>1991-10</td>\n",
       "      <td>0.088235</td>\n",
       "      <td>0.003988</td>\n",
       "      <td>0.084247</td>\n",
       "      <td>1991</td>\n",
       "      <td>10</td>\n",
       "      <td>1990</td>\n",
       "      <td>3.0</td>\n",
       "      <td>4.071644</td>\n",
       "    </tr>\n",
       "    <tr>\n",
       "      <th>1093619</th>\n",
       "      <td>93316</td>\n",
       "      <td>1991-11</td>\n",
       "      <td>0.054054</td>\n",
       "      <td>0.003386</td>\n",
       "      <td>0.050668</td>\n",
       "      <td>1991</td>\n",
       "      <td>11</td>\n",
       "      <td>1990</td>\n",
       "      <td>3.0</td>\n",
       "      <td>4.071644</td>\n",
       "    </tr>\n",
       "    <tr>\n",
       "      <th>1093620</th>\n",
       "      <td>93316</td>\n",
       "      <td>1991-12</td>\n",
       "      <td>-0.102564</td>\n",
       "      <td>0.003098</td>\n",
       "      <td>-0.105662</td>\n",
       "      <td>1991</td>\n",
       "      <td>12</td>\n",
       "      <td>1990</td>\n",
       "      <td>3.0</td>\n",
       "      <td>4.071644</td>\n",
       "    </tr>\n",
       "  </tbody>\n",
       "</table>\n",
       "</div>"
      ],
      "text/plain": [
       "         stock_code year_month       ret        rf    ex_ret  year  month  \\\n",
       "1093616       93316    1991-08  0.027778  0.004422  0.023356  1991      8   \n",
       "1093617       93316    1991-09 -0.081081  0.004157 -0.085239  1991      9   \n",
       "1093618       93316    1991-10  0.088235  0.003988  0.084247  1991     10   \n",
       "1093619       93316    1991-11  0.054054  0.003386  0.050668  1991     11   \n",
       "1093620       93316    1991-12 -0.102564  0.003098 -0.105662  1991     12   \n",
       "\n",
       "         bm_date  exchange_code        bm  \n",
       "1093616     1990            3.0  4.071644  \n",
       "1093617     1990            3.0  4.071644  \n",
       "1093618     1990            3.0  4.071644  \n",
       "1093619     1990            3.0  4.071644  \n",
       "1093620     1990            3.0  4.071644  "
      ]
     },
     "execution_count": 61,
     "metadata": {},
     "output_type": "execute_result"
    }
   ],
   "source": [
    "sort_df.tail()"
   ]
  },
  {
   "cell_type": "code",
   "execution_count": 62,
   "metadata": {},
   "outputs": [],
   "source": [
    "sort_df['mkt_date'] = sort_df['year']\n",
    "idx = sort_df['month'].isin([1,2,3,4,5,6])\n",
    "sort_df.loc[idx,'mkt_date'] = sort_df.loc[idx,'mkt_date'] - 1"
   ]
  },
  {
   "cell_type": "code",
   "execution_count": 63,
   "metadata": {},
   "outputs": [
    {
     "data": {
      "text/html": [
       "<div>\n",
       "<style scoped>\n",
       "    .dataframe tbody tr th:only-of-type {\n",
       "        vertical-align: middle;\n",
       "    }\n",
       "\n",
       "    .dataframe tbody tr th {\n",
       "        vertical-align: top;\n",
       "    }\n",
       "\n",
       "    .dataframe thead th {\n",
       "        text-align: right;\n",
       "    }\n",
       "</style>\n",
       "<table border=\"1\" class=\"dataframe\">\n",
       "  <thead>\n",
       "    <tr style=\"text-align: right;\">\n",
       "      <th></th>\n",
       "      <th>stock_code</th>\n",
       "      <th>year_month</th>\n",
       "      <th>ret</th>\n",
       "      <th>rf</th>\n",
       "      <th>ex_ret</th>\n",
       "      <th>year</th>\n",
       "      <th>month</th>\n",
       "      <th>bm_date</th>\n",
       "      <th>exchange_code</th>\n",
       "      <th>bm</th>\n",
       "      <th>mkt_date</th>\n",
       "    </tr>\n",
       "  </thead>\n",
       "  <tbody>\n",
       "    <tr>\n",
       "      <th>0</th>\n",
       "      <td>10001</td>\n",
       "      <td>1987-07</td>\n",
       "      <td>0.021277</td>\n",
       "      <td>0.004667</td>\n",
       "      <td>0.016609</td>\n",
       "      <td>1987</td>\n",
       "      <td>7</td>\n",
       "      <td>1986</td>\n",
       "      <td>3.0</td>\n",
       "      <td>0.787814</td>\n",
       "      <td>1987</td>\n",
       "    </tr>\n",
       "    <tr>\n",
       "      <th>1</th>\n",
       "      <td>10001</td>\n",
       "      <td>1987-08</td>\n",
       "      <td>0.083333</td>\n",
       "      <td>0.004718</td>\n",
       "      <td>0.078616</td>\n",
       "      <td>1987</td>\n",
       "      <td>8</td>\n",
       "      <td>1986</td>\n",
       "      <td>3.0</td>\n",
       "      <td>0.787814</td>\n",
       "      <td>1987</td>\n",
       "    </tr>\n",
       "    <tr>\n",
       "      <th>2</th>\n",
       "      <td>10001</td>\n",
       "      <td>1987-09</td>\n",
       "      <td>-0.038462</td>\n",
       "      <td>0.005417</td>\n",
       "      <td>-0.043878</td>\n",
       "      <td>1987</td>\n",
       "      <td>9</td>\n",
       "      <td>1986</td>\n",
       "      <td>3.0</td>\n",
       "      <td>0.787814</td>\n",
       "      <td>1987</td>\n",
       "    </tr>\n",
       "    <tr>\n",
       "      <th>3</th>\n",
       "      <td>10001</td>\n",
       "      <td>1987-10</td>\n",
       "      <td>0.020000</td>\n",
       "      <td>0.003353</td>\n",
       "      <td>0.016648</td>\n",
       "      <td>1987</td>\n",
       "      <td>10</td>\n",
       "      <td>1986</td>\n",
       "      <td>3.0</td>\n",
       "      <td>0.787814</td>\n",
       "      <td>1987</td>\n",
       "    </tr>\n",
       "    <tr>\n",
       "      <th>4</th>\n",
       "      <td>10001</td>\n",
       "      <td>1987-11</td>\n",
       "      <td>-0.029412</td>\n",
       "      <td>0.002927</td>\n",
       "      <td>-0.032339</td>\n",
       "      <td>1987</td>\n",
       "      <td>11</td>\n",
       "      <td>1986</td>\n",
       "      <td>3.0</td>\n",
       "      <td>0.787814</td>\n",
       "      <td>1987</td>\n",
       "    </tr>\n",
       "  </tbody>\n",
       "</table>\n",
       "</div>"
      ],
      "text/plain": [
       "   stock_code year_month       ret        rf    ex_ret  year  month  bm_date  \\\n",
       "0       10001    1987-07  0.021277  0.004667  0.016609  1987      7     1986   \n",
       "1       10001    1987-08  0.083333  0.004718  0.078616  1987      8     1986   \n",
       "2       10001    1987-09 -0.038462  0.005417 -0.043878  1987      9     1986   \n",
       "3       10001    1987-10  0.020000  0.003353  0.016648  1987     10     1986   \n",
       "4       10001    1987-11 -0.029412  0.002927 -0.032339  1987     11     1986   \n",
       "\n",
       "   exchange_code        bm  mkt_date  \n",
       "0            3.0  0.787814      1987  \n",
       "1            3.0  0.787814      1987  \n",
       "2            3.0  0.787814      1987  \n",
       "3            3.0  0.787814      1987  \n",
       "4            3.0  0.787814      1987  "
      ]
     },
     "execution_count": 63,
     "metadata": {},
     "output_type": "execute_result"
    }
   ],
   "source": [
    "sort_df.head()"
   ]
  },
  {
   "cell_type": "code",
   "execution_count": 64,
   "metadata": {},
   "outputs": [],
   "source": [
    "sort_df['mkt_date'] = pd.to_datetime(sort_df['mkt_date'].astype('str')\n",
    "                                      ,format='%Y') +pd.DateOffset(months=5)"
   ]
  },
  {
   "cell_type": "code",
   "execution_count": 65,
   "metadata": {},
   "outputs": [
    {
     "data": {
      "text/html": [
       "<div>\n",
       "<style scoped>\n",
       "    .dataframe tbody tr th:only-of-type {\n",
       "        vertical-align: middle;\n",
       "    }\n",
       "\n",
       "    .dataframe tbody tr th {\n",
       "        vertical-align: top;\n",
       "    }\n",
       "\n",
       "    .dataframe thead th {\n",
       "        text-align: right;\n",
       "    }\n",
       "</style>\n",
       "<table border=\"1\" class=\"dataframe\">\n",
       "  <thead>\n",
       "    <tr style=\"text-align: right;\">\n",
       "      <th></th>\n",
       "      <th>stock_code</th>\n",
       "      <th>year_month</th>\n",
       "      <th>ret</th>\n",
       "      <th>rf</th>\n",
       "      <th>ex_ret</th>\n",
       "      <th>year</th>\n",
       "      <th>month</th>\n",
       "      <th>bm_date</th>\n",
       "      <th>exchange_code</th>\n",
       "      <th>bm</th>\n",
       "      <th>mkt_date</th>\n",
       "    </tr>\n",
       "  </thead>\n",
       "  <tbody>\n",
       "    <tr>\n",
       "      <th>0</th>\n",
       "      <td>10001</td>\n",
       "      <td>1987-07</td>\n",
       "      <td>0.021277</td>\n",
       "      <td>0.004667</td>\n",
       "      <td>0.016609</td>\n",
       "      <td>1987</td>\n",
       "      <td>7</td>\n",
       "      <td>1986</td>\n",
       "      <td>3.0</td>\n",
       "      <td>0.787814</td>\n",
       "      <td>1987-06-01</td>\n",
       "    </tr>\n",
       "    <tr>\n",
       "      <th>1</th>\n",
       "      <td>10001</td>\n",
       "      <td>1987-08</td>\n",
       "      <td>0.083333</td>\n",
       "      <td>0.004718</td>\n",
       "      <td>0.078616</td>\n",
       "      <td>1987</td>\n",
       "      <td>8</td>\n",
       "      <td>1986</td>\n",
       "      <td>3.0</td>\n",
       "      <td>0.787814</td>\n",
       "      <td>1987-06-01</td>\n",
       "    </tr>\n",
       "    <tr>\n",
       "      <th>2</th>\n",
       "      <td>10001</td>\n",
       "      <td>1987-09</td>\n",
       "      <td>-0.038462</td>\n",
       "      <td>0.005417</td>\n",
       "      <td>-0.043878</td>\n",
       "      <td>1987</td>\n",
       "      <td>9</td>\n",
       "      <td>1986</td>\n",
       "      <td>3.0</td>\n",
       "      <td>0.787814</td>\n",
       "      <td>1987-06-01</td>\n",
       "    </tr>\n",
       "    <tr>\n",
       "      <th>3</th>\n",
       "      <td>10001</td>\n",
       "      <td>1987-10</td>\n",
       "      <td>0.020000</td>\n",
       "      <td>0.003353</td>\n",
       "      <td>0.016648</td>\n",
       "      <td>1987</td>\n",
       "      <td>10</td>\n",
       "      <td>1986</td>\n",
       "      <td>3.0</td>\n",
       "      <td>0.787814</td>\n",
       "      <td>1987-06-01</td>\n",
       "    </tr>\n",
       "    <tr>\n",
       "      <th>4</th>\n",
       "      <td>10001</td>\n",
       "      <td>1987-11</td>\n",
       "      <td>-0.029412</td>\n",
       "      <td>0.002927</td>\n",
       "      <td>-0.032339</td>\n",
       "      <td>1987</td>\n",
       "      <td>11</td>\n",
       "      <td>1986</td>\n",
       "      <td>3.0</td>\n",
       "      <td>0.787814</td>\n",
       "      <td>1987-06-01</td>\n",
       "    </tr>\n",
       "  </tbody>\n",
       "</table>\n",
       "</div>"
      ],
      "text/plain": [
       "   stock_code year_month       ret        rf    ex_ret  year  month  bm_date  \\\n",
       "0       10001    1987-07  0.021277  0.004667  0.016609  1987      7     1986   \n",
       "1       10001    1987-08  0.083333  0.004718  0.078616  1987      8     1986   \n",
       "2       10001    1987-09 -0.038462  0.005417 -0.043878  1987      9     1986   \n",
       "3       10001    1987-10  0.020000  0.003353  0.016648  1987     10     1986   \n",
       "4       10001    1987-11 -0.029412  0.002927 -0.032339  1987     11     1986   \n",
       "\n",
       "   exchange_code        bm   mkt_date  \n",
       "0            3.0  0.787814 1987-06-01  \n",
       "1            3.0  0.787814 1987-06-01  \n",
       "2            3.0  0.787814 1987-06-01  \n",
       "3            3.0  0.787814 1987-06-01  \n",
       "4            3.0  0.787814 1987-06-01  "
      ]
     },
     "execution_count": 65,
     "metadata": {},
     "output_type": "execute_result"
    }
   ],
   "source": [
    "sort_df.head()"
   ]
  },
  {
   "cell_type": "code",
   "execution_count": 66,
   "metadata": {},
   "outputs": [],
   "source": [
    "sort_df['mkt_date'] = sort_df['mkt_date'].dt.to_period('M')"
   ]
  },
  {
   "cell_type": "code",
   "execution_count": 67,
   "metadata": {},
   "outputs": [
    {
     "data": {
      "text/html": [
       "<div>\n",
       "<style scoped>\n",
       "    .dataframe tbody tr th:only-of-type {\n",
       "        vertical-align: middle;\n",
       "    }\n",
       "\n",
       "    .dataframe tbody tr th {\n",
       "        vertical-align: top;\n",
       "    }\n",
       "\n",
       "    .dataframe thead th {\n",
       "        text-align: right;\n",
       "    }\n",
       "</style>\n",
       "<table border=\"1\" class=\"dataframe\">\n",
       "  <thead>\n",
       "    <tr style=\"text-align: right;\">\n",
       "      <th></th>\n",
       "      <th>stock_code</th>\n",
       "      <th>exchange_code</th>\n",
       "      <th>year_month</th>\n",
       "      <th>mktcap</th>\n",
       "    </tr>\n",
       "  </thead>\n",
       "  <tbody>\n",
       "    <tr>\n",
       "      <th>1</th>\n",
       "      <td>10000</td>\n",
       "      <td>3.0</td>\n",
       "      <td>1986-01</td>\n",
       "      <td>16100000.00</td>\n",
       "    </tr>\n",
       "    <tr>\n",
       "      <th>2</th>\n",
       "      <td>10000</td>\n",
       "      <td>3.0</td>\n",
       "      <td>1986-02</td>\n",
       "      <td>11960000.00</td>\n",
       "    </tr>\n",
       "    <tr>\n",
       "      <th>3</th>\n",
       "      <td>10000</td>\n",
       "      <td>3.0</td>\n",
       "      <td>1986-03</td>\n",
       "      <td>16330000.00</td>\n",
       "    </tr>\n",
       "    <tr>\n",
       "      <th>4</th>\n",
       "      <td>10000</td>\n",
       "      <td>3.0</td>\n",
       "      <td>1986-04</td>\n",
       "      <td>15172000.00</td>\n",
       "    </tr>\n",
       "    <tr>\n",
       "      <th>5</th>\n",
       "      <td>10000</td>\n",
       "      <td>3.0</td>\n",
       "      <td>1986-05</td>\n",
       "      <td>11793878.34</td>\n",
       "    </tr>\n",
       "  </tbody>\n",
       "</table>\n",
       "</div>"
      ],
      "text/plain": [
       "   stock_code  exchange_code year_month       mktcap\n",
       "1       10000            3.0    1986-01  16100000.00\n",
       "2       10000            3.0    1986-02  11960000.00\n",
       "3       10000            3.0    1986-03  16330000.00\n",
       "4       10000            3.0    1986-04  15172000.00\n",
       "5       10000            3.0    1986-05  11793878.34"
      ]
     },
     "execution_count": 67,
     "metadata": {},
     "output_type": "execute_result"
    }
   ],
   "source": [
    "mktcap_df.head()"
   ]
  },
  {
   "cell_type": "code",
   "execution_count": 68,
   "metadata": {
    "scrolled": true
   },
   "outputs": [],
   "source": [
    "mktcap_df.rename(columns={'year_month':'mkt_date'},inplace=True)"
   ]
  },
  {
   "cell_type": "code",
   "execution_count": 69,
   "metadata": {},
   "outputs": [],
   "source": [
    "sort_df = pd.merge(sort_df,mktcap_df,on=['stock_code','mkt_date'])"
   ]
  },
  {
   "cell_type": "code",
   "execution_count": 70,
   "metadata": {
    "scrolled": true
   },
   "outputs": [
    {
     "data": {
      "text/html": [
       "<div>\n",
       "<style scoped>\n",
       "    .dataframe tbody tr th:only-of-type {\n",
       "        vertical-align: middle;\n",
       "    }\n",
       "\n",
       "    .dataframe tbody tr th {\n",
       "        vertical-align: top;\n",
       "    }\n",
       "\n",
       "    .dataframe thead th {\n",
       "        text-align: right;\n",
       "    }\n",
       "</style>\n",
       "<table border=\"1\" class=\"dataframe\">\n",
       "  <thead>\n",
       "    <tr style=\"text-align: right;\">\n",
       "      <th></th>\n",
       "      <th>stock_code</th>\n",
       "      <th>year_month</th>\n",
       "      <th>ret</th>\n",
       "      <th>rf</th>\n",
       "      <th>ex_ret</th>\n",
       "      <th>year</th>\n",
       "      <th>month</th>\n",
       "      <th>bm_date</th>\n",
       "      <th>exchange_code_x</th>\n",
       "      <th>bm</th>\n",
       "      <th>mkt_date</th>\n",
       "      <th>exchange_code_y</th>\n",
       "      <th>mktcap</th>\n",
       "    </tr>\n",
       "  </thead>\n",
       "  <tbody>\n",
       "    <tr>\n",
       "      <th>0</th>\n",
       "      <td>10001</td>\n",
       "      <td>1987-07</td>\n",
       "      <td>0.021277</td>\n",
       "      <td>0.004667</td>\n",
       "      <td>0.016609</td>\n",
       "      <td>1987</td>\n",
       "      <td>7</td>\n",
       "      <td>1986</td>\n",
       "      <td>3.0</td>\n",
       "      <td>0.787814</td>\n",
       "      <td>1987-06</td>\n",
       "      <td>3.0</td>\n",
       "      <td>5822125.0</td>\n",
       "    </tr>\n",
       "    <tr>\n",
       "      <th>1</th>\n",
       "      <td>10001</td>\n",
       "      <td>1987-08</td>\n",
       "      <td>0.083333</td>\n",
       "      <td>0.004718</td>\n",
       "      <td>0.078616</td>\n",
       "      <td>1987</td>\n",
       "      <td>8</td>\n",
       "      <td>1986</td>\n",
       "      <td>3.0</td>\n",
       "      <td>0.787814</td>\n",
       "      <td>1987-06</td>\n",
       "      <td>3.0</td>\n",
       "      <td>5822125.0</td>\n",
       "    </tr>\n",
       "    <tr>\n",
       "      <th>2</th>\n",
       "      <td>10001</td>\n",
       "      <td>1987-09</td>\n",
       "      <td>-0.038462</td>\n",
       "      <td>0.005417</td>\n",
       "      <td>-0.043878</td>\n",
       "      <td>1987</td>\n",
       "      <td>9</td>\n",
       "      <td>1986</td>\n",
       "      <td>3.0</td>\n",
       "      <td>0.787814</td>\n",
       "      <td>1987-06</td>\n",
       "      <td>3.0</td>\n",
       "      <td>5822125.0</td>\n",
       "    </tr>\n",
       "    <tr>\n",
       "      <th>3</th>\n",
       "      <td>10001</td>\n",
       "      <td>1987-10</td>\n",
       "      <td>0.020000</td>\n",
       "      <td>0.003353</td>\n",
       "      <td>0.016648</td>\n",
       "      <td>1987</td>\n",
       "      <td>10</td>\n",
       "      <td>1986</td>\n",
       "      <td>3.0</td>\n",
       "      <td>0.787814</td>\n",
       "      <td>1987-06</td>\n",
       "      <td>3.0</td>\n",
       "      <td>5822125.0</td>\n",
       "    </tr>\n",
       "    <tr>\n",
       "      <th>4</th>\n",
       "      <td>10001</td>\n",
       "      <td>1987-11</td>\n",
       "      <td>-0.029412</td>\n",
       "      <td>0.002927</td>\n",
       "      <td>-0.032339</td>\n",
       "      <td>1987</td>\n",
       "      <td>11</td>\n",
       "      <td>1986</td>\n",
       "      <td>3.0</td>\n",
       "      <td>0.787814</td>\n",
       "      <td>1987-06</td>\n",
       "      <td>3.0</td>\n",
       "      <td>5822125.0</td>\n",
       "    </tr>\n",
       "  </tbody>\n",
       "</table>\n",
       "</div>"
      ],
      "text/plain": [
       "   stock_code year_month       ret        rf    ex_ret  year  month  bm_date  \\\n",
       "0       10001    1987-07  0.021277  0.004667  0.016609  1987      7     1986   \n",
       "1       10001    1987-08  0.083333  0.004718  0.078616  1987      8     1986   \n",
       "2       10001    1987-09 -0.038462  0.005417 -0.043878  1987      9     1986   \n",
       "3       10001    1987-10  0.020000  0.003353  0.016648  1987     10     1986   \n",
       "4       10001    1987-11 -0.029412  0.002927 -0.032339  1987     11     1986   \n",
       "\n",
       "   exchange_code_x        bm mkt_date  exchange_code_y     mktcap  \n",
       "0              3.0  0.787814  1987-06              3.0  5822125.0  \n",
       "1              3.0  0.787814  1987-06              3.0  5822125.0  \n",
       "2              3.0  0.787814  1987-06              3.0  5822125.0  \n",
       "3              3.0  0.787814  1987-06              3.0  5822125.0  \n",
       "4              3.0  0.787814  1987-06              3.0  5822125.0  "
      ]
     },
     "execution_count": 70,
     "metadata": {},
     "output_type": "execute_result"
    }
   ],
   "source": [
    "sort_df.head()"
   ]
  },
  {
   "cell_type": "code",
   "execution_count": 71,
   "metadata": {},
   "outputs": [],
   "source": [
    "sort_df_ = copy.deepcopy(sort_df)"
   ]
  },
  {
   "cell_type": "code",
   "execution_count": 72,
   "metadata": {},
   "outputs": [],
   "source": [
    "sort_df.drop(columns=['year','month','exchange_code_x'],inplace=True)\n",
    "sort_df.rename(columns={'exchange_code_y':'exchange_code'},inplace=True)"
   ]
  },
  {
   "cell_type": "code",
   "execution_count": 73,
   "metadata": {},
   "outputs": [
    {
     "data": {
      "text/html": [
       "<div>\n",
       "<style scoped>\n",
       "    .dataframe tbody tr th:only-of-type {\n",
       "        vertical-align: middle;\n",
       "    }\n",
       "\n",
       "    .dataframe tbody tr th {\n",
       "        vertical-align: top;\n",
       "    }\n",
       "\n",
       "    .dataframe thead th {\n",
       "        text-align: right;\n",
       "    }\n",
       "</style>\n",
       "<table border=\"1\" class=\"dataframe\">\n",
       "  <thead>\n",
       "    <tr style=\"text-align: right;\">\n",
       "      <th></th>\n",
       "      <th>stock_code</th>\n",
       "      <th>year_month</th>\n",
       "      <th>ret</th>\n",
       "      <th>rf</th>\n",
       "      <th>ex_ret</th>\n",
       "      <th>year</th>\n",
       "      <th>month</th>\n",
       "      <th>bm_date</th>\n",
       "      <th>exchange_code_x</th>\n",
       "      <th>bm</th>\n",
       "      <th>mkt_date</th>\n",
       "      <th>exchange_code_y</th>\n",
       "      <th>mktcap</th>\n",
       "    </tr>\n",
       "  </thead>\n",
       "  <tbody>\n",
       "    <tr>\n",
       "      <th>0</th>\n",
       "      <td>10001</td>\n",
       "      <td>1987-07</td>\n",
       "      <td>0.021277</td>\n",
       "      <td>0.004667</td>\n",
       "      <td>0.016609</td>\n",
       "      <td>1987</td>\n",
       "      <td>7</td>\n",
       "      <td>1986</td>\n",
       "      <td>3.0</td>\n",
       "      <td>0.787814</td>\n",
       "      <td>1987-06</td>\n",
       "      <td>3.0</td>\n",
       "      <td>5822125.0</td>\n",
       "    </tr>\n",
       "    <tr>\n",
       "      <th>1</th>\n",
       "      <td>10001</td>\n",
       "      <td>1987-08</td>\n",
       "      <td>0.083333</td>\n",
       "      <td>0.004718</td>\n",
       "      <td>0.078616</td>\n",
       "      <td>1987</td>\n",
       "      <td>8</td>\n",
       "      <td>1986</td>\n",
       "      <td>3.0</td>\n",
       "      <td>0.787814</td>\n",
       "      <td>1987-06</td>\n",
       "      <td>3.0</td>\n",
       "      <td>5822125.0</td>\n",
       "    </tr>\n",
       "    <tr>\n",
       "      <th>2</th>\n",
       "      <td>10001</td>\n",
       "      <td>1987-09</td>\n",
       "      <td>-0.038462</td>\n",
       "      <td>0.005417</td>\n",
       "      <td>-0.043878</td>\n",
       "      <td>1987</td>\n",
       "      <td>9</td>\n",
       "      <td>1986</td>\n",
       "      <td>3.0</td>\n",
       "      <td>0.787814</td>\n",
       "      <td>1987-06</td>\n",
       "      <td>3.0</td>\n",
       "      <td>5822125.0</td>\n",
       "    </tr>\n",
       "    <tr>\n",
       "      <th>3</th>\n",
       "      <td>10001</td>\n",
       "      <td>1987-10</td>\n",
       "      <td>0.020000</td>\n",
       "      <td>0.003353</td>\n",
       "      <td>0.016648</td>\n",
       "      <td>1987</td>\n",
       "      <td>10</td>\n",
       "      <td>1986</td>\n",
       "      <td>3.0</td>\n",
       "      <td>0.787814</td>\n",
       "      <td>1987-06</td>\n",
       "      <td>3.0</td>\n",
       "      <td>5822125.0</td>\n",
       "    </tr>\n",
       "    <tr>\n",
       "      <th>4</th>\n",
       "      <td>10001</td>\n",
       "      <td>1987-11</td>\n",
       "      <td>-0.029412</td>\n",
       "      <td>0.002927</td>\n",
       "      <td>-0.032339</td>\n",
       "      <td>1987</td>\n",
       "      <td>11</td>\n",
       "      <td>1986</td>\n",
       "      <td>3.0</td>\n",
       "      <td>0.787814</td>\n",
       "      <td>1987-06</td>\n",
       "      <td>3.0</td>\n",
       "      <td>5822125.0</td>\n",
       "    </tr>\n",
       "  </tbody>\n",
       "</table>\n",
       "</div>"
      ],
      "text/plain": [
       "   stock_code year_month       ret        rf    ex_ret  year  month  bm_date  \\\n",
       "0       10001    1987-07  0.021277  0.004667  0.016609  1987      7     1986   \n",
       "1       10001    1987-08  0.083333  0.004718  0.078616  1987      8     1986   \n",
       "2       10001    1987-09 -0.038462  0.005417 -0.043878  1987      9     1986   \n",
       "3       10001    1987-10  0.020000  0.003353  0.016648  1987     10     1986   \n",
       "4       10001    1987-11 -0.029412  0.002927 -0.032339  1987     11     1986   \n",
       "\n",
       "   exchange_code_x        bm mkt_date  exchange_code_y     mktcap  \n",
       "0              3.0  0.787814  1987-06              3.0  5822125.0  \n",
       "1              3.0  0.787814  1987-06              3.0  5822125.0  \n",
       "2              3.0  0.787814  1987-06              3.0  5822125.0  \n",
       "3              3.0  0.787814  1987-06              3.0  5822125.0  \n",
       "4              3.0  0.787814  1987-06              3.0  5822125.0  "
      ]
     },
     "execution_count": 73,
     "metadata": {},
     "output_type": "execute_result"
    }
   ],
   "source": [
    "sort_df_.head()"
   ]
  },
  {
   "cell_type": "markdown",
   "metadata": {},
   "source": [
    "分组 "
   ]
  },
  {
   "cell_type": "markdown",
   "metadata": {},
   "source": [
    "1\tNew York Stock Exchange\n",
    "\n",
    "2\tAmerican Stock Exchange\n",
    "\n",
    "3\tThe Nasdaq Stock Market(SM)"
   ]
  },
  {
   "cell_type": "code",
   "execution_count": 74,
   "metadata": {},
   "outputs": [],
   "source": [
    "#对bm进行分组\n",
    "quantile_df = pd.DataFrame()\n",
    "NYSE = copy.deepcopy(sort_df[sort_df['exchange_code'] == 1])\n",
    "NYSE = copy.deepcopy(NYSE[NYSE['bm']>=0])\n",
    "# We do not use negative-BE firms, when calculating the breakpoints for BM\n",
    "#or when forming the size-BM portfolios. "
   ]
  },
  {
   "cell_type": "code",
   "execution_count": 75,
   "metadata": {},
   "outputs": [],
   "source": [
    "quantile_df['q1'] = NYSE.groupby(['year_month'])['bm'].quantile(0.3)\n",
    "quantile_df['q2'] = NYSE.groupby(['year_month'])['bm'].quantile(0.7)"
   ]
  },
  {
   "cell_type": "code",
   "execution_count": 76,
   "metadata": {},
   "outputs": [],
   "source": [
    "sort_df = pd.merge(sort_df,quantile_df,on=['year_month'])"
   ]
  },
  {
   "cell_type": "code",
   "execution_count": 77,
   "metadata": {},
   "outputs": [
    {
     "data": {
      "text/html": [
       "<div>\n",
       "<style scoped>\n",
       "    .dataframe tbody tr th:only-of-type {\n",
       "        vertical-align: middle;\n",
       "    }\n",
       "\n",
       "    .dataframe tbody tr th {\n",
       "        vertical-align: top;\n",
       "    }\n",
       "\n",
       "    .dataframe thead th {\n",
       "        text-align: right;\n",
       "    }\n",
       "</style>\n",
       "<table border=\"1\" class=\"dataframe\">\n",
       "  <thead>\n",
       "    <tr style=\"text-align: right;\">\n",
       "      <th></th>\n",
       "      <th>stock_code</th>\n",
       "      <th>year_month</th>\n",
       "      <th>ret</th>\n",
       "      <th>rf</th>\n",
       "      <th>ex_ret</th>\n",
       "      <th>bm_date</th>\n",
       "      <th>bm</th>\n",
       "      <th>mkt_date</th>\n",
       "      <th>exchange_code</th>\n",
       "      <th>mktcap</th>\n",
       "      <th>q1</th>\n",
       "      <th>q2</th>\n",
       "    </tr>\n",
       "  </thead>\n",
       "  <tbody>\n",
       "    <tr>\n",
       "      <th>0</th>\n",
       "      <td>10001</td>\n",
       "      <td>1987-07</td>\n",
       "      <td>0.021277</td>\n",
       "      <td>0.004667</td>\n",
       "      <td>0.016609</td>\n",
       "      <td>1986</td>\n",
       "      <td>0.787814</td>\n",
       "      <td>1987-06</td>\n",
       "      <td>3.0</td>\n",
       "      <td>5822125.0</td>\n",
       "      <td>0.49904</td>\n",
       "      <td>0.823082</td>\n",
       "    </tr>\n",
       "    <tr>\n",
       "      <th>1</th>\n",
       "      <td>10005</td>\n",
       "      <td>1987-07</td>\n",
       "      <td>0.714286</td>\n",
       "      <td>0.004667</td>\n",
       "      <td>0.709618</td>\n",
       "      <td>1986</td>\n",
       "      <td>4.380800</td>\n",
       "      <td>1987-06</td>\n",
       "      <td>3.0</td>\n",
       "      <td>1011937.5</td>\n",
       "      <td>0.49904</td>\n",
       "      <td>0.823082</td>\n",
       "    </tr>\n",
       "    <tr>\n",
       "      <th>2</th>\n",
       "      <td>10007</td>\n",
       "      <td>1987-07</td>\n",
       "      <td>-0.030769</td>\n",
       "      <td>0.004667</td>\n",
       "      <td>-0.035437</td>\n",
       "      <td>1986</td>\n",
       "      <td>0.044629</td>\n",
       "      <td>1987-06</td>\n",
       "      <td>3.0</td>\n",
       "      <td>16770000.0</td>\n",
       "      <td>0.49904</td>\n",
       "      <td>0.823082</td>\n",
       "    </tr>\n",
       "    <tr>\n",
       "      <th>3</th>\n",
       "      <td>10008</td>\n",
       "      <td>1987-07</td>\n",
       "      <td>0.000000</td>\n",
       "      <td>0.004667</td>\n",
       "      <td>-0.004667</td>\n",
       "      <td>1986</td>\n",
       "      <td>0.480020</td>\n",
       "      <td>1987-06</td>\n",
       "      <td>3.0</td>\n",
       "      <td>44175000.0</td>\n",
       "      <td>0.49904</td>\n",
       "      <td>0.823082</td>\n",
       "    </tr>\n",
       "    <tr>\n",
       "      <th>4</th>\n",
       "      <td>10010</td>\n",
       "      <td>1987-07</td>\n",
       "      <td>0.166667</td>\n",
       "      <td>0.004667</td>\n",
       "      <td>0.161999</td>\n",
       "      <td>1986</td>\n",
       "      <td>0.660320</td>\n",
       "      <td>1987-06</td>\n",
       "      <td>3.0</td>\n",
       "      <td>15048000.0</td>\n",
       "      <td>0.49904</td>\n",
       "      <td>0.823082</td>\n",
       "    </tr>\n",
       "  </tbody>\n",
       "</table>\n",
       "</div>"
      ],
      "text/plain": [
       "   stock_code year_month       ret        rf    ex_ret  bm_date        bm  \\\n",
       "0       10001    1987-07  0.021277  0.004667  0.016609     1986  0.787814   \n",
       "1       10005    1987-07  0.714286  0.004667  0.709618     1986  4.380800   \n",
       "2       10007    1987-07 -0.030769  0.004667 -0.035437     1986  0.044629   \n",
       "3       10008    1987-07  0.000000  0.004667 -0.004667     1986  0.480020   \n",
       "4       10010    1987-07  0.166667  0.004667  0.161999     1986  0.660320   \n",
       "\n",
       "  mkt_date  exchange_code      mktcap       q1        q2  \n",
       "0  1987-06            3.0   5822125.0  0.49904  0.823082  \n",
       "1  1987-06            3.0   1011937.5  0.49904  0.823082  \n",
       "2  1987-06            3.0  16770000.0  0.49904  0.823082  \n",
       "3  1987-06            3.0  44175000.0  0.49904  0.823082  \n",
       "4  1987-06            3.0  15048000.0  0.49904  0.823082  "
      ]
     },
     "execution_count": 77,
     "metadata": {},
     "output_type": "execute_result"
    }
   ],
   "source": [
    "sort_df.head()"
   ]
  },
  {
   "cell_type": "code",
   "execution_count": 78,
   "metadata": {
    "scrolled": true
   },
   "outputs": [],
   "source": [
    "quantile_size_df = pd.DataFrame()\n",
    "quantile_size_df['Q'] = NYSE.groupby(['year_month'])['mktcap'].quantile(0.5)"
   ]
  },
  {
   "cell_type": "code",
   "execution_count": 79,
   "metadata": {},
   "outputs": [
    {
     "data": {
      "text/html": [
       "<div>\n",
       "<style scoped>\n",
       "    .dataframe tbody tr th:only-of-type {\n",
       "        vertical-align: middle;\n",
       "    }\n",
       "\n",
       "    .dataframe tbody tr th {\n",
       "        vertical-align: top;\n",
       "    }\n",
       "\n",
       "    .dataframe thead th {\n",
       "        text-align: right;\n",
       "    }\n",
       "</style>\n",
       "<table border=\"1\" class=\"dataframe\">\n",
       "  <thead>\n",
       "    <tr style=\"text-align: right;\">\n",
       "      <th></th>\n",
       "      <th>stock_code</th>\n",
       "      <th>year_month</th>\n",
       "      <th>ret</th>\n",
       "      <th>rf</th>\n",
       "      <th>ex_ret</th>\n",
       "      <th>bm_date</th>\n",
       "      <th>bm</th>\n",
       "      <th>mkt_date</th>\n",
       "      <th>exchange_code</th>\n",
       "      <th>mktcap</th>\n",
       "    </tr>\n",
       "  </thead>\n",
       "  <tbody>\n",
       "  </tbody>\n",
       "</table>\n",
       "</div>"
      ],
      "text/plain": [
       "Empty DataFrame\n",
       "Columns: [stock_code, year_month, ret, rf, ex_ret, bm_date, bm, mkt_date, exchange_code, mktcap]\n",
       "Index: []"
      ]
     },
     "execution_count": 79,
     "metadata": {},
     "output_type": "execute_result"
    }
   ],
   "source": [
    "NYSE[NYSE['year_month'].dt.year == 1963]#1963年成立的啊"
   ]
  },
  {
   "cell_type": "code",
   "execution_count": 80,
   "metadata": {},
   "outputs": [],
   "source": [
    "sort_df = pd.merge(sort_df,quantile_size_df,on=['year_month'])"
   ]
  },
  {
   "cell_type": "code",
   "execution_count": 81,
   "metadata": {},
   "outputs": [
    {
     "data": {
      "text/html": [
       "<div>\n",
       "<style scoped>\n",
       "    .dataframe tbody tr th:only-of-type {\n",
       "        vertical-align: middle;\n",
       "    }\n",
       "\n",
       "    .dataframe tbody tr th {\n",
       "        vertical-align: top;\n",
       "    }\n",
       "\n",
       "    .dataframe thead th {\n",
       "        text-align: right;\n",
       "    }\n",
       "</style>\n",
       "<table border=\"1\" class=\"dataframe\">\n",
       "  <thead>\n",
       "    <tr style=\"text-align: right;\">\n",
       "      <th></th>\n",
       "      <th>stock_code</th>\n",
       "      <th>year_month</th>\n",
       "      <th>ret</th>\n",
       "      <th>rf</th>\n",
       "      <th>ex_ret</th>\n",
       "      <th>bm_date</th>\n",
       "      <th>bm</th>\n",
       "      <th>mkt_date</th>\n",
       "      <th>exchange_code</th>\n",
       "      <th>mktcap</th>\n",
       "      <th>q1</th>\n",
       "      <th>q2</th>\n",
       "      <th>Q</th>\n",
       "    </tr>\n",
       "  </thead>\n",
       "  <tbody>\n",
       "    <tr>\n",
       "      <th>0</th>\n",
       "      <td>10001</td>\n",
       "      <td>1987-07</td>\n",
       "      <td>0.021277</td>\n",
       "      <td>0.004667</td>\n",
       "      <td>0.016609</td>\n",
       "      <td>1986</td>\n",
       "      <td>0.787814</td>\n",
       "      <td>1987-06</td>\n",
       "      <td>3.0</td>\n",
       "      <td>5822125.0</td>\n",
       "      <td>0.49904</td>\n",
       "      <td>0.823082</td>\n",
       "      <td>490434312.5</td>\n",
       "    </tr>\n",
       "    <tr>\n",
       "      <th>1</th>\n",
       "      <td>10005</td>\n",
       "      <td>1987-07</td>\n",
       "      <td>0.714286</td>\n",
       "      <td>0.004667</td>\n",
       "      <td>0.709618</td>\n",
       "      <td>1986</td>\n",
       "      <td>4.380800</td>\n",
       "      <td>1987-06</td>\n",
       "      <td>3.0</td>\n",
       "      <td>1011937.5</td>\n",
       "      <td>0.49904</td>\n",
       "      <td>0.823082</td>\n",
       "      <td>490434312.5</td>\n",
       "    </tr>\n",
       "    <tr>\n",
       "      <th>2</th>\n",
       "      <td>10007</td>\n",
       "      <td>1987-07</td>\n",
       "      <td>-0.030769</td>\n",
       "      <td>0.004667</td>\n",
       "      <td>-0.035437</td>\n",
       "      <td>1986</td>\n",
       "      <td>0.044629</td>\n",
       "      <td>1987-06</td>\n",
       "      <td>3.0</td>\n",
       "      <td>16770000.0</td>\n",
       "      <td>0.49904</td>\n",
       "      <td>0.823082</td>\n",
       "      <td>490434312.5</td>\n",
       "    </tr>\n",
       "    <tr>\n",
       "      <th>3</th>\n",
       "      <td>10008</td>\n",
       "      <td>1987-07</td>\n",
       "      <td>0.000000</td>\n",
       "      <td>0.004667</td>\n",
       "      <td>-0.004667</td>\n",
       "      <td>1986</td>\n",
       "      <td>0.480020</td>\n",
       "      <td>1987-06</td>\n",
       "      <td>3.0</td>\n",
       "      <td>44175000.0</td>\n",
       "      <td>0.49904</td>\n",
       "      <td>0.823082</td>\n",
       "      <td>490434312.5</td>\n",
       "    </tr>\n",
       "    <tr>\n",
       "      <th>4</th>\n",
       "      <td>10010</td>\n",
       "      <td>1987-07</td>\n",
       "      <td>0.166667</td>\n",
       "      <td>0.004667</td>\n",
       "      <td>0.161999</td>\n",
       "      <td>1986</td>\n",
       "      <td>0.660320</td>\n",
       "      <td>1987-06</td>\n",
       "      <td>3.0</td>\n",
       "      <td>15048000.0</td>\n",
       "      <td>0.49904</td>\n",
       "      <td>0.823082</td>\n",
       "      <td>490434312.5</td>\n",
       "    </tr>\n",
       "  </tbody>\n",
       "</table>\n",
       "</div>"
      ],
      "text/plain": [
       "   stock_code year_month       ret        rf    ex_ret  bm_date        bm  \\\n",
       "0       10001    1987-07  0.021277  0.004667  0.016609     1986  0.787814   \n",
       "1       10005    1987-07  0.714286  0.004667  0.709618     1986  4.380800   \n",
       "2       10007    1987-07 -0.030769  0.004667 -0.035437     1986  0.044629   \n",
       "3       10008    1987-07  0.000000  0.004667 -0.004667     1986  0.480020   \n",
       "4       10010    1987-07  0.166667  0.004667  0.161999     1986  0.660320   \n",
       "\n",
       "  mkt_date  exchange_code      mktcap       q1        q2            Q  \n",
       "0  1987-06            3.0   5822125.0  0.49904  0.823082  490434312.5  \n",
       "1  1987-06            3.0   1011937.5  0.49904  0.823082  490434312.5  \n",
       "2  1987-06            3.0  16770000.0  0.49904  0.823082  490434312.5  \n",
       "3  1987-06            3.0  44175000.0  0.49904  0.823082  490434312.5  \n",
       "4  1987-06            3.0  15048000.0  0.49904  0.823082  490434312.5  "
      ]
     },
     "execution_count": 81,
     "metadata": {},
     "output_type": "execute_result"
    }
   ],
   "source": [
    "sort_df.head()"
   ]
  },
  {
   "cell_type": "code",
   "execution_count": 82,
   "metadata": {},
   "outputs": [],
   "source": [
    "sort_df.rename(columns={'Q_x':'Q'},inplace=True)"
   ]
  },
  {
   "cell_type": "code",
   "execution_count": 83,
   "metadata": {},
   "outputs": [
    {
     "data": {
      "text/html": [
       "<div>\n",
       "<style scoped>\n",
       "    .dataframe tbody tr th:only-of-type {\n",
       "        vertical-align: middle;\n",
       "    }\n",
       "\n",
       "    .dataframe tbody tr th {\n",
       "        vertical-align: top;\n",
       "    }\n",
       "\n",
       "    .dataframe thead th {\n",
       "        text-align: right;\n",
       "    }\n",
       "</style>\n",
       "<table border=\"1\" class=\"dataframe\">\n",
       "  <thead>\n",
       "    <tr style=\"text-align: right;\">\n",
       "      <th></th>\n",
       "      <th>stock_code</th>\n",
       "      <th>year_month</th>\n",
       "      <th>ret</th>\n",
       "      <th>rf</th>\n",
       "      <th>ex_ret</th>\n",
       "      <th>bm_date</th>\n",
       "      <th>bm</th>\n",
       "      <th>mkt_date</th>\n",
       "      <th>exchange_code</th>\n",
       "      <th>mktcap</th>\n",
       "      <th>q1</th>\n",
       "      <th>q2</th>\n",
       "      <th>Q</th>\n",
       "    </tr>\n",
       "  </thead>\n",
       "  <tbody>\n",
       "    <tr>\n",
       "      <th>0</th>\n",
       "      <td>10001</td>\n",
       "      <td>1987-07</td>\n",
       "      <td>0.021277</td>\n",
       "      <td>0.004667</td>\n",
       "      <td>0.016609</td>\n",
       "      <td>1986</td>\n",
       "      <td>0.787814</td>\n",
       "      <td>1987-06</td>\n",
       "      <td>3.0</td>\n",
       "      <td>5822125.0</td>\n",
       "      <td>0.49904</td>\n",
       "      <td>0.823082</td>\n",
       "      <td>490434312.5</td>\n",
       "    </tr>\n",
       "    <tr>\n",
       "      <th>1</th>\n",
       "      <td>10005</td>\n",
       "      <td>1987-07</td>\n",
       "      <td>0.714286</td>\n",
       "      <td>0.004667</td>\n",
       "      <td>0.709618</td>\n",
       "      <td>1986</td>\n",
       "      <td>4.380800</td>\n",
       "      <td>1987-06</td>\n",
       "      <td>3.0</td>\n",
       "      <td>1011937.5</td>\n",
       "      <td>0.49904</td>\n",
       "      <td>0.823082</td>\n",
       "      <td>490434312.5</td>\n",
       "    </tr>\n",
       "    <tr>\n",
       "      <th>2</th>\n",
       "      <td>10007</td>\n",
       "      <td>1987-07</td>\n",
       "      <td>-0.030769</td>\n",
       "      <td>0.004667</td>\n",
       "      <td>-0.035437</td>\n",
       "      <td>1986</td>\n",
       "      <td>0.044629</td>\n",
       "      <td>1987-06</td>\n",
       "      <td>3.0</td>\n",
       "      <td>16770000.0</td>\n",
       "      <td>0.49904</td>\n",
       "      <td>0.823082</td>\n",
       "      <td>490434312.5</td>\n",
       "    </tr>\n",
       "    <tr>\n",
       "      <th>3</th>\n",
       "      <td>10008</td>\n",
       "      <td>1987-07</td>\n",
       "      <td>0.000000</td>\n",
       "      <td>0.004667</td>\n",
       "      <td>-0.004667</td>\n",
       "      <td>1986</td>\n",
       "      <td>0.480020</td>\n",
       "      <td>1987-06</td>\n",
       "      <td>3.0</td>\n",
       "      <td>44175000.0</td>\n",
       "      <td>0.49904</td>\n",
       "      <td>0.823082</td>\n",
       "      <td>490434312.5</td>\n",
       "    </tr>\n",
       "    <tr>\n",
       "      <th>4</th>\n",
       "      <td>10010</td>\n",
       "      <td>1987-07</td>\n",
       "      <td>0.166667</td>\n",
       "      <td>0.004667</td>\n",
       "      <td>0.161999</td>\n",
       "      <td>1986</td>\n",
       "      <td>0.660320</td>\n",
       "      <td>1987-06</td>\n",
       "      <td>3.0</td>\n",
       "      <td>15048000.0</td>\n",
       "      <td>0.49904</td>\n",
       "      <td>0.823082</td>\n",
       "      <td>490434312.5</td>\n",
       "    </tr>\n",
       "  </tbody>\n",
       "</table>\n",
       "</div>"
      ],
      "text/plain": [
       "   stock_code year_month       ret        rf    ex_ret  bm_date        bm  \\\n",
       "0       10001    1987-07  0.021277  0.004667  0.016609     1986  0.787814   \n",
       "1       10005    1987-07  0.714286  0.004667  0.709618     1986  4.380800   \n",
       "2       10007    1987-07 -0.030769  0.004667 -0.035437     1986  0.044629   \n",
       "3       10008    1987-07  0.000000  0.004667 -0.004667     1986  0.480020   \n",
       "4       10010    1987-07  0.166667  0.004667  0.161999     1986  0.660320   \n",
       "\n",
       "  mkt_date  exchange_code      mktcap       q1        q2            Q  \n",
       "0  1987-06            3.0   5822125.0  0.49904  0.823082  490434312.5  \n",
       "1  1987-06            3.0   1011937.5  0.49904  0.823082  490434312.5  \n",
       "2  1987-06            3.0  16770000.0  0.49904  0.823082  490434312.5  \n",
       "3  1987-06            3.0  44175000.0  0.49904  0.823082  490434312.5  \n",
       "4  1987-06            3.0  15048000.0  0.49904  0.823082  490434312.5  "
      ]
     },
     "execution_count": 83,
     "metadata": {},
     "output_type": "execute_result"
    }
   ],
   "source": [
    "sort_df.head()"
   ]
  },
  {
   "cell_type": "code",
   "execution_count": 84,
   "metadata": {},
   "outputs": [
    {
     "data": {
      "text/html": [
       "<div>\n",
       "<style scoped>\n",
       "    .dataframe tbody tr th:only-of-type {\n",
       "        vertical-align: middle;\n",
       "    }\n",
       "\n",
       "    .dataframe tbody tr th {\n",
       "        vertical-align: top;\n",
       "    }\n",
       "\n",
       "    .dataframe thead th {\n",
       "        text-align: right;\n",
       "    }\n",
       "</style>\n",
       "<table border=\"1\" class=\"dataframe\">\n",
       "  <thead>\n",
       "    <tr style=\"text-align: right;\">\n",
       "      <th></th>\n",
       "      <th>stock_code</th>\n",
       "      <th>year_month</th>\n",
       "      <th>ret</th>\n",
       "      <th>rf</th>\n",
       "      <th>ex_ret</th>\n",
       "      <th>bm_date</th>\n",
       "      <th>bm</th>\n",
       "      <th>mkt_date</th>\n",
       "      <th>exchange_code</th>\n",
       "      <th>mktcap</th>\n",
       "      <th>q1</th>\n",
       "      <th>q2</th>\n",
       "      <th>Q</th>\n",
       "    </tr>\n",
       "  </thead>\n",
       "  <tbody>\n",
       "    <tr>\n",
       "      <th>0</th>\n",
       "      <td>10001</td>\n",
       "      <td>1987-07</td>\n",
       "      <td>0.021277</td>\n",
       "      <td>0.004667</td>\n",
       "      <td>0.016609</td>\n",
       "      <td>1986</td>\n",
       "      <td>0.787814</td>\n",
       "      <td>1987-06</td>\n",
       "      <td>3.0</td>\n",
       "      <td>5822125.0</td>\n",
       "      <td>0.49904</td>\n",
       "      <td>0.823082</td>\n",
       "      <td>490434312.5</td>\n",
       "    </tr>\n",
       "    <tr>\n",
       "      <th>1</th>\n",
       "      <td>10005</td>\n",
       "      <td>1987-07</td>\n",
       "      <td>0.714286</td>\n",
       "      <td>0.004667</td>\n",
       "      <td>0.709618</td>\n",
       "      <td>1986</td>\n",
       "      <td>4.380800</td>\n",
       "      <td>1987-06</td>\n",
       "      <td>3.0</td>\n",
       "      <td>1011937.5</td>\n",
       "      <td>0.49904</td>\n",
       "      <td>0.823082</td>\n",
       "      <td>490434312.5</td>\n",
       "    </tr>\n",
       "    <tr>\n",
       "      <th>2</th>\n",
       "      <td>10007</td>\n",
       "      <td>1987-07</td>\n",
       "      <td>-0.030769</td>\n",
       "      <td>0.004667</td>\n",
       "      <td>-0.035437</td>\n",
       "      <td>1986</td>\n",
       "      <td>0.044629</td>\n",
       "      <td>1987-06</td>\n",
       "      <td>3.0</td>\n",
       "      <td>16770000.0</td>\n",
       "      <td>0.49904</td>\n",
       "      <td>0.823082</td>\n",
       "      <td>490434312.5</td>\n",
       "    </tr>\n",
       "    <tr>\n",
       "      <th>3</th>\n",
       "      <td>10008</td>\n",
       "      <td>1987-07</td>\n",
       "      <td>0.000000</td>\n",
       "      <td>0.004667</td>\n",
       "      <td>-0.004667</td>\n",
       "      <td>1986</td>\n",
       "      <td>0.480020</td>\n",
       "      <td>1987-06</td>\n",
       "      <td>3.0</td>\n",
       "      <td>44175000.0</td>\n",
       "      <td>0.49904</td>\n",
       "      <td>0.823082</td>\n",
       "      <td>490434312.5</td>\n",
       "    </tr>\n",
       "    <tr>\n",
       "      <th>4</th>\n",
       "      <td>10010</td>\n",
       "      <td>1987-07</td>\n",
       "      <td>0.166667</td>\n",
       "      <td>0.004667</td>\n",
       "      <td>0.161999</td>\n",
       "      <td>1986</td>\n",
       "      <td>0.660320</td>\n",
       "      <td>1987-06</td>\n",
       "      <td>3.0</td>\n",
       "      <td>15048000.0</td>\n",
       "      <td>0.49904</td>\n",
       "      <td>0.823082</td>\n",
       "      <td>490434312.5</td>\n",
       "    </tr>\n",
       "  </tbody>\n",
       "</table>\n",
       "</div>"
      ],
      "text/plain": [
       "   stock_code year_month       ret        rf    ex_ret  bm_date        bm  \\\n",
       "0       10001    1987-07  0.021277  0.004667  0.016609     1986  0.787814   \n",
       "1       10005    1987-07  0.714286  0.004667  0.709618     1986  4.380800   \n",
       "2       10007    1987-07 -0.030769  0.004667 -0.035437     1986  0.044629   \n",
       "3       10008    1987-07  0.000000  0.004667 -0.004667     1986  0.480020   \n",
       "4       10010    1987-07  0.166667  0.004667  0.161999     1986  0.660320   \n",
       "\n",
       "  mkt_date  exchange_code      mktcap       q1        q2            Q  \n",
       "0  1987-06            3.0   5822125.0  0.49904  0.823082  490434312.5  \n",
       "1  1987-06            3.0   1011937.5  0.49904  0.823082  490434312.5  \n",
       "2  1987-06            3.0  16770000.0  0.49904  0.823082  490434312.5  \n",
       "3  1987-06            3.0  44175000.0  0.49904  0.823082  490434312.5  \n",
       "4  1987-06            3.0  15048000.0  0.49904  0.823082  490434312.5  "
      ]
     },
     "execution_count": 84,
     "metadata": {},
     "output_type": "execute_result"
    }
   ],
   "source": [
    "sort_df.dropna(inplace=True)\n",
    "sort_df.head()"
   ]
  },
  {
   "cell_type": "code",
   "execution_count": 85,
   "metadata": {},
   "outputs": [],
   "source": [
    "sort_df.drop(columns=['bm_date','mkt_date'],inplace=True)"
   ]
  },
  {
   "cell_type": "code",
   "execution_count": 86,
   "metadata": {},
   "outputs": [
    {
     "data": {
      "text/plain": [
       "Index(['stock_code', 'year_month', 'ret', 'rf', 'ex_ret', 'bm',\n",
       "       'exchange_code', 'mktcap', 'q1', 'q2', 'Q'],\n",
       "      dtype='object')"
      ]
     },
     "execution_count": 86,
     "metadata": {},
     "output_type": "execute_result"
    }
   ],
   "source": [
    "sort_df.columns"
   ]
  },
  {
   "cell_type": "code",
   "execution_count": 87,
   "metadata": {},
   "outputs": [],
   "source": [
    "portfolios_by_bm = dict()\n",
    "keep_cols= ['stock_code', 'year_month', 'ret', 'rf', 'ex_ret', 'bm','mktcap']\n",
    "idx = sort_df['bm']<=sort_df['q1']\n",
    "portfolios_by_bm['p1'] = sort_df.loc[idx,keep_cols]"
   ]
  },
  {
   "cell_type": "code",
   "execution_count": 88,
   "metadata": {},
   "outputs": [],
   "source": [
    "idx = ((sort_df['bm']>=sort_df['q1']) & (sort_df['bm']<=sort_df['q2']))\n",
    "portfolios_by_bm['p2'] = sort_df.loc[idx,keep_cols]\n",
    "idx = sort_df['bm'] >= sort_df['q2']\n",
    "portfolios_by_bm['p3'] = sort_df.loc[idx,keep_cols]"
   ]
  },
  {
   "cell_type": "code",
   "execution_count": 89,
   "metadata": {},
   "outputs": [],
   "source": [
    "for key in portfolios_by_bm.keys():\n",
    "    portfolios_by_bm[key] = portfolios_by_bm[key][portfolios_by_bm[key]['bm']>=0]"
   ]
  },
  {
   "cell_type": "code",
   "execution_count": 90,
   "metadata": {},
   "outputs": [],
   "source": [
    "portfolios_by_size = dict()\n",
    "keep_cols= ['stock_code', 'year_month', 'ret', 'rf', 'ex_ret', 'bm','mktcap']\n",
    "idx = sort_df['mktcap']<=sort_df['Q']\n",
    "portfolios_by_size['P1'] = sort_df.loc[idx,keep_cols]\n",
    "idx = sort_df['mktcap']>=sort_df['Q']\n",
    "portfolios_by_size['P2'] = sort_df.loc[idx,keep_cols]"
   ]
  },
  {
   "cell_type": "code",
   "execution_count": 91,
   "metadata": {},
   "outputs": [
    {
     "data": {
      "text/html": [
       "<div>\n",
       "<style scoped>\n",
       "    .dataframe tbody tr th:only-of-type {\n",
       "        vertical-align: middle;\n",
       "    }\n",
       "\n",
       "    .dataframe tbody tr th {\n",
       "        vertical-align: top;\n",
       "    }\n",
       "\n",
       "    .dataframe thead th {\n",
       "        text-align: right;\n",
       "    }\n",
       "</style>\n",
       "<table border=\"1\" class=\"dataframe\">\n",
       "  <thead>\n",
       "    <tr style=\"text-align: right;\">\n",
       "      <th></th>\n",
       "      <th>stock_code</th>\n",
       "      <th>year_month</th>\n",
       "      <th>ret</th>\n",
       "      <th>rf</th>\n",
       "      <th>ex_ret</th>\n",
       "      <th>bm</th>\n",
       "      <th>mktcap</th>\n",
       "    </tr>\n",
       "  </thead>\n",
       "  <tbody>\n",
       "    <tr>\n",
       "      <th>45</th>\n",
       "      <td>10078</td>\n",
       "      <td>1987-07</td>\n",
       "      <td>-0.150307</td>\n",
       "      <td>0.004667</td>\n",
       "      <td>-0.154974</td>\n",
       "      <td>0.167050</td>\n",
       "      <td>1.389412e+09</td>\n",
       "    </tr>\n",
       "    <tr>\n",
       "      <th>65</th>\n",
       "      <td>10104</td>\n",
       "      <td>1987-07</td>\n",
       "      <td>0.022472</td>\n",
       "      <td>0.004667</td>\n",
       "      <td>0.017804</td>\n",
       "      <td>0.104689</td>\n",
       "      <td>6.405775e+08</td>\n",
       "    </tr>\n",
       "    <tr>\n",
       "      <th>67</th>\n",
       "      <td>10107</td>\n",
       "      <td>1987-07</td>\n",
       "      <td>-0.078431</td>\n",
       "      <td>0.004667</td>\n",
       "      <td>-0.083099</td>\n",
       "      <td>0.113154</td>\n",
       "      <td>2.666892e+09</td>\n",
       "    </tr>\n",
       "    <tr>\n",
       "      <th>72</th>\n",
       "      <td>10119</td>\n",
       "      <td>1987-07</td>\n",
       "      <td>0.058824</td>\n",
       "      <td>0.004667</td>\n",
       "      <td>0.054156</td>\n",
       "      <td>0.367606</td>\n",
       "      <td>5.995921e+08</td>\n",
       "    </tr>\n",
       "    <tr>\n",
       "      <th>80</th>\n",
       "      <td>10137</td>\n",
       "      <td>1987-07</td>\n",
       "      <td>-0.099688</td>\n",
       "      <td>0.004667</td>\n",
       "      <td>-0.104356</td>\n",
       "      <td>0.608847</td>\n",
       "      <td>2.041078e+09</td>\n",
       "    </tr>\n",
       "  </tbody>\n",
       "</table>\n",
       "</div>"
      ],
      "text/plain": [
       "    stock_code year_month       ret        rf    ex_ret        bm  \\\n",
       "45       10078    1987-07 -0.150307  0.004667 -0.154974  0.167050   \n",
       "65       10104    1987-07  0.022472  0.004667  0.017804  0.104689   \n",
       "67       10107    1987-07 -0.078431  0.004667 -0.083099  0.113154   \n",
       "72       10119    1987-07  0.058824  0.004667  0.054156  0.367606   \n",
       "80       10137    1987-07 -0.099688  0.004667 -0.104356  0.608847   \n",
       "\n",
       "          mktcap  \n",
       "45  1.389412e+09  \n",
       "65  6.405775e+08  \n",
       "67  2.666892e+09  \n",
       "72  5.995921e+08  \n",
       "80  2.041078e+09  "
      ]
     },
     "execution_count": 91,
     "metadata": {},
     "output_type": "execute_result"
    }
   ],
   "source": [
    "portfolios_by_size['P2'].head()"
   ]
  },
  {
   "cell_type": "code",
   "execution_count": 92,
   "metadata": {},
   "outputs": [],
   "source": [
    "portfolios = dict()\n",
    "for bm in portfolios_by_bm.keys():\n",
    "    for mkt in portfolios_by_size.keys():\n",
    "        portfolios[f'{bm}_{mkt}'] = pd.merge(portfolios_by_bm[bm][['stock_code','year_month']],\n",
    "                                            portfolios_by_size[mkt],\n",
    "                                             on=['stock_code','year_month'])"
   ]
  },
  {
   "cell_type": "code",
   "execution_count": 93,
   "metadata": {},
   "outputs": [
    {
     "data": {
      "text/plain": [
       "dict_keys(['p1_P1', 'p1_P2', 'p2_P1', 'p2_P2', 'p3_P1', 'p3_P2'])"
      ]
     },
     "execution_count": 93,
     "metadata": {},
     "output_type": "execute_result"
    }
   ],
   "source": [
    "portfolios.keys()"
   ]
  },
  {
   "cell_type": "code",
   "execution_count": 94,
   "metadata": {
    "scrolled": true
   },
   "outputs": [],
   "source": [
    "portfolios_vwret = dict()\n",
    "for pf in portfolios.keys():\n",
    "    temp = pd.DataFrame(portfolios[pf].groupby('year_month')['mktcap'].sum())#计算某个年月的市值总和\n",
    "    temp.columns = ['mktcap_sum']\n",
    "    portfolios[pf] = pd.merge(portfolios[pf],temp,on=['year_month'])#将mktsum加入原来的DataFrame\n",
    "    portfolios[pf]['weight'] = portfolios[pf][\n",
    "        'mktcap']/portfolios[pf]['mktcap_sum']#添加一列求市值权重\n",
    "    portfolios[pf]['weighted_ret'] = portfolios[pf]['weight']*portfolios[pf]['ret']\n",
    "    portfolios_vwret[pf] = portfolios[pf].groupby(['year_month'])[\n",
    "        ['weighted_ret']].sum()"
   ]
  },
  {
   "cell_type": "code",
   "execution_count": 95,
   "metadata": {},
   "outputs": [
    {
     "data": {
      "text/html": [
       "<div>\n",
       "<style scoped>\n",
       "    .dataframe tbody tr th:only-of-type {\n",
       "        vertical-align: middle;\n",
       "    }\n",
       "\n",
       "    .dataframe tbody tr th {\n",
       "        vertical-align: top;\n",
       "    }\n",
       "\n",
       "    .dataframe thead th {\n",
       "        text-align: right;\n",
       "    }\n",
       "</style>\n",
       "<table border=\"1\" class=\"dataframe\">\n",
       "  <thead>\n",
       "    <tr style=\"text-align: right;\">\n",
       "      <th></th>\n",
       "      <th>weighted_ret</th>\n",
       "    </tr>\n",
       "    <tr>\n",
       "      <th>year_month</th>\n",
       "      <th></th>\n",
       "    </tr>\n",
       "  </thead>\n",
       "  <tbody>\n",
       "    <tr>\n",
       "      <th>1964-07</th>\n",
       "      <td>0.047100</td>\n",
       "    </tr>\n",
       "    <tr>\n",
       "      <th>1964-08</th>\n",
       "      <td>-0.006055</td>\n",
       "    </tr>\n",
       "    <tr>\n",
       "      <th>1964-09</th>\n",
       "      <td>0.024405</td>\n",
       "    </tr>\n",
       "    <tr>\n",
       "      <th>1964-10</th>\n",
       "      <td>0.031740</td>\n",
       "    </tr>\n",
       "    <tr>\n",
       "      <th>1964-11</th>\n",
       "      <td>0.020627</td>\n",
       "    </tr>\n",
       "  </tbody>\n",
       "</table>\n",
       "</div>"
      ],
      "text/plain": [
       "            weighted_ret\n",
       "year_month              \n",
       "1964-07         0.047100\n",
       "1964-08        -0.006055\n",
       "1964-09         0.024405\n",
       "1964-10         0.031740\n",
       "1964-11         0.020627"
      ]
     },
     "execution_count": 95,
     "metadata": {},
     "output_type": "execute_result"
    }
   ],
   "source": [
    "portfolios_vwret['p1_P1'].head()"
   ]
  },
  {
   "cell_type": "code",
   "execution_count": 96,
   "metadata": {},
   "outputs": [],
   "source": [
    "portfolios_vwret_df = pd.DataFrame(np.hstack([pf for pf in portfolios_vwret.values()]))\n",
    "portfolios_vwret_df.index = portfolios_vwret['p1_P1'].index\n",
    "portfolios_vwret_df.columns = portfolios_vwret.keys()"
   ]
  },
  {
   "cell_type": "code",
   "execution_count": 97,
   "metadata": {},
   "outputs": [
    {
     "data": {
      "text/html": [
       "<div>\n",
       "<style scoped>\n",
       "    .dataframe tbody tr th:only-of-type {\n",
       "        vertical-align: middle;\n",
       "    }\n",
       "\n",
       "    .dataframe tbody tr th {\n",
       "        vertical-align: top;\n",
       "    }\n",
       "\n",
       "    .dataframe thead th {\n",
       "        text-align: right;\n",
       "    }\n",
       "</style>\n",
       "<table border=\"1\" class=\"dataframe\">\n",
       "  <thead>\n",
       "    <tr style=\"text-align: right;\">\n",
       "      <th></th>\n",
       "      <th>p1_P1</th>\n",
       "      <th>p1_P2</th>\n",
       "      <th>p2_P1</th>\n",
       "      <th>p2_P2</th>\n",
       "      <th>p3_P1</th>\n",
       "      <th>p3_P2</th>\n",
       "    </tr>\n",
       "    <tr>\n",
       "      <th>year_month</th>\n",
       "      <th></th>\n",
       "      <th></th>\n",
       "      <th></th>\n",
       "      <th></th>\n",
       "      <th></th>\n",
       "      <th></th>\n",
       "    </tr>\n",
       "  </thead>\n",
       "  <tbody>\n",
       "    <tr>\n",
       "      <th>1964-07</th>\n",
       "      <td>0.047100</td>\n",
       "      <td>0.027194</td>\n",
       "      <td>-0.003801</td>\n",
       "      <td>0.004489</td>\n",
       "      <td>0.016559</td>\n",
       "      <td>0.011829</td>\n",
       "    </tr>\n",
       "    <tr>\n",
       "      <th>1964-08</th>\n",
       "      <td>-0.006055</td>\n",
       "      <td>-0.015123</td>\n",
       "      <td>0.000532</td>\n",
       "      <td>-0.021728</td>\n",
       "      <td>-0.008961</td>\n",
       "      <td>-0.027789</td>\n",
       "    </tr>\n",
       "    <tr>\n",
       "      <th>1964-09</th>\n",
       "      <td>0.024405</td>\n",
       "      <td>0.026426</td>\n",
       "      <td>0.028011</td>\n",
       "      <td>0.014669</td>\n",
       "      <td>0.030932</td>\n",
       "      <td>0.039027</td>\n",
       "    </tr>\n",
       "    <tr>\n",
       "      <th>1964-10</th>\n",
       "      <td>0.031740</td>\n",
       "      <td>0.000392</td>\n",
       "      <td>0.014604</td>\n",
       "      <td>0.008365</td>\n",
       "      <td>0.017790</td>\n",
       "      <td>0.003543</td>\n",
       "    </tr>\n",
       "    <tr>\n",
       "      <th>1964-11</th>\n",
       "      <td>0.020627</td>\n",
       "      <td>-0.019613</td>\n",
       "      <td>0.002863</td>\n",
       "      <td>-0.012537</td>\n",
       "      <td>-0.021230</td>\n",
       "      <td>-0.034075</td>\n",
       "    </tr>\n",
       "  </tbody>\n",
       "</table>\n",
       "</div>"
      ],
      "text/plain": [
       "               p1_P1     p1_P2     p2_P1     p2_P2     p3_P1     p3_P2\n",
       "year_month                                                            \n",
       "1964-07     0.047100  0.027194 -0.003801  0.004489  0.016559  0.011829\n",
       "1964-08    -0.006055 -0.015123  0.000532 -0.021728 -0.008961 -0.027789\n",
       "1964-09     0.024405  0.026426  0.028011  0.014669  0.030932  0.039027\n",
       "1964-10     0.031740  0.000392  0.014604  0.008365  0.017790  0.003543\n",
       "1964-11     0.020627 -0.019613  0.002863 -0.012537 -0.021230 -0.034075"
      ]
     },
     "execution_count": 97,
     "metadata": {},
     "output_type": "execute_result"
    }
   ],
   "source": [
    "portfolios_vwret_df.head()"
   ]
  },
  {
   "cell_type": "code",
   "execution_count": 98,
   "metadata": {},
   "outputs": [],
   "source": [
    "portfolios_vwret_df.rename(columns={\"p1_P1\": \"SL\",\n",
    "                                    \"p2_P1\": \"SM\",\n",
    "                                    \"p3_P1\": \"SH\",\n",
    "                                    \"p1_P2\": \"BL\",\n",
    "                                    \"p2_P2\": \"BM\",\n",
    "                                    \"p3_P2\": \"BH\"},\n",
    "                          inplace=True)"
   ]
  },
  {
   "cell_type": "code",
   "execution_count": 99,
   "metadata": {},
   "outputs": [
    {
     "data": {
      "text/html": [
       "<div>\n",
       "<style scoped>\n",
       "    .dataframe tbody tr th:only-of-type {\n",
       "        vertical-align: middle;\n",
       "    }\n",
       "\n",
       "    .dataframe tbody tr th {\n",
       "        vertical-align: top;\n",
       "    }\n",
       "\n",
       "    .dataframe thead th {\n",
       "        text-align: right;\n",
       "    }\n",
       "</style>\n",
       "<table border=\"1\" class=\"dataframe\">\n",
       "  <thead>\n",
       "    <tr style=\"text-align: right;\">\n",
       "      <th></th>\n",
       "      <th>SL</th>\n",
       "      <th>BL</th>\n",
       "      <th>SM</th>\n",
       "      <th>BM</th>\n",
       "      <th>SH</th>\n",
       "      <th>BH</th>\n",
       "    </tr>\n",
       "    <tr>\n",
       "      <th>year_month</th>\n",
       "      <th></th>\n",
       "      <th></th>\n",
       "      <th></th>\n",
       "      <th></th>\n",
       "      <th></th>\n",
       "      <th></th>\n",
       "    </tr>\n",
       "  </thead>\n",
       "  <tbody>\n",
       "    <tr>\n",
       "      <th>1964-07</th>\n",
       "      <td>0.047100</td>\n",
       "      <td>0.027194</td>\n",
       "      <td>-0.003801</td>\n",
       "      <td>0.004489</td>\n",
       "      <td>0.016559</td>\n",
       "      <td>0.011829</td>\n",
       "    </tr>\n",
       "    <tr>\n",
       "      <th>1964-08</th>\n",
       "      <td>-0.006055</td>\n",
       "      <td>-0.015123</td>\n",
       "      <td>0.000532</td>\n",
       "      <td>-0.021728</td>\n",
       "      <td>-0.008961</td>\n",
       "      <td>-0.027789</td>\n",
       "    </tr>\n",
       "    <tr>\n",
       "      <th>1964-09</th>\n",
       "      <td>0.024405</td>\n",
       "      <td>0.026426</td>\n",
       "      <td>0.028011</td>\n",
       "      <td>0.014669</td>\n",
       "      <td>0.030932</td>\n",
       "      <td>0.039027</td>\n",
       "    </tr>\n",
       "    <tr>\n",
       "      <th>1964-10</th>\n",
       "      <td>0.031740</td>\n",
       "      <td>0.000392</td>\n",
       "      <td>0.014604</td>\n",
       "      <td>0.008365</td>\n",
       "      <td>0.017790</td>\n",
       "      <td>0.003543</td>\n",
       "    </tr>\n",
       "    <tr>\n",
       "      <th>1964-11</th>\n",
       "      <td>0.020627</td>\n",
       "      <td>-0.019613</td>\n",
       "      <td>0.002863</td>\n",
       "      <td>-0.012537</td>\n",
       "      <td>-0.021230</td>\n",
       "      <td>-0.034075</td>\n",
       "    </tr>\n",
       "  </tbody>\n",
       "</table>\n",
       "</div>"
      ],
      "text/plain": [
       "                  SL        BL        SM        BM        SH        BH\n",
       "year_month                                                            \n",
       "1964-07     0.047100  0.027194 -0.003801  0.004489  0.016559  0.011829\n",
       "1964-08    -0.006055 -0.015123  0.000532 -0.021728 -0.008961 -0.027789\n",
       "1964-09     0.024405  0.026426  0.028011  0.014669  0.030932  0.039027\n",
       "1964-10     0.031740  0.000392  0.014604  0.008365  0.017790  0.003543\n",
       "1964-11     0.020627 -0.019613  0.002863 -0.012537 -0.021230 -0.034075"
      ]
     },
     "execution_count": 99,
     "metadata": {},
     "output_type": "execute_result"
    }
   ],
   "source": [
    "portfolios_vwret_df.head()"
   ]
  },
  {
   "cell_type": "code",
   "execution_count": 100,
   "metadata": {},
   "outputs": [],
   "source": [
    "SMB = (portfolios_vwret_df['SL'] + portfolios_vwret_df['SM'] + portfolios_vwret_df['SH']) / 3 - \\\n",
    "      (portfolios_vwret_df['BL'] + portfolios_vwret_df['BM'] + portfolios_vwret_df['BH']) / 3 "
   ]
  },
  {
   "cell_type": "code",
   "execution_count": 101,
   "metadata": {},
   "outputs": [
    {
     "data": {
      "text/plain": [
       "year_month\n",
       "1964-07    0.005448\n",
       "1964-08    0.016718\n",
       "1964-09    0.001075\n",
       "1964-10    0.017278\n",
       "1964-11    0.022828\n",
       "Freq: M, dtype: float64"
      ]
     },
     "execution_count": 101,
     "metadata": {},
     "output_type": "execute_result"
    }
   ],
   "source": [
    "SMB.head()"
   ]
  },
  {
   "cell_type": "code",
   "execution_count": 102,
   "metadata": {},
   "outputs": [],
   "source": [
    "HML = (portfolios_vwret_df['SH'] + portfolios_vwret_df['BH']) / 2 - \\\n",
    "      (portfolios_vwret_df['SL'] + portfolios_vwret_df['BL']) / 2 "
   ]
  },
  {
   "cell_type": "code",
   "execution_count": 103,
   "metadata": {},
   "outputs": [
    {
     "data": {
      "text/plain": [
       "year_month\n",
       "1964-07   -0.022953\n",
       "1964-08   -0.007786\n",
       "1964-09    0.009564\n",
       "1964-10   -0.005399\n",
       "1964-11   -0.028159\n",
       "Freq: M, dtype: float64"
      ]
     },
     "execution_count": 103,
     "metadata": {},
     "output_type": "execute_result"
    }
   ],
   "source": [
    "HML.head()"
   ]
  },
  {
   "cell_type": "code",
   "execution_count": 104,
   "metadata": {},
   "outputs": [
    {
     "data": {
      "text/html": [
       "<div>\n",
       "<style scoped>\n",
       "    .dataframe tbody tr th:only-of-type {\n",
       "        vertical-align: middle;\n",
       "    }\n",
       "\n",
       "    .dataframe tbody tr th {\n",
       "        vertical-align: top;\n",
       "    }\n",
       "\n",
       "    .dataframe thead th {\n",
       "        text-align: right;\n",
       "    }\n",
       "</style>\n",
       "<table border=\"1\" class=\"dataframe\">\n",
       "  <thead>\n",
       "    <tr style=\"text-align: right;\">\n",
       "      <th></th>\n",
       "      <th>stock_code</th>\n",
       "      <th>year_month</th>\n",
       "      <th>ret</th>\n",
       "      <th>rf</th>\n",
       "      <th>ex_ret</th>\n",
       "      <th>year</th>\n",
       "      <th>month</th>\n",
       "      <th>bm_date</th>\n",
       "      <th>exchange_code_x</th>\n",
       "      <th>bm</th>\n",
       "      <th>mkt_date</th>\n",
       "      <th>exchange_code_y</th>\n",
       "      <th>mktcap</th>\n",
       "    </tr>\n",
       "  </thead>\n",
       "  <tbody>\n",
       "    <tr>\n",
       "      <th>0</th>\n",
       "      <td>10001</td>\n",
       "      <td>1987-07</td>\n",
       "      <td>0.021277</td>\n",
       "      <td>0.004667</td>\n",
       "      <td>0.016609</td>\n",
       "      <td>1987</td>\n",
       "      <td>7</td>\n",
       "      <td>1986</td>\n",
       "      <td>3.0</td>\n",
       "      <td>0.787814</td>\n",
       "      <td>1987-06</td>\n",
       "      <td>3.0</td>\n",
       "      <td>5822125.0</td>\n",
       "    </tr>\n",
       "    <tr>\n",
       "      <th>1</th>\n",
       "      <td>10001</td>\n",
       "      <td>1987-08</td>\n",
       "      <td>0.083333</td>\n",
       "      <td>0.004718</td>\n",
       "      <td>0.078616</td>\n",
       "      <td>1987</td>\n",
       "      <td>8</td>\n",
       "      <td>1986</td>\n",
       "      <td>3.0</td>\n",
       "      <td>0.787814</td>\n",
       "      <td>1987-06</td>\n",
       "      <td>3.0</td>\n",
       "      <td>5822125.0</td>\n",
       "    </tr>\n",
       "    <tr>\n",
       "      <th>2</th>\n",
       "      <td>10001</td>\n",
       "      <td>1987-09</td>\n",
       "      <td>-0.038462</td>\n",
       "      <td>0.005417</td>\n",
       "      <td>-0.043878</td>\n",
       "      <td>1987</td>\n",
       "      <td>9</td>\n",
       "      <td>1986</td>\n",
       "      <td>3.0</td>\n",
       "      <td>0.787814</td>\n",
       "      <td>1987-06</td>\n",
       "      <td>3.0</td>\n",
       "      <td>5822125.0</td>\n",
       "    </tr>\n",
       "    <tr>\n",
       "      <th>3</th>\n",
       "      <td>10001</td>\n",
       "      <td>1987-10</td>\n",
       "      <td>0.020000</td>\n",
       "      <td>0.003353</td>\n",
       "      <td>0.016648</td>\n",
       "      <td>1987</td>\n",
       "      <td>10</td>\n",
       "      <td>1986</td>\n",
       "      <td>3.0</td>\n",
       "      <td>0.787814</td>\n",
       "      <td>1987-06</td>\n",
       "      <td>3.0</td>\n",
       "      <td>5822125.0</td>\n",
       "    </tr>\n",
       "    <tr>\n",
       "      <th>4</th>\n",
       "      <td>10001</td>\n",
       "      <td>1987-11</td>\n",
       "      <td>-0.029412</td>\n",
       "      <td>0.002927</td>\n",
       "      <td>-0.032339</td>\n",
       "      <td>1987</td>\n",
       "      <td>11</td>\n",
       "      <td>1986</td>\n",
       "      <td>3.0</td>\n",
       "      <td>0.787814</td>\n",
       "      <td>1987-06</td>\n",
       "      <td>3.0</td>\n",
       "      <td>5822125.0</td>\n",
       "    </tr>\n",
       "  </tbody>\n",
       "</table>\n",
       "</div>"
      ],
      "text/plain": [
       "   stock_code year_month       ret        rf    ex_ret  year  month  bm_date  \\\n",
       "0       10001    1987-07  0.021277  0.004667  0.016609  1987      7     1986   \n",
       "1       10001    1987-08  0.083333  0.004718  0.078616  1987      8     1986   \n",
       "2       10001    1987-09 -0.038462  0.005417 -0.043878  1987      9     1986   \n",
       "3       10001    1987-10  0.020000  0.003353  0.016648  1987     10     1986   \n",
       "4       10001    1987-11 -0.029412  0.002927 -0.032339  1987     11     1986   \n",
       "\n",
       "   exchange_code_x        bm mkt_date  exchange_code_y     mktcap  \n",
       "0              3.0  0.787814  1987-06              3.0  5822125.0  \n",
       "1              3.0  0.787814  1987-06              3.0  5822125.0  \n",
       "2              3.0  0.787814  1987-06              3.0  5822125.0  \n",
       "3              3.0  0.787814  1987-06              3.0  5822125.0  \n",
       "4              3.0  0.787814  1987-06              3.0  5822125.0  "
      ]
     },
     "execution_count": 104,
     "metadata": {},
     "output_type": "execute_result"
    }
   ],
   "source": [
    "sort_df_.head()"
   ]
  },
  {
   "cell_type": "code",
   "execution_count": 105,
   "metadata": {},
   "outputs": [],
   "source": [
    "keep_cols = ['stock_code', 'year_month', 'ret', 'rf', 'mktcap']\n",
    "_sort_df_ = sort_df_[keep_cols]"
   ]
  },
  {
   "cell_type": "code",
   "execution_count": 106,
   "metadata": {},
   "outputs": [
    {
     "name": "stdout",
     "output_type": "stream",
     "text": [
      "<class 'pandas.core.frame.DataFrame'>\n",
      "Int64Index: 1090910 entries, 0 to 1090909\n",
      "Data columns (total 5 columns):\n",
      " #   Column      Non-Null Count    Dtype    \n",
      "---  ------      --------------    -----    \n",
      " 0   stock_code  1090910 non-null  int64    \n",
      " 1   year_month  1090910 non-null  period[M]\n",
      " 2   ret         1090910 non-null  float64  \n",
      " 3   rf          1090910 non-null  float64  \n",
      " 4   mktcap      1090910 non-null  float64  \n",
      "dtypes: float64(3), int64(1), period[M](1)\n",
      "memory usage: 49.9 MB\n"
     ]
    }
   ],
   "source": [
    "_sort_df_.info()"
   ]
  },
  {
   "cell_type": "code",
   "execution_count": 107,
   "metadata": {},
   "outputs": [],
   "source": [
    "temp = pd.DataFrame(_sort_df_.groupby(['year_month'])['mktcap'].sum())"
   ]
  },
  {
   "cell_type": "code",
   "execution_count": 108,
   "metadata": {},
   "outputs": [],
   "source": [
    "temp.columns = ['mktcap_sum']\n",
    "_sort_df_ = pd.merge(_sort_df_,temp,on=['year_month'])\n",
    "_sort_df_['weight'] = _sort_df_['mktcap']/_sort_df_['mktcap_sum']\n",
    "_sort_df_['weighted_ret'] = _sort_df_['weight']*_sort_df_['ret']\n",
    "vwret_df = _sort_df_.groupby(['year_month'])[['weighted_ret']].sum()"
   ]
  },
  {
   "cell_type": "code",
   "execution_count": 109,
   "metadata": {},
   "outputs": [],
   "source": [
    "vwret_df.columns = ['vwret']"
   ]
  },
  {
   "cell_type": "code",
   "execution_count": 110,
   "metadata": {},
   "outputs": [
    {
     "data": {
      "text/html": [
       "<div>\n",
       "<style scoped>\n",
       "    .dataframe tbody tr th:only-of-type {\n",
       "        vertical-align: middle;\n",
       "    }\n",
       "\n",
       "    .dataframe tbody tr th {\n",
       "        vertical-align: top;\n",
       "    }\n",
       "\n",
       "    .dataframe thead th {\n",
       "        text-align: right;\n",
       "    }\n",
       "</style>\n",
       "<table border=\"1\" class=\"dataframe\">\n",
       "  <thead>\n",
       "    <tr style=\"text-align: right;\">\n",
       "      <th></th>\n",
       "      <th>vwret</th>\n",
       "    </tr>\n",
       "    <tr>\n",
       "      <th>year_month</th>\n",
       "      <th></th>\n",
       "    </tr>\n",
       "  </thead>\n",
       "  <tbody>\n",
       "    <tr>\n",
       "      <th>1964-07</th>\n",
       "      <td>0.016481</td>\n",
       "    </tr>\n",
       "    <tr>\n",
       "      <th>1964-08</th>\n",
       "      <td>-0.017993</td>\n",
       "    </tr>\n",
       "    <tr>\n",
       "      <th>1964-09</th>\n",
       "      <td>0.022616</td>\n",
       "    </tr>\n",
       "    <tr>\n",
       "      <th>1964-10</th>\n",
       "      <td>0.004800</td>\n",
       "    </tr>\n",
       "    <tr>\n",
       "      <th>1964-11</th>\n",
       "      <td>-0.016783</td>\n",
       "    </tr>\n",
       "  </tbody>\n",
       "</table>\n",
       "</div>"
      ],
      "text/plain": [
       "               vwret\n",
       "year_month          \n",
       "1964-07     0.016481\n",
       "1964-08    -0.017993\n",
       "1964-09     0.022616\n",
       "1964-10     0.004800\n",
       "1964-11    -0.016783"
      ]
     },
     "execution_count": 110,
     "metadata": {},
     "output_type": "execute_result"
    }
   ],
   "source": [
    "vwret_df.head()"
   ]
  },
  {
   "cell_type": "code",
   "execution_count": 111,
   "metadata": {},
   "outputs": [],
   "source": [
    "vwret_df = pd.merge(vwret_df,rf,on=['year_month'])\n",
    "vwret_df['RM-RF'] = vwret_df['vwret'] - vwret_df['rf']\n",
    "vwret_df.set_index(['year_month'],inplace=True)"
   ]
  },
  {
   "cell_type": "code",
   "execution_count": null,
   "metadata": {},
   "outputs": [],
   "source": []
  },
  {
   "cell_type": "code",
   "execution_count": 112,
   "metadata": {},
   "outputs": [],
   "source": [
    "RM_RF = vwret_df['RM-RF']"
   ]
  },
  {
   "cell_type": "code",
   "execution_count": 113,
   "metadata": {},
   "outputs": [
    {
     "data": {
      "text/plain": [
       "year_month\n",
       "1964-07    0.013765\n",
       "1964-08   -0.020713\n",
       "1964-09    0.019680\n",
       "1964-10    0.001944\n",
       "1964-11   -0.019761\n",
       "Freq: M, Name: RM-RF, dtype: float64"
      ]
     },
     "execution_count": 113,
     "metadata": {},
     "output_type": "execute_result"
    }
   ],
   "source": [
    "RM_RF.head()"
   ]
  },
  {
   "cell_type": "code",
   "execution_count": 114,
   "metadata": {},
   "outputs": [],
   "source": [
    "factors_df = pd.DataFrame(np.vstack([SMB,HML,RM_RF])).T"
   ]
  },
  {
   "cell_type": "code",
   "execution_count": 115,
   "metadata": {},
   "outputs": [],
   "source": [
    "factors_df.columns = ['SMB','HML','RM-RF']\n",
    "factors_df.index = SMB.index"
   ]
  },
  {
   "cell_type": "code",
   "execution_count": 116,
   "metadata": {},
   "outputs": [
    {
     "data": {
      "text/html": [
       "<div>\n",
       "<style scoped>\n",
       "    .dataframe tbody tr th:only-of-type {\n",
       "        vertical-align: middle;\n",
       "    }\n",
       "\n",
       "    .dataframe tbody tr th {\n",
       "        vertical-align: top;\n",
       "    }\n",
       "\n",
       "    .dataframe thead th {\n",
       "        text-align: right;\n",
       "    }\n",
       "</style>\n",
       "<table border=\"1\" class=\"dataframe\">\n",
       "  <thead>\n",
       "    <tr style=\"text-align: right;\">\n",
       "      <th></th>\n",
       "      <th>SMB</th>\n",
       "      <th>HML</th>\n",
       "      <th>RM-RF</th>\n",
       "    </tr>\n",
       "    <tr>\n",
       "      <th>year_month</th>\n",
       "      <th></th>\n",
       "      <th></th>\n",
       "      <th></th>\n",
       "    </tr>\n",
       "  </thead>\n",
       "  <tbody>\n",
       "    <tr>\n",
       "      <th>1964-07</th>\n",
       "      <td>0.005448</td>\n",
       "      <td>-0.022953</td>\n",
       "      <td>0.013765</td>\n",
       "    </tr>\n",
       "    <tr>\n",
       "      <th>1964-08</th>\n",
       "      <td>0.016718</td>\n",
       "      <td>-0.007786</td>\n",
       "      <td>-0.020713</td>\n",
       "    </tr>\n",
       "    <tr>\n",
       "      <th>1964-09</th>\n",
       "      <td>0.001075</td>\n",
       "      <td>0.009564</td>\n",
       "      <td>0.019680</td>\n",
       "    </tr>\n",
       "    <tr>\n",
       "      <th>1964-10</th>\n",
       "      <td>0.017278</td>\n",
       "      <td>-0.005399</td>\n",
       "      <td>0.001944</td>\n",
       "    </tr>\n",
       "    <tr>\n",
       "      <th>1964-11</th>\n",
       "      <td>0.022828</td>\n",
       "      <td>-0.028159</td>\n",
       "      <td>-0.019761</td>\n",
       "    </tr>\n",
       "  </tbody>\n",
       "</table>\n",
       "</div>"
      ],
      "text/plain": [
       "                 SMB       HML     RM-RF\n",
       "year_month                              \n",
       "1964-07     0.005448 -0.022953  0.013765\n",
       "1964-08     0.016718 -0.007786 -0.020713\n",
       "1964-09     0.001075  0.009564  0.019680\n",
       "1964-10     0.017278 -0.005399  0.001944\n",
       "1964-11     0.022828 -0.028159 -0.019761"
      ]
     },
     "execution_count": 116,
     "metadata": {},
     "output_type": "execute_result"
    }
   ],
   "source": [
    "factors_df.head()"
   ]
  },
  {
   "cell_type": "code",
   "execution_count": 117,
   "metadata": {},
   "outputs": [
    {
     "data": {
      "text/plain": [
       "<AxesSubplot:xlabel='year_month'>"
      ]
     },
     "execution_count": 117,
     "metadata": {},
     "output_type": "execute_result"
    },
    {
     "data": {
      "image/png": "[encoded data removed]",
      "text/plain": [
       "<Figure size 432x288 with 1 Axes>"
      ]
     },
     "metadata": {
      "needs_background": "light"
     },
     "output_type": "display_data"
    }
   ],
   "source": [
    "((1 + factors_df).cumprod()*100).plot()"
   ]
  },
  {
   "cell_type": "code",
   "execution_count": 118,
   "metadata": {
    "scrolled": true
   },
   "outputs": [],
   "source": [
    "sort_df_.drop(columns=['year','month','exchange_code_x'],inplace=True)\n",
    "sort_df_.rename(columns={'exchange_code_y':'exchange_code'},inplace=True)"
   ]
  },
  {
   "cell_type": "code",
   "execution_count": null,
   "metadata": {},
   "outputs": [],
   "source": []
  },
  {
   "cell_type": "markdown",
   "metadata": {},
   "source": [
    "接下来计算因变量（25组）"
   ]
  },
  {
   "cell_type": "code",
   "execution_count": 119,
   "metadata": {
    "scrolled": true
   },
   "outputs": [
    {
     "data": {
      "text/plain": [
       "Index(['stock_code', 'year_month', 'ret', 'rf', 'ex_ret', 'bm_date', 'bm',\n",
       "       'mkt_date', 'exchange_code', 'mktcap'],\n",
       "      dtype='object')"
      ]
     },
     "execution_count": 119,
     "metadata": {},
     "output_type": "execute_result"
    }
   ],
   "source": [
    "sort_df_.columns"
   ]
  },
  {
   "cell_type": "code",
   "execution_count": 120,
   "metadata": {},
   "outputs": [],
   "source": [
    "q = dict()\n",
    "keys = ['q'+str(i) for i in range(1, 5)]\n",
    "values = [0.2,0.4,0.6,0.8]\n",
    "q.update(zip(keys,values))"
   ]
  },
  {
   "cell_type": "code",
   "execution_count": 121,
   "metadata": {},
   "outputs": [
    {
     "data": {
      "text/plain": [
       "('q4', 0.8)"
      ]
     },
     "execution_count": 121,
     "metadata": {},
     "output_type": "execute_result"
    }
   ],
   "source": [
    "list(zip(keys,values))[3]"
   ]
  },
  {
   "cell_type": "code",
   "execution_count": 122,
   "metadata": {},
   "outputs": [
    {
     "data": {
      "text/plain": [
       "dict_items([('q1', 0.2), ('q2', 0.4), ('q3', 0.6), ('q4', 0.8)])"
      ]
     },
     "execution_count": 122,
     "metadata": {},
     "output_type": "execute_result"
    }
   ],
   "source": [
    "q.items()"
   ]
  },
  {
   "cell_type": "code",
   "execution_count": 123,
   "metadata": {},
   "outputs": [],
   "source": [
    "quantile_df = pd.DataFrame()\n",
    "for key, value in q.items():\n",
    "    quantile_df[key] = sort_df_.groupby(['bm_date'])['bm'].quantile(value)"
   ]
  },
  {
   "cell_type": "code",
   "execution_count": 124,
   "metadata": {},
   "outputs": [],
   "source": [
    "sort_df_ = pd.merge(sort_df_, quantile_df, on='bm_date')"
   ]
  },
  {
   "cell_type": "code",
   "execution_count": 125,
   "metadata": {},
   "outputs": [
    {
     "data": {
      "text/plain": [
       "Index(['stock_code', 'year_month', 'ret', 'rf', 'ex_ret', 'bm_date', 'bm',\n",
       "       'mkt_date', 'exchange_code', 'mktcap', 'q1', 'q2', 'q3', 'q4'],\n",
       "      dtype='object')"
      ]
     },
     "execution_count": 125,
     "metadata": {},
     "output_type": "execute_result"
    }
   ],
   "source": [
    "sort_df_.columns"
   ]
  },
  {
   "cell_type": "code",
   "execution_count": 126,
   "metadata": {},
   "outputs": [],
   "source": [
    "q = dict()\n",
    "keys = ['Q'+str(i) for i in range(1, 5)]\n",
    "values = [0.2,0.4,0.6,0.8]\n",
    "q.update(zip(keys,values))\n",
    "quantile_df = pd.DataFrame()\n",
    "for key, value in q.items():\n",
    "    quantile_df[key] = sort_df_.groupby(['mkt_date'])['mktcap'].quantile(value)\n",
    "sort_df_ = pd.merge(sort_df_, quantile_df, on='mkt_date')"
   ]
  },
  {
   "cell_type": "code",
   "execution_count": 127,
   "metadata": {},
   "outputs": [
    {
     "data": {
      "text/html": [
       "<div>\n",
       "<style scoped>\n",
       "    .dataframe tbody tr th:only-of-type {\n",
       "        vertical-align: middle;\n",
       "    }\n",
       "\n",
       "    .dataframe tbody tr th {\n",
       "        vertical-align: top;\n",
       "    }\n",
       "\n",
       "    .dataframe thead th {\n",
       "        text-align: right;\n",
       "    }\n",
       "</style>\n",
       "<table border=\"1\" class=\"dataframe\">\n",
       "  <thead>\n",
       "    <tr style=\"text-align: right;\">\n",
       "      <th></th>\n",
       "      <th>stock_code</th>\n",
       "      <th>year_month</th>\n",
       "      <th>ret</th>\n",
       "      <th>rf</th>\n",
       "      <th>ex_ret</th>\n",
       "      <th>bm_date</th>\n",
       "      <th>bm</th>\n",
       "      <th>mkt_date</th>\n",
       "      <th>exchange_code</th>\n",
       "      <th>mktcap</th>\n",
       "      <th>q1</th>\n",
       "      <th>q2</th>\n",
       "      <th>q3</th>\n",
       "      <th>q4</th>\n",
       "      <th>Q1</th>\n",
       "      <th>Q2</th>\n",
       "      <th>Q3</th>\n",
       "      <th>Q4</th>\n",
       "    </tr>\n",
       "  </thead>\n",
       "  <tbody>\n",
       "    <tr>\n",
       "      <th>0</th>\n",
       "      <td>10001</td>\n",
       "      <td>1987-07</td>\n",
       "      <td>0.021277</td>\n",
       "      <td>0.004667</td>\n",
       "      <td>0.016609</td>\n",
       "      <td>1986</td>\n",
       "      <td>0.787814</td>\n",
       "      <td>1987-06</td>\n",
       "      <td>3.0</td>\n",
       "      <td>5822125.0</td>\n",
       "      <td>0.291689</td>\n",
       "      <td>0.49936</td>\n",
       "      <td>0.703307</td>\n",
       "      <td>0.997286</td>\n",
       "      <td>11982750.0</td>\n",
       "      <td>33681375.0</td>\n",
       "      <td>95617250.0</td>\n",
       "      <td>386456000.0</td>\n",
       "    </tr>\n",
       "    <tr>\n",
       "      <th>1</th>\n",
       "      <td>10001</td>\n",
       "      <td>1987-08</td>\n",
       "      <td>0.083333</td>\n",
       "      <td>0.004718</td>\n",
       "      <td>0.078616</td>\n",
       "      <td>1986</td>\n",
       "      <td>0.787814</td>\n",
       "      <td>1987-06</td>\n",
       "      <td>3.0</td>\n",
       "      <td>5822125.0</td>\n",
       "      <td>0.291689</td>\n",
       "      <td>0.49936</td>\n",
       "      <td>0.703307</td>\n",
       "      <td>0.997286</td>\n",
       "      <td>11982750.0</td>\n",
       "      <td>33681375.0</td>\n",
       "      <td>95617250.0</td>\n",
       "      <td>386456000.0</td>\n",
       "    </tr>\n",
       "    <tr>\n",
       "      <th>2</th>\n",
       "      <td>10001</td>\n",
       "      <td>1987-09</td>\n",
       "      <td>-0.038462</td>\n",
       "      <td>0.005417</td>\n",
       "      <td>-0.043878</td>\n",
       "      <td>1986</td>\n",
       "      <td>0.787814</td>\n",
       "      <td>1987-06</td>\n",
       "      <td>3.0</td>\n",
       "      <td>5822125.0</td>\n",
       "      <td>0.291689</td>\n",
       "      <td>0.49936</td>\n",
       "      <td>0.703307</td>\n",
       "      <td>0.997286</td>\n",
       "      <td>11982750.0</td>\n",
       "      <td>33681375.0</td>\n",
       "      <td>95617250.0</td>\n",
       "      <td>386456000.0</td>\n",
       "    </tr>\n",
       "    <tr>\n",
       "      <th>3</th>\n",
       "      <td>10001</td>\n",
       "      <td>1987-10</td>\n",
       "      <td>0.020000</td>\n",
       "      <td>0.003353</td>\n",
       "      <td>0.016648</td>\n",
       "      <td>1986</td>\n",
       "      <td>0.787814</td>\n",
       "      <td>1987-06</td>\n",
       "      <td>3.0</td>\n",
       "      <td>5822125.0</td>\n",
       "      <td>0.291689</td>\n",
       "      <td>0.49936</td>\n",
       "      <td>0.703307</td>\n",
       "      <td>0.997286</td>\n",
       "      <td>11982750.0</td>\n",
       "      <td>33681375.0</td>\n",
       "      <td>95617250.0</td>\n",
       "      <td>386456000.0</td>\n",
       "    </tr>\n",
       "    <tr>\n",
       "      <th>4</th>\n",
       "      <td>10001</td>\n",
       "      <td>1987-11</td>\n",
       "      <td>-0.029412</td>\n",
       "      <td>0.002927</td>\n",
       "      <td>-0.032339</td>\n",
       "      <td>1986</td>\n",
       "      <td>0.787814</td>\n",
       "      <td>1987-06</td>\n",
       "      <td>3.0</td>\n",
       "      <td>5822125.0</td>\n",
       "      <td>0.291689</td>\n",
       "      <td>0.49936</td>\n",
       "      <td>0.703307</td>\n",
       "      <td>0.997286</td>\n",
       "      <td>11982750.0</td>\n",
       "      <td>33681375.0</td>\n",
       "      <td>95617250.0</td>\n",
       "      <td>386456000.0</td>\n",
       "    </tr>\n",
       "  </tbody>\n",
       "</table>\n",
       "</div>"
      ],
      "text/plain": [
       "   stock_code year_month       ret        rf    ex_ret  bm_date        bm  \\\n",
       "0       10001    1987-07  0.021277  0.004667  0.016609     1986  0.787814   \n",
       "1       10001    1987-08  0.083333  0.004718  0.078616     1986  0.787814   \n",
       "2       10001    1987-09 -0.038462  0.005417 -0.043878     1986  0.787814   \n",
       "3       10001    1987-10  0.020000  0.003353  0.016648     1986  0.787814   \n",
       "4       10001    1987-11 -0.029412  0.002927 -0.032339     1986  0.787814   \n",
       "\n",
       "  mkt_date  exchange_code     mktcap        q1       q2        q3        q4  \\\n",
       "0  1987-06            3.0  5822125.0  0.291689  0.49936  0.703307  0.997286   \n",
       "1  1987-06            3.0  5822125.0  0.291689  0.49936  0.703307  0.997286   \n",
       "2  1987-06            3.0  5822125.0  0.291689  0.49936  0.703307  0.997286   \n",
       "3  1987-06            3.0  5822125.0  0.291689  0.49936  0.703307  0.997286   \n",
       "4  1987-06            3.0  5822125.0  0.291689  0.49936  0.703307  0.997286   \n",
       "\n",
       "           Q1          Q2          Q3           Q4  \n",
       "0  11982750.0  33681375.0  95617250.0  386456000.0  \n",
       "1  11982750.0  33681375.0  95617250.0  386456000.0  \n",
       "2  11982750.0  33681375.0  95617250.0  386456000.0  \n",
       "3  11982750.0  33681375.0  95617250.0  386456000.0  \n",
       "4  11982750.0  33681375.0  95617250.0  386456000.0  "
      ]
     },
     "execution_count": 127,
     "metadata": {},
     "output_type": "execute_result"
    }
   ],
   "source": [
    "sort_df_.head()"
   ]
  },
  {
   "cell_type": "code",
   "execution_count": 128,
   "metadata": {
    "scrolled": true
   },
   "outputs": [],
   "source": [
    "portfolios_bm = dict()\n",
    "keep_cols = ['stock_code', 'year_month', 'ret', 'rf', 'ex_ret', 'bm_date', 'bm',\n",
    "       'mkt_date', 'exchange_code', 'mktcap' ]\n",
    "\n",
    "portfolios_bm['bm1'] = sort_df_.loc[sort_df_['bm'] <= sort_df_['q1'],keep_cols].copy()\n",
    "for i in range(2,5):\n",
    "    idx = (sort_df_[f'q{i-1}'] <= sort_df_['bm']) & (sort_df_['bm'] <= sort_df_[f'q{i}'])\n",
    "    portfolios_bm[f'bm{i}'] = sort_df_.loc[idx,keep_cols].copy()\n",
    "portfolios_bm['bm5'] = sort_df_.loc[sort_df_['bm'] >= sort_df_['q4'],keep_cols].copy()"
   ]
  },
  {
   "cell_type": "code",
   "execution_count": 129,
   "metadata": {},
   "outputs": [],
   "source": [
    "portfolios_mkt = dict()\n",
    "keep_cols = ['stock_code', 'year_month', 'ret', 'rf', 'ex_ret', 'bm_date', 'bm',\n",
    "       'mkt_date', 'exchange_code', 'mktcap' ]\n",
    "\n",
    "portfolios_mkt['mkt1'] = sort_df_.loc[sort_df_['mktcap'] <= sort_df_['Q1'],keep_cols].copy()\n",
    "for i in range(2,5):\n",
    "    idx = (sort_df_[f'Q{i-1}'] <= sort_df_['mktcap']) & (sort_df_['mktcap'] <= sort_df_[f'Q{i}'])\n",
    "    portfolios_mkt[f'mkt{i}'] = sort_df_.loc[idx,keep_cols].copy()\n",
    "portfolios_mkt['mkt5'] = sort_df_.loc[sort_df_['mktcap'] >= sort_df_['Q4'],keep_cols].copy()"
   ]
  },
  {
   "cell_type": "code",
   "execution_count": 130,
   "metadata": {},
   "outputs": [
    {
     "data": {
      "text/plain": [
       "dict_keys(['bm1', 'bm2', 'bm3', 'bm4', 'bm5'])"
      ]
     },
     "execution_count": 130,
     "metadata": {},
     "output_type": "execute_result"
    }
   ],
   "source": [
    "portfolios_bm.keys()"
   ]
  },
  {
   "cell_type": "code",
   "execution_count": 131,
   "metadata": {},
   "outputs": [],
   "source": [
    "portfolios_dpt = dict()\n",
    "for bm in portfolios_bm.keys():\n",
    "    for mkt in portfolios_mkt.keys():\n",
    "        portfolios_dpt[f'{bm}_{mkt}'] = pd.merge(portfolios_bm[bm][['stock_code','year_month']],\n",
    "                                            portfolios_mkt[mkt],\n",
    "                                             on=['stock_code','year_month'])"
   ]
  },
  {
   "cell_type": "code",
   "execution_count": 132,
   "metadata": {},
   "outputs": [
    {
     "data": {
      "text/plain": [
       "dict_keys(['bm1_mkt1', 'bm1_mkt2', 'bm1_mkt3', 'bm1_mkt4', 'bm1_mkt5', 'bm2_mkt1', 'bm2_mkt2', 'bm2_mkt3', 'bm2_mkt4', 'bm2_mkt5', 'bm3_mkt1', 'bm3_mkt2', 'bm3_mkt3', 'bm3_mkt4', 'bm3_mkt5', 'bm4_mkt1', 'bm4_mkt2', 'bm4_mkt3', 'bm4_mkt4', 'bm4_mkt5', 'bm5_mkt1', 'bm5_mkt2', 'bm5_mkt3', 'bm5_mkt4', 'bm5_mkt5'])"
      ]
     },
     "execution_count": 132,
     "metadata": {},
     "output_type": "execute_result"
    }
   ],
   "source": [
    "portfolios_dpt.keys()"
   ]
  },
  {
   "cell_type": "code",
   "execution_count": 133,
   "metadata": {},
   "outputs": [],
   "source": [
    "portfolios_ret_mean = dict()\n",
    "for k in portfolios_dpt.keys():\n",
    "    portfolios_dpt[k]['weight'] = portfolios_dpt[k].groupby('year_month')['mktcap'].apply(lambda x: x / x.sum())\n",
    "    portfolios_dpt[k]['vw_ret'] = portfolios_dpt[k]['ret'] * portfolios_dpt[k]['weight']\n",
    "    portfolios_ret_mean[k] = portfolios_dpt[k].groupby(['year_month'])['vw_ret'].sum()\n"
   ]
  },
  {
   "cell_type": "code",
   "execution_count": 134,
   "metadata": {},
   "outputs": [],
   "source": [
    "for k in portfolios_ret_mean.keys():\n",
    "    portfolios_ret_mean[k] = pd.DataFrame(portfolios_ret_mean[k])\n",
    "    portfolios_ret_mean[k].columns = ['vw_ret']\n",
    "    portfolios_ret_mean[k] = pd.merge(portfolios_ret_mean[k],rf,on=['year_month'])\n",
    "    portfolios_ret_mean[k]['vw_ex_ret'] = portfolios_ret_mean[k][\n",
    "        'vw_ret'] - portfolios_ret_mean[k]['rf']\n",
    "    "
   ]
  },
  {
   "cell_type": "code",
   "execution_count": 135,
   "metadata": {},
   "outputs": [
    {
     "data": {
      "text/plain": [
       "dict_keys(['bm1_mkt1', 'bm1_mkt2', 'bm1_mkt3', 'bm1_mkt4', 'bm1_mkt5', 'bm2_mkt1', 'bm2_mkt2', 'bm2_mkt3', 'bm2_mkt4', 'bm2_mkt5', 'bm3_mkt1', 'bm3_mkt2', 'bm3_mkt3', 'bm3_mkt4', 'bm3_mkt5', 'bm4_mkt1', 'bm4_mkt2', 'bm4_mkt3', 'bm4_mkt4', 'bm4_mkt5', 'bm5_mkt1', 'bm5_mkt2', 'bm5_mkt3', 'bm5_mkt4', 'bm5_mkt5'])"
      ]
     },
     "execution_count": 135,
     "metadata": {},
     "output_type": "execute_result"
    }
   ],
   "source": [
    "portfolios_ret_mean.keys()"
   ]
  },
  {
   "cell_type": "code",
   "execution_count": 136,
   "metadata": {},
   "outputs": [
    {
     "data": {
      "text/html": [
       "<div>\n",
       "<style scoped>\n",
       "    .dataframe tbody tr th:only-of-type {\n",
       "        vertical-align: middle;\n",
       "    }\n",
       "\n",
       "    .dataframe tbody tr th {\n",
       "        vertical-align: top;\n",
       "    }\n",
       "\n",
       "    .dataframe thead th {\n",
       "        text-align: right;\n",
       "    }\n",
       "</style>\n",
       "<table border=\"1\" class=\"dataframe\">\n",
       "  <thead>\n",
       "    <tr style=\"text-align: right;\">\n",
       "      <th></th>\n",
       "      <th>year_month</th>\n",
       "      <th>vw_ret</th>\n",
       "      <th>rf</th>\n",
       "      <th>vw_ex_ret</th>\n",
       "    </tr>\n",
       "  </thead>\n",
       "  <tbody>\n",
       "    <tr>\n",
       "      <th>0</th>\n",
       "      <td>1964-07</td>\n",
       "      <td>0.003742</td>\n",
       "      <td>0.002716</td>\n",
       "      <td>0.001026</td>\n",
       "    </tr>\n",
       "    <tr>\n",
       "      <th>1</th>\n",
       "      <td>1964-08</td>\n",
       "      <td>0.000703</td>\n",
       "      <td>0.002720</td>\n",
       "      <td>-0.002017</td>\n",
       "    </tr>\n",
       "    <tr>\n",
       "      <th>2</th>\n",
       "      <td>1964-09</td>\n",
       "      <td>0.046318</td>\n",
       "      <td>0.002936</td>\n",
       "      <td>0.043382</td>\n",
       "    </tr>\n",
       "    <tr>\n",
       "      <th>3</th>\n",
       "      <td>1964-10</td>\n",
       "      <td>0.035344</td>\n",
       "      <td>0.002856</td>\n",
       "      <td>0.032488</td>\n",
       "    </tr>\n",
       "    <tr>\n",
       "      <th>4</th>\n",
       "      <td>1964-11</td>\n",
       "      <td>-0.025896</td>\n",
       "      <td>0.002978</td>\n",
       "      <td>-0.028875</td>\n",
       "    </tr>\n",
       "  </tbody>\n",
       "</table>\n",
       "</div>"
      ],
      "text/plain": [
       "  year_month    vw_ret        rf  vw_ex_ret\n",
       "0    1964-07  0.003742  0.002716   0.001026\n",
       "1    1964-08  0.000703  0.002720  -0.002017\n",
       "2    1964-09  0.046318  0.002936   0.043382\n",
       "3    1964-10  0.035344  0.002856   0.032488\n",
       "4    1964-11 -0.025896  0.002978  -0.028875"
      ]
     },
     "execution_count": 136,
     "metadata": {},
     "output_type": "execute_result"
    }
   ],
   "source": [
    "portfolios_ret_mean['bm1_mkt1'].head()"
   ]
  },
  {
   "cell_type": "code",
   "execution_count": 137,
   "metadata": {},
   "outputs": [],
   "source": [
    "for key in portfolios_ret_mean.keys():\n",
    "    portfolios_ret_mean[key].set_index(['year_month'],inplace=True)"
   ]
  },
  {
   "cell_type": "code",
   "execution_count": 138,
   "metadata": {},
   "outputs": [
    {
     "data": {
      "text/html": [
       "<div>\n",
       "<style scoped>\n",
       "    .dataframe tbody tr th:only-of-type {\n",
       "        vertical-align: middle;\n",
       "    }\n",
       "\n",
       "    .dataframe tbody tr th {\n",
       "        vertical-align: top;\n",
       "    }\n",
       "\n",
       "    .dataframe thead th {\n",
       "        text-align: right;\n",
       "    }\n",
       "</style>\n",
       "<table border=\"1\" class=\"dataframe\">\n",
       "  <thead>\n",
       "    <tr style=\"text-align: right;\">\n",
       "      <th></th>\n",
       "      <th>vw_ret</th>\n",
       "      <th>rf</th>\n",
       "      <th>vw_ex_ret</th>\n",
       "    </tr>\n",
       "    <tr>\n",
       "      <th>year_month</th>\n",
       "      <th></th>\n",
       "      <th></th>\n",
       "      <th></th>\n",
       "    </tr>\n",
       "  </thead>\n",
       "  <tbody>\n",
       "    <tr>\n",
       "      <th>1964-07</th>\n",
       "      <td>0.003742</td>\n",
       "      <td>0.002716</td>\n",
       "      <td>0.001026</td>\n",
       "    </tr>\n",
       "    <tr>\n",
       "      <th>1964-08</th>\n",
       "      <td>0.000703</td>\n",
       "      <td>0.002720</td>\n",
       "      <td>-0.002017</td>\n",
       "    </tr>\n",
       "    <tr>\n",
       "      <th>1964-09</th>\n",
       "      <td>0.046318</td>\n",
       "      <td>0.002936</td>\n",
       "      <td>0.043382</td>\n",
       "    </tr>\n",
       "    <tr>\n",
       "      <th>1964-10</th>\n",
       "      <td>0.035344</td>\n",
       "      <td>0.002856</td>\n",
       "      <td>0.032488</td>\n",
       "    </tr>\n",
       "    <tr>\n",
       "      <th>1964-11</th>\n",
       "      <td>-0.025896</td>\n",
       "      <td>0.002978</td>\n",
       "      <td>-0.028875</td>\n",
       "    </tr>\n",
       "  </tbody>\n",
       "</table>\n",
       "</div>"
      ],
      "text/plain": [
       "              vw_ret        rf  vw_ex_ret\n",
       "year_month                               \n",
       "1964-07     0.003742  0.002716   0.001026\n",
       "1964-08     0.000703  0.002720  -0.002017\n",
       "1964-09     0.046318  0.002936   0.043382\n",
       "1964-10     0.035344  0.002856   0.032488\n",
       "1964-11    -0.025896  0.002978  -0.028875"
      ]
     },
     "execution_count": 138,
     "metadata": {},
     "output_type": "execute_result"
    }
   ],
   "source": [
    "portfolios_ret_mean['bm1_mkt1'].head()"
   ]
  },
  {
   "cell_type": "code",
   "execution_count": 150,
   "metadata": {},
   "outputs": [],
   "source": [
    "dependance = pd.DataFrame(np.hstack([pf[['vw_ex_ret']] for pf in portfolios_ret_mean.values()]))\n",
    "dependance.index = portfolios_ret_mean['bm1_mkt1'].index\n",
    "dependance.columns = portfolios_ret_mean.keys()"
   ]
  },
  {
   "cell_type": "code",
   "execution_count": 152,
   "metadata": {},
   "outputs": [],
   "source": [
    "dependance.to_csv('dependance.csv')"
   ]
  },
  {
   "cell_type": "code",
   "execution_count": 153,
   "metadata": {},
   "outputs": [],
   "source": [
    "pd.merge(dependance,factors_df,on=['year_month']).to_excel('data.xls')"
   ]
  },
  {
   "cell_type": "code",
   "execution_count": 154,
   "metadata": {},
   "outputs": [],
   "source": [
    "for k in portfolios_ret_mean.keys():\n",
    "    portfolios_ret_mean[k].drop(columns =['vw_ret','rf'],inplace=True)"
   ]
  },
  {
   "cell_type": "code",
   "execution_count": 155,
   "metadata": {},
   "outputs": [
    {
     "data": {
      "text/html": [
       "<div>\n",
       "<style scoped>\n",
       "    .dataframe tbody tr th:only-of-type {\n",
       "        vertical-align: middle;\n",
       "    }\n",
       "\n",
       "    .dataframe tbody tr th {\n",
       "        vertical-align: top;\n",
       "    }\n",
       "\n",
       "    .dataframe thead th {\n",
       "        text-align: right;\n",
       "    }\n",
       "</style>\n",
       "<table border=\"1\" class=\"dataframe\">\n",
       "  <thead>\n",
       "    <tr style=\"text-align: right;\">\n",
       "      <th></th>\n",
       "      <th>SMB</th>\n",
       "      <th>HML</th>\n",
       "      <th>RM-RF</th>\n",
       "    </tr>\n",
       "    <tr>\n",
       "      <th>year_month</th>\n",
       "      <th></th>\n",
       "      <th></th>\n",
       "      <th></th>\n",
       "    </tr>\n",
       "  </thead>\n",
       "  <tbody>\n",
       "    <tr>\n",
       "      <th>1964-07</th>\n",
       "      <td>0.005448</td>\n",
       "      <td>-0.022953</td>\n",
       "      <td>0.013765</td>\n",
       "    </tr>\n",
       "    <tr>\n",
       "      <th>1964-08</th>\n",
       "      <td>0.016718</td>\n",
       "      <td>-0.007786</td>\n",
       "      <td>-0.020713</td>\n",
       "    </tr>\n",
       "    <tr>\n",
       "      <th>1964-09</th>\n",
       "      <td>0.001075</td>\n",
       "      <td>0.009564</td>\n",
       "      <td>0.019680</td>\n",
       "    </tr>\n",
       "    <tr>\n",
       "      <th>1964-10</th>\n",
       "      <td>0.017278</td>\n",
       "      <td>-0.005399</td>\n",
       "      <td>0.001944</td>\n",
       "    </tr>\n",
       "    <tr>\n",
       "      <th>1964-11</th>\n",
       "      <td>0.022828</td>\n",
       "      <td>-0.028159</td>\n",
       "      <td>-0.019761</td>\n",
       "    </tr>\n",
       "  </tbody>\n",
       "</table>\n",
       "</div>"
      ],
      "text/plain": [
       "                 SMB       HML     RM-RF\n",
       "year_month                              \n",
       "1964-07     0.005448 -0.022953  0.013765\n",
       "1964-08     0.016718 -0.007786 -0.020713\n",
       "1964-09     0.001075  0.009564  0.019680\n",
       "1964-10     0.017278 -0.005399  0.001944\n",
       "1964-11     0.022828 -0.028159 -0.019761"
      ]
     },
     "execution_count": 155,
     "metadata": {},
     "output_type": "execute_result"
    }
   ],
   "source": [
    "factors_df.head()"
   ]
  },
  {
   "cell_type": "code",
   "execution_count": 159,
   "metadata": {},
   "outputs": [
    {
     "data": {
      "text/plain": [
       "<AxesSubplot:xlabel='year_month'>"
      ]
     },
     "execution_count": 159,
     "metadata": {},
     "output_type": "execute_result"
    },
    {
     "data": {
      "image/png": "[encoded data removed]",
      "text/plain": [
       "<Figure size 720x360 with 1 Axes>"
      ]
     },
     "metadata": {
      "needs_background": "light"
     },
     "output_type": "display_data"
    }
   ],
   "source": [
    "(1+factors_df).cumprod().plot(figsize=(10,5))"
   ]
  },
  {
   "cell_type": "code",
   "execution_count": 163,
   "metadata": {},
   "outputs": [],
   "source": [
    "import ipystata\n",
    "from ipystata.config import config_stata\n",
    "path = r'‪E:\\Stata16SE\\Stata16\\StataSE-64.exe'\n",
    "path =path.encode('utf-8')\n",
    "config_stata(path)"
   ]
  },
  {
   "cell_type": "code",
   "execution_count": 164,
   "metadata": {},
   "outputs": [],
   "source": [
    "df = pd.merge(portfolios_ret_mean['bm5_mkt1'],factors_df,on=['year_month'])\n",
    "df.rename(columns={'RM-RF':'RM_RF'},inplace=True)\n",
    "df  = df[['vw_ex_ret', 'SMB', 'HML', 'RM_RF']].apply(pd.to_numeric)"
   ]
  },
  {
   "cell_type": "code",
   "execution_count": 169,
   "metadata": {},
   "outputs": [],
   "source": [
    "df.reset_index(drop=True,inplace=True)"
   ]
  },
  {
   "cell_type": "code",
   "execution_count": 170,
   "metadata": {
    "scrolled": true
   },
   "outputs": [
    {
     "name": "stdout",
     "output_type": "stream",
     "text": [
      "\n",
      "      Source |       SS           df       MS      Number of obs   =       330\n",
      "-------------+----------------------------------   F(1, 328)       =    272.64\n",
      "       Model |  .725975974         1  .725975974   Prob > F        =    0.0000\n",
      "    Residual |  .873396258       328  .002662793   R-squared       =    0.4539\n",
      "-------------+----------------------------------   Adj R-squared   =    0.4522\n",
      "       Total |  1.59937223       329  .004861314   Root MSE        =     .0516\n",
      "\n",
      "------------------------------------------------------------------------------\n",
      "   vw_ex_ret |      Coef.   Std. Err.      t    P>|t|     [95% Conf. Interval]\n",
      "-------------+----------------------------------------------------------------\n",
      "       RM_RF |   1.011503   .0612597    16.51   0.000     .8909913    1.132014\n",
      "       _cons |   .0171676   .0028511     6.02   0.000     .0115589    .0227762\n",
      "------------------------------------------------------------------------------\n",
      "\n"
     ]
    }
   ],
   "source": [
    "%%stata -d df\n",
    "reg vw_ex_ret RM_RF"
   ]
  },
  {
   "cell_type": "code",
   "execution_count": 171,
   "metadata": {},
   "outputs": [],
   "source": [
    "df = pd.merge(portfolios_ret_mean['bm5_mkt1'],factors_df,on=['year_month'])\n",
    "df.rename(columns={'RM-RF':'RM_RF'},inplace=True)"
   ]
  },
  {
   "cell_type": "code",
   "execution_count": 172,
   "metadata": {},
   "outputs": [],
   "source": [
    "df.to_csv('factor.csv')"
   ]
  },
  {
   "cell_type": "code",
   "execution_count": null,
   "metadata": {},
   "outputs": [],
   "source": []
  },
  {
   "cell_type": "code",
   "execution_count": null,
   "metadata": {},
   "outputs": [],
   "source": []
  },
  {
   "cell_type": "code",
   "execution_count": null,
   "metadata": {},
   "outputs": [],
   "source": []
  },
  {
   "cell_type": "code",
   "execution_count": null,
   "metadata": {},
   "outputs": [],
   "source": []
  },
  {
   "cell_type": "code",
   "execution_count": null,
   "metadata": {},
   "outputs": [],
   "source": []
  },
  {
   "cell_type": "code",
   "execution_count": null,
   "metadata": {},
   "outputs": [],
   "source": []
  }
 ],
 "metadata": {
  "kernelspec": {
   "display_name": "Python 3",
   "language": "python",
   "name": "python3"
  },
  "language_info": {
   "codemirror_mode": {
    "name": "ipython",
    "version": 3
   },
   "file_extension": ".py",
   "mimetype": "text/x-python",
   "name": "python",
   "nbconvert_exporter": "python",
   "pygments_lexer": "ipython3",
   "version": "3.7.0"
  },
  "toc": {
   "base_numbering": 1,
   "nav_menu": {},
   "number_sections": true,
   "sideBar": true,
   "skip_h1_title": true,
   "title_cell": "Table of Contents",
   "title_sidebar": "Contents",
   "toc_cell": false,
   "toc_position": {
    "height": "100px",
    "left": "785.972px",
    "top": "144.861px",
    "width": "203.899px"
   },
   "toc_section_display": true,
   "toc_window_display": false
  }
 },
 "nbformat": 4,
 "nbformat_minor": 2
}
